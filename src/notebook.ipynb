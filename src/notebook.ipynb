{
  "nbformat": 4,
  "nbformat_minor": 0,
  "metadata": {
    "kernelspec": {
      "display_name": "Python 3",
      "language": "python",
      "name": "python3"
    },
    "language_info": {
      "codemirror_mode": {
        "name": "ipython",
        "version": 3
      },
      "file_extension": ".py",
      "mimetype": "text/x-python",
      "name": "python",
      "nbconvert_exporter": "python",
      "pygments_lexer": "ipython3",
      "version": "3.8.5"
    },
    "colab": {
      "name": "notebook.ipynb",
      "provenance": [],
      "toc_visible": true
    }
  },
  "cells": [
    {
      "cell_type": "code",
      "metadata": {
        "id": "HinDrsDV4CRk"
      },
      "source": [
        "import os\n",
        "import pandas as pd\n",
        "import numpy as np\n",
        "from sys import platform"
      ],
      "execution_count": 1,
      "outputs": []
    },
    {
      "cell_type": "code",
      "metadata": {
        "id": "IZ--k6TboGlM"
      },
      "source": [
        "!pip install spacytextblob"
      ],
      "execution_count": null,
      "outputs": []
    },
    {
      "cell_type": "code",
      "metadata": {
        "id": "j8VjWQlOo3Z1"
      },
      "source": [
        "!python -m spacy download en_core_web_sm"
      ],
      "execution_count": null,
      "outputs": []
    },
    {
      "cell_type": "code",
      "metadata": {
        "id": "CDB4PQrY4CR2"
      },
      "source": [
        "# train_zip = 'train.zip'\n",
        "# test_zip  = 'test.zip'\n",
        "# train_file = 'train.csv'\n",
        "# test_file = 'test.csv'"
      ],
      "execution_count": 2,
      "outputs": []
    },
    {
      "cell_type": "code",
      "metadata": {
        "id": "b7QUxZpq4CR2"
      },
      "source": [
        "# def is_colab():\n",
        "#     return 'google.colab' in str(get_ipython())\n",
        "\n",
        "# def check_file(filename):\n",
        "#     if not os.path.exists(filename):\n",
        "#         if is_colab():\n",
        "#             from google.colab import files\n",
        "#             print(f\"Please upload {filename} file\")\n",
        "#             uploaded = files.upload()\n",
        "#         else:\n",
        "#             print(f\"{filename} not exist, this notebook require {filename} to run\")\n",
        "#     else:\n",
        "#         print(f\"{filename} ready\")\n",
        "\n",
        "# def unzip(src, dest):\n",
        "#     if not os.path.exists(dest):\n",
        "#         if platform == \"linux\" or platform == \"linux2\":\n",
        "#             !unzip {src} \n",
        "#         elif platform == \"win32\":\n",
        "#             !tar -xf {src}\n",
        "#         else:\n",
        "#             print(f\"Please unzip {src} manually\")\n",
        "\n",
        "# check_file(train_zip)\n",
        "# check_file(test_zip)\n",
        "\n",
        "# # System check\n",
        "# # Unzip data files if not already exist\n",
        "# unzip(train_zip, train_file)\n",
        "# unzip(test_zip, test_file)"
      ],
      "execution_count": 3,
      "outputs": []
    },
    {
      "cell_type": "code",
      "metadata": {
        "id": "kRefyIY5lcvE"
      },
      "source": [
        "train_file = \"/content/drive/MyDrive/Colab Notebooks/train.csv\"\n",
        "test_file = \"/content/drive/MyDrive/Colab Notebooks/test.csv\""
      ],
      "execution_count": 4,
      "outputs": []
    },
    {
      "cell_type": "code",
      "metadata": {
        "id": "SdR72eUn4CR3",
        "colab": {
          "base_uri": "https://localhost:8080/",
          "height": 203
        },
        "outputId": "559b1fc2-1e62-4a95-ce74-3cf38531679b"
      },
      "source": [
        "train_df, test_df = pd.read_csv(train_file), pd.read_csv(test_file)\n",
        "train_df.head()"
      ],
      "execution_count": 5,
      "outputs": [
        {
          "output_type": "execute_result",
          "data": {
            "text/html": [
              "<div>\n",
              "<style scoped>\n",
              "    .dataframe tbody tr th:only-of-type {\n",
              "        vertical-align: middle;\n",
              "    }\n",
              "\n",
              "    .dataframe tbody tr th {\n",
              "        vertical-align: top;\n",
              "    }\n",
              "\n",
              "    .dataframe thead th {\n",
              "        text-align: right;\n",
              "    }\n",
              "</style>\n",
              "<table border=\"1\" class=\"dataframe\">\n",
              "  <thead>\n",
              "    <tr style=\"text-align: right;\">\n",
              "      <th></th>\n",
              "      <th>overall</th>\n",
              "      <th>reviewTime</th>\n",
              "      <th>reviewerID</th>\n",
              "      <th>reviewText</th>\n",
              "      <th>summary</th>\n",
              "      <th>unixReviewTime</th>\n",
              "      <th>category</th>\n",
              "      <th>price</th>\n",
              "      <th>itemID</th>\n",
              "      <th>reviewHash</th>\n",
              "      <th>image</th>\n",
              "    </tr>\n",
              "  </thead>\n",
              "  <tbody>\n",
              "    <tr>\n",
              "      <th>0</th>\n",
              "      <td>5.0</td>\n",
              "      <td>08 26, 2014</td>\n",
              "      <td>u92990698</td>\n",
              "      <td>A contemporary jazz and soul performer who's m...</td>\n",
              "      <td>\" CLASSIQUE \"</td>\n",
              "      <td>1409011200</td>\n",
              "      <td>Jazz</td>\n",
              "      <td>$8.40</td>\n",
              "      <td>p23649501</td>\n",
              "      <td>3856620</td>\n",
              "      <td>NaN</td>\n",
              "    </tr>\n",
              "    <tr>\n",
              "      <th>1</th>\n",
              "      <td>5.0</td>\n",
              "      <td>05 11, 2003</td>\n",
              "      <td>u36200649</td>\n",
              "      <td>Very good idea to put both the 'pop' and 'orch...</td>\n",
              "      <td>Exceeded my Expectations - This album RAWKS!</td>\n",
              "      <td>1052611200</td>\n",
              "      <td>Alternative Rock</td>\n",
              "      <td>$10.98</td>\n",
              "      <td>p58458313</td>\n",
              "      <td>56086781</td>\n",
              "      <td>NaN</td>\n",
              "    </tr>\n",
              "    <tr>\n",
              "      <th>2</th>\n",
              "      <td>5.0</td>\n",
              "      <td>12 5, 2017</td>\n",
              "      <td>u10721702</td>\n",
              "      <td>This is a great collection of Carole King's so...</td>\n",
              "      <td>A Must-have for Carole King Fans</td>\n",
              "      <td>1512432000</td>\n",
              "      <td>Pop</td>\n",
              "      <td>$5.99</td>\n",
              "      <td>p97027626</td>\n",
              "      <td>55852154</td>\n",
              "      <td>NaN</td>\n",
              "    </tr>\n",
              "    <tr>\n",
              "      <th>3</th>\n",
              "      <td>5.0</td>\n",
              "      <td>09 24, 2013</td>\n",
              "      <td>u86003775</td>\n",
              "      <td>The is album is a brilliant piece of Jazz fusi...</td>\n",
              "      <td>A Master piece!</td>\n",
              "      <td>1379980800</td>\n",
              "      <td>Jazz</td>\n",
              "      <td>$14.64</td>\n",
              "      <td>p43167086</td>\n",
              "      <td>43228100</td>\n",
              "      <td>NaN</td>\n",
              "    </tr>\n",
              "    <tr>\n",
              "      <th>4</th>\n",
              "      <td>5.0</td>\n",
              "      <td>01 14, 2015</td>\n",
              "      <td>u25672859</td>\n",
              "      <td>Waited a LONG time for this DVD to be released...</td>\n",
              "      <td>especially if you like concert videos</td>\n",
              "      <td>1421193600</td>\n",
              "      <td>Alternative Rock</td>\n",
              "      <td>$9.92</td>\n",
              "      <td>p94494236</td>\n",
              "      <td>54425467</td>\n",
              "      <td>NaN</td>\n",
              "    </tr>\n",
              "  </tbody>\n",
              "</table>\n",
              "</div>"
            ],
            "text/plain": [
              "   overall   reviewTime reviewerID  ...     itemID reviewHash  image\n",
              "0      5.0  08 26, 2014  u92990698  ...  p23649501    3856620    NaN\n",
              "1      5.0  05 11, 2003  u36200649  ...  p58458313   56086781    NaN\n",
              "2      5.0   12 5, 2017  u10721702  ...  p97027626   55852154    NaN\n",
              "3      5.0  09 24, 2013  u86003775  ...  p43167086   43228100    NaN\n",
              "4      5.0  01 14, 2015  u25672859  ...  p94494236   54425467    NaN\n",
              "\n",
              "[5 rows x 11 columns]"
            ]
          },
          "metadata": {
            "tags": []
          },
          "execution_count": 5
        }
      ]
    },
    {
      "cell_type": "code",
      "metadata": {
        "id": "oGkJkeA24CR4",
        "colab": {
          "base_uri": "https://localhost:8080/",
          "height": 203
        },
        "outputId": "77d2998d-1872-481b-dbb7-6bb3aecb1e6b"
      },
      "source": [
        "test_df.head()"
      ],
      "execution_count": 6,
      "outputs": [
        {
          "output_type": "execute_result",
          "data": {
            "text/html": [
              "<div>\n",
              "<style scoped>\n",
              "    .dataframe tbody tr th:only-of-type {\n",
              "        vertical-align: middle;\n",
              "    }\n",
              "\n",
              "    .dataframe tbody tr th {\n",
              "        vertical-align: top;\n",
              "    }\n",
              "\n",
              "    .dataframe thead th {\n",
              "        text-align: right;\n",
              "    }\n",
              "</style>\n",
              "<table border=\"1\" class=\"dataframe\">\n",
              "  <thead>\n",
              "    <tr style=\"text-align: right;\">\n",
              "      <th></th>\n",
              "      <th>reviewTime</th>\n",
              "      <th>reviewerID</th>\n",
              "      <th>reviewText</th>\n",
              "      <th>summary</th>\n",
              "      <th>unixReviewTime</th>\n",
              "      <th>category</th>\n",
              "      <th>price</th>\n",
              "      <th>itemID</th>\n",
              "      <th>reviewHash</th>\n",
              "      <th>image</th>\n",
              "    </tr>\n",
              "  </thead>\n",
              "  <tbody>\n",
              "    <tr>\n",
              "      <th>0</th>\n",
              "      <td>02 11, 2017</td>\n",
              "      <td>u04140621</td>\n",
              "      <td>ok</td>\n",
              "      <td>Five Stars</td>\n",
              "      <td>1486771200</td>\n",
              "      <td>Pop</td>\n",
              "      <td>$31.20</td>\n",
              "      <td>p65721979</td>\n",
              "      <td>98944233</td>\n",
              "      <td>NaN</td>\n",
              "    </tr>\n",
              "    <tr>\n",
              "      <th>1</th>\n",
              "      <td>01 29, 2018</td>\n",
              "      <td>u74766187</td>\n",
              "      <td>The 1955 and 1958 sets alone are worth the pur...</td>\n",
              "      <td>Buy It For the 1955 Set With Monk!</td>\n",
              "      <td>1517184000</td>\n",
              "      <td>Jazz</td>\n",
              "      <td>$34.04</td>\n",
              "      <td>p87809670</td>\n",
              "      <td>33903910</td>\n",
              "      <td>NaN</td>\n",
              "    </tr>\n",
              "    <tr>\n",
              "      <th>2</th>\n",
              "      <td>08 29, 2005</td>\n",
              "      <td>u31689638</td>\n",
              "      <td>Mary J Blige is someone most people know of. S...</td>\n",
              "      <td>Mary's excellent debut! Classic!</td>\n",
              "      <td>1125273600</td>\n",
              "      <td>Pop</td>\n",
              "      <td>$1.72</td>\n",
              "      <td>p52702240</td>\n",
              "      <td>35386470</td>\n",
              "      <td>NaN</td>\n",
              "    </tr>\n",
              "    <tr>\n",
              "      <th>3</th>\n",
              "      <td>11 2, 2015</td>\n",
              "      <td>u35613516</td>\n",
              "      <td>Very good satch album</td>\n",
              "      <td>Four Stars</td>\n",
              "      <td>1446422400</td>\n",
              "      <td>Pop</td>\n",
              "      <td>$10.99</td>\n",
              "      <td>p01314374</td>\n",
              "      <td>12404766</td>\n",
              "      <td>NaN</td>\n",
              "    </tr>\n",
              "    <tr>\n",
              "      <th>4</th>\n",
              "      <td>01 3, 2012</td>\n",
              "      <td>u93320378</td>\n",
              "      <td>Well there are hundreds of Christmas anthologi...</td>\n",
              "      <td>CD lives up to its name</td>\n",
              "      <td>1325548800</td>\n",
              "      <td>Alternative Rock</td>\n",
              "      <td>$7.98</td>\n",
              "      <td>p84396269</td>\n",
              "      <td>68253688</td>\n",
              "      <td>NaN</td>\n",
              "    </tr>\n",
              "  </tbody>\n",
              "</table>\n",
              "</div>"
            ],
            "text/plain": [
              "    reviewTime reviewerID  ... reviewHash image\n",
              "0  02 11, 2017  u04140621  ...   98944233   NaN\n",
              "1  01 29, 2018  u74766187  ...   33903910   NaN\n",
              "2  08 29, 2005  u31689638  ...   35386470   NaN\n",
              "3   11 2, 2015  u35613516  ...   12404766   NaN\n",
              "4   01 3, 2012  u93320378  ...   68253688   NaN\n",
              "\n",
              "[5 rows x 10 columns]"
            ]
          },
          "metadata": {
            "tags": []
          },
          "execution_count": 6
        }
      ]
    },
    {
      "cell_type": "code",
      "metadata": {
        "id": "Zu-2rIalaAWw",
        "colab": {
          "base_uri": "https://localhost:8080/"
        },
        "outputId": "57c548c0-1bc5-40b2-c1ea-87057115267b"
      },
      "source": [
        "print(f'training set shape: {train_df.shape}')\n",
        "print(f'testing set shape: {test_df.shape}')"
      ],
      "execution_count": 7,
      "outputs": [
        {
          "output_type": "stream",
          "text": [
            "training set shape: (150000, 11)\n",
            "testing set shape: (20000, 10)\n"
          ],
          "name": "stdout"
        }
      ]
    },
    {
      "cell_type": "code",
      "metadata": {
        "id": "0xM3Hc9onaHF",
        "colab": {
          "base_uri": "https://localhost:8080/"
        },
        "outputId": "04eeb2a0-13e3-482a-88f5-6240a3ba3226"
      },
      "source": [
        "print(f'Number of reviewText nan in training set: {train_df.reviewText.isna().sum()}')\n",
        "print(f'Number of reviewText nan in testing set: {test_df.reviewText.isna().sum()}')"
      ],
      "execution_count": 8,
      "outputs": [
        {
          "output_type": "stream",
          "text": [
            "Number of reviewText nan in training set: 28\n",
            "Number of reviewText nan in testing set: 3\n"
          ],
          "name": "stdout"
        }
      ]
    },
    {
      "cell_type": "code",
      "metadata": {
        "id": "PYZOYZWjaKdb"
      },
      "source": [
        "train_df.dropna(axis=0, subset=['reviewText'], inplace=True)\n",
        "test_df.dropna(axis=0, subset=['reviewText'], inplace=True)"
      ],
      "execution_count": 9,
      "outputs": []
    },
    {
      "cell_type": "code",
      "metadata": {
        "id": "G-ZjQ7UXOjvo",
        "colab": {
          "base_uri": "https://localhost:8080/",
          "height": 48
        },
        "outputId": "1446990b-e41a-48da-ccb8-d880cc3433de"
      },
      "source": [
        "train_df[train_df.reviewText.isna()==1]"
      ],
      "execution_count": 10,
      "outputs": [
        {
          "output_type": "execute_result",
          "data": {
            "text/html": [
              "<div>\n",
              "<style scoped>\n",
              "    .dataframe tbody tr th:only-of-type {\n",
              "        vertical-align: middle;\n",
              "    }\n",
              "\n",
              "    .dataframe tbody tr th {\n",
              "        vertical-align: top;\n",
              "    }\n",
              "\n",
              "    .dataframe thead th {\n",
              "        text-align: right;\n",
              "    }\n",
              "</style>\n",
              "<table border=\"1\" class=\"dataframe\">\n",
              "  <thead>\n",
              "    <tr style=\"text-align: right;\">\n",
              "      <th></th>\n",
              "      <th>overall</th>\n",
              "      <th>reviewTime</th>\n",
              "      <th>reviewerID</th>\n",
              "      <th>reviewText</th>\n",
              "      <th>summary</th>\n",
              "      <th>unixReviewTime</th>\n",
              "      <th>category</th>\n",
              "      <th>price</th>\n",
              "      <th>itemID</th>\n",
              "      <th>reviewHash</th>\n",
              "      <th>image</th>\n",
              "    </tr>\n",
              "  </thead>\n",
              "  <tbody>\n",
              "  </tbody>\n",
              "</table>\n",
              "</div>"
            ],
            "text/plain": [
              "Empty DataFrame\n",
              "Columns: [overall, reviewTime, reviewerID, reviewText, summary, unixReviewTime, category, price, itemID, reviewHash, image]\n",
              "Index: []"
            ]
          },
          "metadata": {
            "tags": []
          },
          "execution_count": 10
        }
      ]
    },
    {
      "cell_type": "code",
      "metadata": {
        "id": "xAaX0CA7PaJd"
      },
      "source": [
        "# drop rows with NaN review te"
      ],
      "execution_count": 11,
      "outputs": []
    },
    {
      "cell_type": "markdown",
      "metadata": {
        "id": "WjIDCaYg7xhq"
      },
      "source": [
        "# Preprocess reviewText using NLP"
      ]
    },
    {
      "cell_type": "code",
      "metadata": {
        "id": "XwUZ3OGU7wys"
      },
      "source": [
        "import spacy\n",
        "import html\n",
        "import re\n",
        "from spacytextblob.spacytextblob import SpacyTextBlob\n",
        "from tqdm import tqdm\n",
        "\n",
        "nlp = spacy.load('en_core_web_sm')\n",
        "sentencizer = nlp.create_pipe(\"sentencizer\")\n",
        "spacy_text_blob = SpacyTextBlob()\n",
        "nlp.add_pipe(spacy_text_blob)\n",
        "nlp.add_pipe(sentencizer)\n",
        "all_stopwords = nlp.Defaults.stop_words\n",
        "\n",
        "\n",
        "\n",
        "def cleanhtml(raw_html):\n",
        "  cleanr = re.compile('/<[^>]+>/')\n",
        "  cleantext = re.sub(cleanr, '', raw_html)\n",
        "  return cleantext\n",
        "\n",
        "def clean(review):\n",
        "  modReview = review\n",
        "  # remove html tags and attributes\n",
        "  modReview = cleanhtml(review)\n",
        "  # replace newlines with spaces\n",
        "  modReview = modReview.replace(\"\\n\", \" \").replace(\"\\r\", \" \")\n",
        "  # unescape html\n",
        "  modReview = html.unescape(modReview)\n",
        "  # remove URLs\n",
        "  # reference: https://stackoverflow.com/questions/3809401/what-is-a-good-regular-expression-to-match-a-url\n",
        "  modReview = re.sub(r\"https?:\\/\\/(www\\.)?[-a-zA-Z0-9@:%._\\+~#=]{1,256}\\.[a-zA-Z0-9()]{1,6}\\b([-a-zA-Z0-9()@:%_\\+.~#?&//=]*)\", \"\", modReview)\n",
        "  # lower case\n",
        "  modReview = modReview.lower()\n",
        "  # remove duplicate spaces\n",
        "  modReview = \" \".join(modReview.split())\n",
        "  return modReview\n",
        "\n",
        "def preproc_reviews(nlp, reviews):\n",
        "  preproced_reviews = []\n",
        "  polarities = []\n",
        "  subjectivities = []\n",
        "  # With as many processes as CPUs (use with caution!)\n",
        "  for doc in tqdm(nlp.pipe(reviews, n_process=-1)):\n",
        "    preproced_review = \"\"\n",
        "    polarities.append(doc._.sentiment.polarity)\n",
        "    subjectivities.append(doc._.sentiment.subjectivity)\n",
        "\n",
        "    if len(doc.text) > 0:\n",
        "      for sent in doc.sents:\n",
        "        wordsList = []\n",
        "        for token in sent:\n",
        "          if len(token.text.strip()) != 0:\n",
        "            # tagging\n",
        "            #    * Write \"/POS\" after each token.\n",
        "            tag = token.tag_\n",
        "\n",
        "            #lemmatization\n",
        "            if token.lemma_[0] == '-' and token.text[0] != '-':\n",
        "                lemma = token.text\n",
        "            else:\n",
        "                lemma = token.lemma_\n",
        "            \n",
        "            # remove stop words\n",
        "            if not lemma in all_stopwords:\n",
        "              wordsList.append(lemma + \"/\" + tag)\n",
        "\n",
        "        #    * Split tokens with spaces.\n",
        "        sent = \" \".join(wordsList)\n",
        "\n",
        "        #    * Insert period between sentences.\n",
        "        if sent and sent[-1] != '.':\n",
        "            sent += '.'\n",
        "\n",
        "        preproced_review += sent\n",
        "        #    * Insert space between sentences.\n",
        "        preproced_review += \" \"\n",
        "      preproced_review = clean(preproced_review)\n",
        "    preproced_reviews.append(preproced_review)\n",
        "  return preproced_reviews, polarities, subjectivities"
      ],
      "execution_count": 14,
      "outputs": []
    },
    {
      "cell_type": "code",
      "metadata": {
        "id": "vyNEVUMGzFtA"
      },
      "source": [
        "preproced_reviews, polarities, subjectivities = pd.Series(preproc_reviews(nlp, train_df['reviewText']))"
      ],
      "execution_count": null,
      "outputs": []
    },
    {
      "cell_type": "code",
      "metadata": {
        "id": "4QNa_1F9Ar3o"
      },
      "source": [
        "train_df['preproced_text'], train_df['polarities'], train_df['subjectivities'] = preproced_reviews, polarities, subjectivities"
      ],
      "execution_count": null,
      "outputs": []
    },
    {
      "cell_type": "code",
      "metadata": {
        "id": "5xYzo6PxA2V7",
        "colab": {
          "base_uri": "https://localhost:8080/"
        },
        "outputId": "3afd7718-95c6-4b13-bef3-a37f1f6e8572"
      },
      "source": [
        "train_df['preproced_text'].isna().sum()"
      ],
      "execution_count": null,
      "outputs": [
        {
          "output_type": "execute_result",
          "data": {
            "text/plain": [
              "28"
            ]
          },
          "metadata": {
            "tags": []
          },
          "execution_count": 62
        }
      ]
    },
    {
      "cell_type": "code",
      "metadata": {
        "id": "jBGri3kqmPjt",
        "colab": {
          "base_uri": "https://localhost:8080/",
          "height": 588
        },
        "outputId": "9b83ec8f-da86-45a8-f554-446ed3f92d6f"
      },
      "source": [
        "train_df"
      ],
      "execution_count": null,
      "outputs": [
        {
          "output_type": "execute_result",
          "data": {
            "text/html": [
              "<div>\n",
              "<style scoped>\n",
              "    .dataframe tbody tr th:only-of-type {\n",
              "        vertical-align: middle;\n",
              "    }\n",
              "\n",
              "    .dataframe tbody tr th {\n",
              "        vertical-align: top;\n",
              "    }\n",
              "\n",
              "    .dataframe thead th {\n",
              "        text-align: right;\n",
              "    }\n",
              "</style>\n",
              "<table border=\"1\" class=\"dataframe\">\n",
              "  <thead>\n",
              "    <tr style=\"text-align: right;\">\n",
              "      <th></th>\n",
              "      <th>overall</th>\n",
              "      <th>reviewTime</th>\n",
              "      <th>reviewerID</th>\n",
              "      <th>reviewText</th>\n",
              "      <th>summary</th>\n",
              "      <th>unixReviewTime</th>\n",
              "      <th>category</th>\n",
              "      <th>price</th>\n",
              "      <th>itemID</th>\n",
              "      <th>reviewHash</th>\n",
              "      <th>image</th>\n",
              "      <th>preproced_text</th>\n",
              "      <th>polarities</th>\n",
              "      <th>subjectivities</th>\n",
              "    </tr>\n",
              "  </thead>\n",
              "  <tbody>\n",
              "    <tr>\n",
              "      <th>0</th>\n",
              "      <td>5.0</td>\n",
              "      <td>08 26, 2014</td>\n",
              "      <td>u92990698</td>\n",
              "      <td>A contemporary jazz and soul performer who's m...</td>\n",
              "      <td>\" CLASSIQUE \"</td>\n",
              "      <td>1409011200</td>\n",
              "      <td>Jazz</td>\n",
              "      <td>$8.40</td>\n",
              "      <td>p23649501</td>\n",
              "      <td>3856620</td>\n",
              "      <td>NaN</td>\n",
              "      <td>contemporary/jj jazz/nn soul/nn performer/jj -...</td>\n",
              "      <td>0.229849</td>\n",
              "      <td>0.426437</td>\n",
              "    </tr>\n",
              "    <tr>\n",
              "      <th>1</th>\n",
              "      <td>5.0</td>\n",
              "      <td>05 11, 2003</td>\n",
              "      <td>u36200649</td>\n",
              "      <td>Very good idea to put both the 'pop' and 'orch...</td>\n",
              "      <td>Exceeded my Expectations - This album RAWKS!</td>\n",
              "      <td>1052611200</td>\n",
              "      <td>Alternative Rock</td>\n",
              "      <td>$10.98</td>\n",
              "      <td>p58458313</td>\n",
              "      <td>56086781</td>\n",
              "      <td>NaN</td>\n",
              "      <td>good/jj idea/nn '/`` pop/nn '/'' '/`` orchestr...</td>\n",
              "      <td>0.280937</td>\n",
              "      <td>0.460303</td>\n",
              "    </tr>\n",
              "    <tr>\n",
              "      <th>2</th>\n",
              "      <td>5.0</td>\n",
              "      <td>12 5, 2017</td>\n",
              "      <td>u10721702</td>\n",
              "      <td>This is a great collection of Carole King's so...</td>\n",
              "      <td>A Must-have for Carole King Fans</td>\n",
              "      <td>1512432000</td>\n",
              "      <td>Pop</td>\n",
              "      <td>$5.99</td>\n",
              "      <td>p97027626</td>\n",
              "      <td>55852154</td>\n",
              "      <td>NaN</td>\n",
              "      <td>great/jj collection/nn carole/nnp king/nnp son...</td>\n",
              "      <td>0.800000</td>\n",
              "      <td>0.750000</td>\n",
              "    </tr>\n",
              "    <tr>\n",
              "      <th>3</th>\n",
              "      <td>5.0</td>\n",
              "      <td>09 24, 2013</td>\n",
              "      <td>u86003775</td>\n",
              "      <td>The is album is a brilliant piece of Jazz fusi...</td>\n",
              "      <td>A Master piece!</td>\n",
              "      <td>1379980800</td>\n",
              "      <td>Jazz</td>\n",
              "      <td>$14.64</td>\n",
              "      <td>p43167086</td>\n",
              "      <td>43228100</td>\n",
              "      <td>NaN</td>\n",
              "      <td>album/nn brilliant/jj piece/nn jazz/nnp fusion...</td>\n",
              "      <td>0.680208</td>\n",
              "      <td>0.800000</td>\n",
              "    </tr>\n",
              "    <tr>\n",
              "      <th>4</th>\n",
              "      <td>5.0</td>\n",
              "      <td>01 14, 2015</td>\n",
              "      <td>u25672859</td>\n",
              "      <td>Waited a LONG time for this DVD to be released...</td>\n",
              "      <td>especially if you like concert videos</td>\n",
              "      <td>1421193600</td>\n",
              "      <td>Alternative Rock</td>\n",
              "      <td>$9.92</td>\n",
              "      <td>p94494236</td>\n",
              "      <td>54425467</td>\n",
              "      <td>NaN</td>\n",
              "      <td>wait/vbd long/jj time/nn dvd/nn release/vbn ./...</td>\n",
              "      <td>0.129478</td>\n",
              "      <td>0.440930</td>\n",
              "    </tr>\n",
              "    <tr>\n",
              "      <th>...</th>\n",
              "      <td>...</td>\n",
              "      <td>...</td>\n",
              "      <td>...</td>\n",
              "      <td>...</td>\n",
              "      <td>...</td>\n",
              "      <td>...</td>\n",
              "      <td>...</td>\n",
              "      <td>...</td>\n",
              "      <td>...</td>\n",
              "      <td>...</td>\n",
              "      <td>...</td>\n",
              "      <td>...</td>\n",
              "      <td>...</td>\n",
              "      <td>...</td>\n",
              "    </tr>\n",
              "    <tr>\n",
              "      <th>149995</th>\n",
              "      <td>5.0</td>\n",
              "      <td>09 12, 2013</td>\n",
              "      <td>u29136602</td>\n",
              "      <td>There is just something about Wesley's voice t...</td>\n",
              "      <td>Just right.</td>\n",
              "      <td>1378944000</td>\n",
              "      <td>Alternative Rock</td>\n",
              "      <td>$9.49</td>\n",
              "      <td>p26326919</td>\n",
              "      <td>90575108</td>\n",
              "      <td>NaN</td>\n",
              "      <td>wesley/nnp voice/nn swoon/nn little/jj bit/nn ...</td>\n",
              "      <td>0.195663</td>\n",
              "      <td>0.553061</td>\n",
              "    </tr>\n",
              "    <tr>\n",
              "      <th>149996</th>\n",
              "      <td>5.0</td>\n",
              "      <td>05 15, 2016</td>\n",
              "      <td>u51715193</td>\n",
              "      <td>How many recordings of Verdis Requiem do you o...</td>\n",
              "      <td>Being there  in vibrant immediacy of performan...</td>\n",
              "      <td>1463270400</td>\n",
              "      <td>Classical</td>\n",
              "      <td>$14.83</td>\n",
              "      <td>p69247882</td>\n",
              "      <td>74425587</td>\n",
              "      <td>NaN</td>\n",
              "      <td>recording/nns verdis/nnp requiem/nnp ?/. -/hyp...</td>\n",
              "      <td>0.263781</td>\n",
              "      <td>0.590520</td>\n",
              "    </tr>\n",
              "    <tr>\n",
              "      <th>149997</th>\n",
              "      <td>5.0</td>\n",
              "      <td>06 13, 2004</td>\n",
              "      <td>u28696060</td>\n",
              "      <td>....their best overall album.  After the revis...</td>\n",
              "      <td>Creative rebirth and possibly....</td>\n",
              "      <td>1087084800</td>\n",
              "      <td>Alternative Rock</td>\n",
              "      <td>$18.86</td>\n",
              "      <td>p07028930</td>\n",
              "      <td>20399056</td>\n",
              "      <td>NaN</td>\n",
              "      <td>..../nfp good/jjs overall/jj album/nn ./. revi...</td>\n",
              "      <td>0.171429</td>\n",
              "      <td>0.457143</td>\n",
              "    </tr>\n",
              "    <tr>\n",
              "      <th>149998</th>\n",
              "      <td>5.0</td>\n",
              "      <td>06 27, 2012</td>\n",
              "      <td>u04925906</td>\n",
              "      <td>Believe it or not, once upon a time, artists l...</td>\n",
              "      <td>Once Upon A Time</td>\n",
              "      <td>1340755200</td>\n",
              "      <td>Pop</td>\n",
              "      <td>$19.99</td>\n",
              "      <td>p38606785</td>\n",
              "      <td>5931588</td>\n",
              "      <td>NaN</td>\n",
              "      <td>believe/vb ,/, time/nn ,/, artist/nns like/in ...</td>\n",
              "      <td>0.095939</td>\n",
              "      <td>0.482133</td>\n",
              "    </tr>\n",
              "    <tr>\n",
              "      <th>149999</th>\n",
              "      <td>5.0</td>\n",
              "      <td>03 6, 2000</td>\n",
              "      <td>u79459462</td>\n",
              "      <td>MoKenStef's album is a must have for those who...</td>\n",
              "      <td>An intense album with creativity!</td>\n",
              "      <td>952300800</td>\n",
              "      <td>Pop</td>\n",
              "      <td>$9.99</td>\n",
              "      <td>p07495887</td>\n",
              "      <td>90305896</td>\n",
              "      <td>NaN</td>\n",
              "      <td>mokenstef/nnp album/nn wanna/nn mellow/vbp chi...</td>\n",
              "      <td>0.367273</td>\n",
              "      <td>0.730909</td>\n",
              "    </tr>\n",
              "  </tbody>\n",
              "</table>\n",
              "<p>149972 rows × 14 columns</p>\n",
              "</div>"
            ],
            "text/plain": [
              "        overall   reviewTime  ... polarities subjectivities\n",
              "0           5.0  08 26, 2014  ...   0.229849       0.426437\n",
              "1           5.0  05 11, 2003  ...   0.280937       0.460303\n",
              "2           5.0   12 5, 2017  ...   0.800000       0.750000\n",
              "3           5.0  09 24, 2013  ...   0.680208       0.800000\n",
              "4           5.0  01 14, 2015  ...   0.129478       0.440930\n",
              "...         ...          ...  ...        ...            ...\n",
              "149995      5.0  09 12, 2013  ...   0.195663       0.553061\n",
              "149996      5.0  05 15, 2016  ...   0.263781       0.590520\n",
              "149997      5.0  06 13, 2004  ...   0.171429       0.457143\n",
              "149998      5.0  06 27, 2012  ...   0.095939       0.482133\n",
              "149999      5.0   03 6, 2000  ...   0.367273       0.730909\n",
              "\n",
              "[149972 rows x 14 columns]"
            ]
          },
          "metadata": {
            "tags": []
          },
          "execution_count": 26
        }
      ]
    },
    {
      "cell_type": "code",
      "metadata": {
        "id": "brRvUz28md5i"
      },
      "source": [
        "train_df.to_csv(\"/content/drive/MyDrive/Colab Notebooks/preproced_train_df.csv\")"
      ],
      "execution_count": null,
      "outputs": []
    }
  ]
}