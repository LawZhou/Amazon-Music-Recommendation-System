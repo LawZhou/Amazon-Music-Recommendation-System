{
 "cells": [
  {
   "cell_type": "markdown",
   "metadata": {
    "id": "XdtYUxrk7bz6"
   },
   "source": [
    "# **MIE1624 Group 19 Course Project**"
   ]
  },
  {
   "cell_type": "markdown",
   "metadata": {
    "id": "CRWMqtM_BwwZ"
   },
   "source": [
    "## **1. Prep**"
   ]
  },
  {
   "cell_type": "markdown",
   "metadata": {
    "id": "utzTtFNDFUg5"
   },
   "source": [
    "### a. Import Packages and get data file ready"
   ]
  },
  {
   "cell_type": "code",
   "execution_count": 1,
   "metadata": {
    "id": "j8VjWQlOo3Z1"
   },
   "outputs": [],
   "source": [
    "!python -m spacy download en_core_web_sm > /dev/null 2>&1\n",
    "!pip install spacytextblob > /dev/null 2>&1\n",
    "!pip install tqdm_notebook > /dev/null 2>&1"
   ]
  },
  {
   "cell_type": "code",
   "execution_count": 2,
   "metadata": {
    "colab": {
     "base_uri": "https://localhost:8080/"
    },
    "id": "HinDrsDV4CRk",
    "outputId": "fcc939e8-6e7f-4b72-b553-f189e2a8dfaf"
   },
   "outputs": [
    {
     "name": "stdout",
     "output_type": "stream",
     "text": [
      "Mounted at /content/drive\n"
     ]
    },
    {
     "name": "stderr",
     "output_type": "stream",
     "text": [
      "/usr/local/lib/python3.7/dist-packages/tqdm/std.py:658: FutureWarning: The Panel class is removed from pandas. Accessing it from the top-level namespace will also be removed in the next version\n",
      "  from pandas import Panel\n"
     ]
    }
   ],
   "source": [
    "import html\n",
    "import numpy as np\n",
    "import os\n",
    "import pandas as pd\n",
    "import pickle\n",
    "import re\n",
    "import spacy\n",
    "import tensorflow as tf\n",
    "\n",
    "from keras.models import Sequential\n",
    "from keras.layers import Dense, Dropout, LSTM, Reshape\n",
    "from keras.wrappers.scikit_learn import KerasRegressor\n",
    "from keras.optimizers.schedules import ExponentialDecay\n",
    "from keras.optimizers import Adam\n",
    "\n",
    "from sys import platform\n",
    "from spacytextblob.spacytextblob import SpacyTextBlob\n",
    "\n",
    "from sklearn.feature_extraction.text import TfidfVectorizer\n",
    "from sklearn.model_selection import train_test_split, KFold\n",
    "from sklearn.preprocessing import LabelEncoder\n",
    "from sklearn.pipeline import Pipeline\n",
    "from sklearn.model_selection import GridSearchCV\n",
    "from sklearn.preprocessing import StandardScaler\n",
    "from sklearn.feature_selection import SelectKBest, chi2\n",
    "from sklearn.compose import ColumnTransformer\n",
    "from sklearn.base import TransformerMixin\n",
    "\n",
    "from tensorflow.keras.callbacks import EarlyStopping\n",
    "\n",
    "from joblib import dump, load\n",
    "\n",
    "if 'google.colab' in str(get_ipython()):\n",
    "  from google.colab import drive\n",
    "  from tqdm.notebook import tqdm_notebook as tqdm\n",
    "  drive.mount('/content/drive')\n",
    "\n",
    "  base_data_folder = \"/content/drive/MyDrive/Colab Notebooks/data/\"\n",
    "  train_data = pd.read_csv(base_data_folder + \"train.csv\")\n",
    "  test_data = pd.read_csv(base_data_folder + \"test.csv\")\n",
    "  rating_pairs_path = base_data_folder + \"rating_pairs.csv\"\n",
    "  rating_pred_export_path = base_data_folder + \"rating_pairs_pred.csv\"\n",
    "else:\n",
    "  from tqdm import tqdm\n",
    "  data = pd.read_csv(\"./data.csv\", index_col=0)\n",
    "  test_data = pd.read_csv(\"./test_data.csv\", index_col=0)\n",
    "  rating_pairs_path = \"./rating_pairs.csv\"\n",
    "  rating_pred_export_path = \"./rating_pairs_pred.csv\"\n",
    "\n",
    "tqdm.pandas()"
   ]
  },
  {
   "cell_type": "markdown",
   "metadata": {
    "id": "3t37yRoD7t4v"
   },
   "source": [
    "### b. Understanding Data"
   ]
  },
  {
   "cell_type": "code",
   "execution_count": 3,
   "metadata": {
    "colab": {
     "base_uri": "https://localhost:8080/",
     "height": 203
    },
    "id": "SdR72eUn4CR3",
    "outputId": "2f537aaf-b081-4151-ad1d-a8fd95400ffd"
   },
   "outputs": [
    {
     "data": {
      "text/html": [
       "<div>\n",
       "<style scoped>\n",
       "    .dataframe tbody tr th:only-of-type {\n",
       "        vertical-align: middle;\n",
       "    }\n",
       "\n",
       "    .dataframe tbody tr th {\n",
       "        vertical-align: top;\n",
       "    }\n",
       "\n",
       "    .dataframe thead th {\n",
       "        text-align: right;\n",
       "    }\n",
       "</style>\n",
       "<table border=\"1\" class=\"dataframe\">\n",
       "  <thead>\n",
       "    <tr style=\"text-align: right;\">\n",
       "      <th></th>\n",
       "      <th>overall</th>\n",
       "      <th>reviewTime</th>\n",
       "      <th>reviewerID</th>\n",
       "      <th>reviewText</th>\n",
       "      <th>summary</th>\n",
       "      <th>unixReviewTime</th>\n",
       "      <th>category</th>\n",
       "      <th>price</th>\n",
       "      <th>itemID</th>\n",
       "      <th>reviewHash</th>\n",
       "      <th>image</th>\n",
       "    </tr>\n",
       "  </thead>\n",
       "  <tbody>\n",
       "    <tr>\n",
       "      <th>0</th>\n",
       "      <td>5.0</td>\n",
       "      <td>08 26, 2014</td>\n",
       "      <td>u92990698</td>\n",
       "      <td>A contemporary jazz and soul performer who's m...</td>\n",
       "      <td>\" CLASSIQUE \"</td>\n",
       "      <td>1409011200</td>\n",
       "      <td>Jazz</td>\n",
       "      <td>$8.40</td>\n",
       "      <td>p23649501</td>\n",
       "      <td>3856620</td>\n",
       "      <td>NaN</td>\n",
       "    </tr>\n",
       "    <tr>\n",
       "      <th>1</th>\n",
       "      <td>5.0</td>\n",
       "      <td>05 11, 2003</td>\n",
       "      <td>u36200649</td>\n",
       "      <td>Very good idea to put both the 'pop' and 'orch...</td>\n",
       "      <td>Exceeded my Expectations - This album RAWKS!</td>\n",
       "      <td>1052611200</td>\n",
       "      <td>Alternative Rock</td>\n",
       "      <td>$10.98</td>\n",
       "      <td>p58458313</td>\n",
       "      <td>56086781</td>\n",
       "      <td>NaN</td>\n",
       "    </tr>\n",
       "    <tr>\n",
       "      <th>2</th>\n",
       "      <td>5.0</td>\n",
       "      <td>12 5, 2017</td>\n",
       "      <td>u10721702</td>\n",
       "      <td>This is a great collection of Carole King's so...</td>\n",
       "      <td>A Must-have for Carole King Fans</td>\n",
       "      <td>1512432000</td>\n",
       "      <td>Pop</td>\n",
       "      <td>$5.99</td>\n",
       "      <td>p97027626</td>\n",
       "      <td>55852154</td>\n",
       "      <td>NaN</td>\n",
       "    </tr>\n",
       "    <tr>\n",
       "      <th>3</th>\n",
       "      <td>5.0</td>\n",
       "      <td>09 24, 2013</td>\n",
       "      <td>u86003775</td>\n",
       "      <td>The is album is a brilliant piece of Jazz fusi...</td>\n",
       "      <td>A Master piece!</td>\n",
       "      <td>1379980800</td>\n",
       "      <td>Jazz</td>\n",
       "      <td>$14.64</td>\n",
       "      <td>p43167086</td>\n",
       "      <td>43228100</td>\n",
       "      <td>NaN</td>\n",
       "    </tr>\n",
       "    <tr>\n",
       "      <th>4</th>\n",
       "      <td>5.0</td>\n",
       "      <td>01 14, 2015</td>\n",
       "      <td>u25672859</td>\n",
       "      <td>Waited a LONG time for this DVD to be released...</td>\n",
       "      <td>especially if you like concert videos</td>\n",
       "      <td>1421193600</td>\n",
       "      <td>Alternative Rock</td>\n",
       "      <td>$9.92</td>\n",
       "      <td>p94494236</td>\n",
       "      <td>54425467</td>\n",
       "      <td>NaN</td>\n",
       "    </tr>\n",
       "  </tbody>\n",
       "</table>\n",
       "</div>"
      ],
      "text/plain": [
       "   overall   reviewTime reviewerID  ...     itemID reviewHash  image\n",
       "0      5.0  08 26, 2014  u92990698  ...  p23649501    3856620    NaN\n",
       "1      5.0  05 11, 2003  u36200649  ...  p58458313   56086781    NaN\n",
       "2      5.0   12 5, 2017  u10721702  ...  p97027626   55852154    NaN\n",
       "3      5.0  09 24, 2013  u86003775  ...  p43167086   43228100    NaN\n",
       "4      5.0  01 14, 2015  u25672859  ...  p94494236   54425467    NaN\n",
       "\n",
       "[5 rows x 11 columns]"
      ]
     },
     "execution_count": 3,
     "metadata": {
      "tags": []
     },
     "output_type": "execute_result"
    }
   ],
   "source": [
    "train_data.head()"
   ]
  },
  {
   "cell_type": "code",
   "execution_count": 4,
   "metadata": {
    "colab": {
     "base_uri": "https://localhost:8080/",
     "height": 203
    },
    "id": "oGkJkeA24CR4",
    "outputId": "20b920b4-50ed-464e-c043-f922e32ce759"
   },
   "outputs": [
    {
     "data": {
      "text/html": [
       "<div>\n",
       "<style scoped>\n",
       "    .dataframe tbody tr th:only-of-type {\n",
       "        vertical-align: middle;\n",
       "    }\n",
       "\n",
       "    .dataframe tbody tr th {\n",
       "        vertical-align: top;\n",
       "    }\n",
       "\n",
       "    .dataframe thead th {\n",
       "        text-align: right;\n",
       "    }\n",
       "</style>\n",
       "<table border=\"1\" class=\"dataframe\">\n",
       "  <thead>\n",
       "    <tr style=\"text-align: right;\">\n",
       "      <th></th>\n",
       "      <th>reviewTime</th>\n",
       "      <th>reviewerID</th>\n",
       "      <th>reviewText</th>\n",
       "      <th>summary</th>\n",
       "      <th>unixReviewTime</th>\n",
       "      <th>category</th>\n",
       "      <th>price</th>\n",
       "      <th>itemID</th>\n",
       "      <th>reviewHash</th>\n",
       "      <th>image</th>\n",
       "    </tr>\n",
       "  </thead>\n",
       "  <tbody>\n",
       "    <tr>\n",
       "      <th>0</th>\n",
       "      <td>02 11, 2017</td>\n",
       "      <td>u04140621</td>\n",
       "      <td>ok</td>\n",
       "      <td>Five Stars</td>\n",
       "      <td>1486771200</td>\n",
       "      <td>Pop</td>\n",
       "      <td>$31.20</td>\n",
       "      <td>p65721979</td>\n",
       "      <td>98944233</td>\n",
       "      <td>NaN</td>\n",
       "    </tr>\n",
       "    <tr>\n",
       "      <th>1</th>\n",
       "      <td>01 29, 2018</td>\n",
       "      <td>u74766187</td>\n",
       "      <td>The 1955 and 1958 sets alone are worth the pur...</td>\n",
       "      <td>Buy It For the 1955 Set With Monk!</td>\n",
       "      <td>1517184000</td>\n",
       "      <td>Jazz</td>\n",
       "      <td>$34.04</td>\n",
       "      <td>p87809670</td>\n",
       "      <td>33903910</td>\n",
       "      <td>NaN</td>\n",
       "    </tr>\n",
       "    <tr>\n",
       "      <th>2</th>\n",
       "      <td>08 29, 2005</td>\n",
       "      <td>u31689638</td>\n",
       "      <td>Mary J Blige is someone most people know of. S...</td>\n",
       "      <td>Mary's excellent debut! Classic!</td>\n",
       "      <td>1125273600</td>\n",
       "      <td>Pop</td>\n",
       "      <td>$1.72</td>\n",
       "      <td>p52702240</td>\n",
       "      <td>35386470</td>\n",
       "      <td>NaN</td>\n",
       "    </tr>\n",
       "    <tr>\n",
       "      <th>3</th>\n",
       "      <td>11 2, 2015</td>\n",
       "      <td>u35613516</td>\n",
       "      <td>Very good satch album</td>\n",
       "      <td>Four Stars</td>\n",
       "      <td>1446422400</td>\n",
       "      <td>Pop</td>\n",
       "      <td>$10.99</td>\n",
       "      <td>p01314374</td>\n",
       "      <td>12404766</td>\n",
       "      <td>NaN</td>\n",
       "    </tr>\n",
       "    <tr>\n",
       "      <th>4</th>\n",
       "      <td>01 3, 2012</td>\n",
       "      <td>u93320378</td>\n",
       "      <td>Well there are hundreds of Christmas anthologi...</td>\n",
       "      <td>CD lives up to its name</td>\n",
       "      <td>1325548800</td>\n",
       "      <td>Alternative Rock</td>\n",
       "      <td>$7.98</td>\n",
       "      <td>p84396269</td>\n",
       "      <td>68253688</td>\n",
       "      <td>NaN</td>\n",
       "    </tr>\n",
       "  </tbody>\n",
       "</table>\n",
       "</div>"
      ],
      "text/plain": [
       "    reviewTime reviewerID  ... reviewHash image\n",
       "0  02 11, 2017  u04140621  ...   98944233   NaN\n",
       "1  01 29, 2018  u74766187  ...   33903910   NaN\n",
       "2  08 29, 2005  u31689638  ...   35386470   NaN\n",
       "3   11 2, 2015  u35613516  ...   12404766   NaN\n",
       "4   01 3, 2012  u93320378  ...   68253688   NaN\n",
       "\n",
       "[5 rows x 10 columns]"
      ]
     },
     "execution_count": 4,
     "metadata": {
      "tags": []
     },
     "output_type": "execute_result"
    }
   ],
   "source": [
    "test_data.head()"
   ]
  },
  {
   "cell_type": "code",
   "execution_count": 5,
   "metadata": {
    "colab": {
     "base_uri": "https://localhost:8080/"
    },
    "id": "Zu-2rIalaAWw",
    "outputId": "92beadf4-7dd0-4571-8390-1fe6d0568105"
   },
   "outputs": [
    {
     "name": "stdout",
     "output_type": "stream",
     "text": [
      "training set shape: (150000, 11)\n",
      "testing set shape: (20000, 10)\n"
     ]
    }
   ],
   "source": [
    "print(f'training set shape: {train_data.shape}')\n",
    "print(f'testing set shape: {test_data.shape}')"
   ]
  },
  {
   "cell_type": "code",
   "execution_count": 6,
   "metadata": {
    "colab": {
     "base_uri": "https://localhost:8080/"
    },
    "id": "0xM3Hc9onaHF",
    "outputId": "81cd8f1c-0ba7-4910-bb49-5bb13617ad0b"
   },
   "outputs": [
    {
     "name": "stdout",
     "output_type": "stream",
     "text": [
      "Number of reviewText nan in training set: 28\n",
      "Number of reviewText nan in testing set: 3\n"
     ]
    }
   ],
   "source": [
    "print(f'Number of reviewText nan in training set: {train_data.reviewText.isna().sum()}')\n",
    "print(f'Number of reviewText nan in testing set: {test_data.reviewText.isna().sum()}')"
   ]
  },
  {
   "cell_type": "markdown",
   "metadata": {
    "id": "XNHw0roF7l_e"
   },
   "source": [
    "## **2. Data Cleaning**"
   ]
  },
  {
   "cell_type": "markdown",
   "metadata": {
    "id": "Krdt-_lzSY8y"
   },
   "source": [
    "### a. Handle null value"
   ]
  },
  {
   "cell_type": "code",
   "execution_count": 7,
   "metadata": {
    "id": "oCA3tPCvSC8y"
   },
   "outputs": [],
   "source": [
    "train_data.fillna('', inplace=True)\n",
    "test_data.fillna('', inplace=True)"
   ]
  },
  {
   "cell_type": "markdown",
   "metadata": {
    "id": "hu3YKNfeRh4q"
   },
   "source": [
    "### b. Replace character codes\n"
   ]
  },
  {
   "cell_type": "code",
   "execution_count": 8,
   "metadata": {
    "id": "Aokj_QSYRhS0"
   },
   "outputs": [],
   "source": [
    "def replace_character_codes(text):\n",
    "    text = html.unescape(text)\n",
    "    return text"
   ]
  },
  {
   "cell_type": "markdown",
   "metadata": {
    "id": "2tauFExDFh-q"
   },
   "source": [
    "### c. Remove url\n"
   ]
  },
  {
   "cell_type": "code",
   "execution_count": 9,
   "metadata": {
    "id": "QWsh0HqdKAub"
   },
   "outputs": [],
   "source": [
    "def remove_url(text):\n",
    "    text =  re.sub(r\"https?:\\/\\/(www\\.)?[-a-zA-Z0-9@:%._\\+~#=]{1,256}\\.[a-zA-Z0-9()]{1,6}\\b([-a-zA-Z0-9()@:%_\\+.~#?&//=]*)\", \"\", text)\n",
    "    return text"
   ]
  },
  {
   "cell_type": "markdown",
   "metadata": {
    "id": "HwjxD9jpSzli"
   },
   "source": [
    "### d. Remove dollar sign in price, also handle string case"
   ]
  },
  {
   "cell_type": "code",
   "execution_count": 10,
   "metadata": {
    "id": "rbfXV8YbShtF"
   },
   "outputs": [],
   "source": [
    "def handle_price(price):\n",
    "  try:\n",
    "    return float(re.sub('[$]+', '', price))\n",
    "  except:\n",
    "    return 0"
   ]
  },
  {
   "cell_type": "markdown",
   "metadata": {
    "id": "7ge6rMioS3sS"
   },
   "source": [
    "### e. Combine reviewID, itemID and reviewText"
   ]
  },
  {
   "cell_type": "code",
   "execution_count": 11,
   "metadata": {
    "id": "lEjx-cTeVt1A"
   },
   "outputs": [],
   "source": [
    "def combine_feature(data):\n",
    "  return ' '.join(data)"
   ]
  },
  {
   "cell_type": "markdown",
   "metadata": {
    "id": "62dW3wrAWvV8"
   },
   "source": [
    "### f. Keep only the year of review time"
   ]
  },
  {
   "cell_type": "code",
   "execution_count": 12,
   "metadata": {
    "id": "ZiZXEeX7WyoD"
   },
   "outputs": [],
   "source": [
    "def handle_year(year):\n",
    "  return int(year[-4:])"
   ]
  },
  {
   "cell_type": "markdown",
   "metadata": {},
   "source": [
    "### g. Remove stop words"
   ]
  },
  {
   "cell_type": "code",
   "execution_count": null,
   "metadata": {},
   "outputs": [],
   "source": [
    "stopwords= set(['br', 'the', 'i', 'me', 'my', 'myself', 'we', 'our', 'ours', 'ourselves', 'you', \\\n",
    "                \"you're\", \"you've\", \"you'll\", \"you'd\", 'your', 'yours', 'yourself', 'yourselves', \\\n",
    "                'he', 'him', 'his', 'himself', 'she', \"she's\", 'her', 'hers', 'herself', 'it', \"it's\", \\\n",
    "                'its', 'itself', 'they', 'them', 'their', 'theirs', 'themselves', 'what', 'which', 'who', \\\n",
    "                'whom', 'this', 'that', \"that'll\", 'these', 'those', 'am', 'is', 'are', 'was', 'were', \\\n",
    "                'be', 'been', 'being', 'have', 'has', 'had', 'having', 'do', 'does', 'did', 'doing', \\\n",
    "                'a', 'an', 'the', 'and', 'but', 'if', 'or', 'because', 'as', 'until', 'while', 'of', \\\n",
    "                'at', 'by', 'for', 'with', 'about', 'against', 'between', 'into', 'through', 'during', \\\n",
    "                'before', 'after', 'above', 'below', 'to', 'from', 'up', 'down', 'in', 'out', 'on', 'off', \\\n",
    "                'over', 'under', 'again', 'further', 'then', 'once', 'here', 'there', 'when', 'where', 'why', \\\n",
    "                'how', 'all', 'any', 'both', 'each', 'few', 'more', 'most', 'other', 'some', 'such', 'only', \\\n",
    "                'own', 'same', 'so', 'than', 'too', 'very', 's', 't', 'can', 'will', 'just', 'don', \"don't\", \\\n",
    "                'should', \"should've\", 'now', 'd', 'll', 'm', 'o', 're', 've', 'y', 'ain', 'aren', \"aren't\", \\\n",
    "                'couldn', \"couldn't\", 'didn', \"didn't\", 'doesn', \"doesn't\", 'hadn', \"hadn't\", 'hasn', \\\n",
    "                \"hasn't\", 'haven', \"haven't\", 'isn', \"isn't\", 'ma', 'mightn', \"mightn't\", 'mustn', \\\n",
    "                \"mustn't\", 'needn', \"needn't\", 'shan', \"shan't\", 'shouldn', \"shouldn't\", 'wasn', \"wasn't\", \\\n",
    "                'weren', \"weren't\", 'won', \"won't\", 'wouldn', \"wouldn't\"])\n",
    "\n",
    "# ref: https://gist.github.com/sebleier/554280\n",
    "# above stop words were used to remove any words that are not useful/influential for sentiment analysis/prediction. The above list/set is not conclusive by any means but it contains enough to simplify our model inputs\n",
    "\n",
    "# data cleaning function that ensures that unnecssary elements are exluded from the journey of predicting sentiments. In the process, hashtags and mentions are removed, which could have been useful in a simpler stratefy implemented in exploratory analysis \n",
    "def clean_text(text):\n",
    "  soup = BeautifulSoup(text, 'lxml') \n",
    "  text = soup.get_text() # gets rid of html tags  \n",
    "  t = re.sub('^', '', text) #gets rid of the attribute '^' by replacing with space\n",
    "  t = re.sub('[+]', '', t) # gets rid of the attribute '+' \n",
    "  t = re.sub('[/]', '', t) # gets rid of the attrubute '/'\n",
    "  t = re.sub('[<>]', '', t) # gets rid of the attributes '<>'\n",
    "  t = re.sub('[^A-Za-z0-9]+', ' ', t) # gets rid of any special charachters like #, @, -, etc. This is to make sure data is in its basic elements to ease the classification of tweet's political party in the next step \n",
    "  t = html.unescape(t) # replaces HTML charachter codes with ASCII equivalent\n",
    "  t = re.sub(r\"http\\S+\", \"\", t) # removes URL links\n",
    "  t = t.lower() # normalizes the tweets to be all as lower case\n",
    "  t = ' '.join(e.lower() for e in t.split() if e.lower() not in stopwords) # removes stopwords that are in the set defined above and replaces it with space\n",
    "  return t"
   ]
  },
  {
   "cell_type": "markdown",
   "metadata": {
    "id": "I-Cs4u32Vcu0"
   },
   "source": [
    "### g. Process Step"
   ]
  },
  {
   "cell_type": "code",
   "execution_count": 13,
   "metadata": {
    "colab": {
     "base_uri": "https://localhost:8080/",
     "height": 705,
     "referenced_widgets": [
      "dcc4960ea72649e4966a8b4775658b01",
      "447fdda8fa5b4db1b1be3e512d531f78",
      "37a647a470de447f8a1702b9841be6f2",
      "2983b3891e934079acae108a97c29949",
      "4c957c94eb914a3cbf4112e668f040c1",
      "37e02c138fdc46d7b950ca967b0501ff",
      "910958de3a084cb6b81b1fc897cceff5",
      "117df0abeace45fbb88566e491e53243",
      "d054e2d3e30441f5932fcedc803c158b",
      "23ae9a27870541e08295eeec6c0fd8d0",
      "a511528a9b704c20949121d0f69d99c6",
      "73dc1778ea79498f96bf656ee1cf15f6",
      "bd222b29f3dc4c6a967f599be0118b8b",
      "e6df739d0d0c463d9ea0ac9ad9d59689",
      "035a370b4d2d436482c91d27a2ad1313",
      "e4bf5a2e28eb4ad5bee7adfc69e35e53",
      "65693ff3452942938243d4211dc890ec",
      "995e5b43e1004882a69e2dbb44c8a5f8",
      "b357acd15cae4566bfa58fa732a89126",
      "8745def9c15b49bab6c83a5d88f43095",
      "336f0ff3c442475cab39084e0890bc02",
      "15b21cce4126452799fad709a531eef6",
      "426f195abdca45c2a4c18e4dd62b7bd4",
      "ba91bb763c7a4f4d9506f600a04fd325",
      "77a1c7c6003a4b06958b110dcbe40207",
      "bba94fa214fa44568c55622f5490ecd8",
      "bcfbb1a229554afbacb6387d28ebeeec",
      "f985b9ea65de40e097ee6b490aee791b",
      "6aaffd149eb442bc898bf63bed286eef",
      "9e5677eee7144c458cdcfcb3e977cedc",
      "40862d1e53f446859a43d180db7cc6f7",
      "37b98735f8044299adbd7c7c328f272a",
      "422dc0cea70940bd94da55eae71f618d",
      "49432ed6a6ec4d4a90216f6e5bd7ffc7",
      "3c11354573a74f339a69278a4d90c3c2",
      "30e2a530f02d47af8f9093bba9cfb524",
      "9e94bfa8af5040678d7c60797fdbb016",
      "ad141ff09d004d49919c07252609f153",
      "9637441f6da54467bd0c74e0ba310faf",
      "bcd720f44472475ab9200964e150622e",
      "e00b5ca24cce4497adc8f8ed86def1e2",
      "a7cff3acee174bdf8d86ea82b0f2cd85",
      "803035591b1148709539cb07026e7338",
      "0362b26bce2f46ac9762fcc7865fc940",
      "a516b2bf64a14f20b178c8d8d70c0ba0",
      "05a792c896304df186cd35b59ecfc17e",
      "244ed2e38f4343579bdf85d9b39e7e23",
      "a9c5ecd49cfa4e7abce11c015450979e",
      "5ae5d424e2884735ad2d847e670ae8d0",
      "6d80f69c97c949b5b7abdddf6e265c20",
      "b0a918ee8aeb44dab4a3f556b261a8f5",
      "dfb49f98ae4c46a8bb6be99d52b9e70b",
      "1751a9ba5b894487981c2ebcde45b5c9",
      "b7ff1349cfee4c2490efe55456191e6c",
      "94b402c817e441a8a65d75e43b07c98e",
      "509fdcd5a7cb44b48bd29f416776de5a",
      "f14b04eaa48745b7b7c2a982bec217b3",
      "1f0568dbbf134c5b8055a0dc4dfe2ea6",
      "f8b20f9195e549a2b1e4c1a2ffc8176e",
      "fcc7781c28d2470783e6a8a291dd56ad",
      "6d12baf48e0f45a8b5fe636bbbe4121b",
      "6b5d8a4b086e4fa7aea37c03a8bd5a81",
      "43cde641480c4fea8ef451f8b20ab446",
      "01399b2221b944319accfb8674d55480",
      "e427ebe9594e483caac935c111fc0ab8",
      "8a8ba1fed74d41109012724082ef7fb0",
      "9b8dc87c61604b3c87ba6940df6f241a",
      "f97c3dd6fe0f4ef5aea1c09ca96326c9",
      "754996b13e274aabb7cc89686eb3ee1f",
      "8dd3f02760244a8fb98dd11d7fcd8219",
      "3d5448e6f0f241d697d6ae30cb7ae4c2",
      "4c9b6a6164614420922da5ad1afd6dba",
      "c9f20b2230234f07a4f42a1d4a346f22",
      "99191a8c4fb749859bd5a8e122a5512c",
      "1e351d15b2b24feaa3f41818dc804473",
      "80d122d367ec4328be66fa6536e786be",
      "b66917380e57462c8f4a706921dc1810",
      "f0f86000cbeb4498bf975ac351d42b6c",
      "b851e6cf60c54b7f94165c38553a83f0",
      "64554e981dde4644baace30464875e7b",
      "75396c66d0194d409840998d3ecfc111",
      "fc3ef89ba07349adb6f1691b0bed702c",
      "ea438d027b4246fb8ba3e66e11901aff",
      "ff5cc3f8791e4829bde333394716c193",
      "53314e871ed24a71b4b560afeb2892eb",
      "7b94ecf2274349fbbbccc32316a5df57",
      "2df0d91c2d2a470fbaa45dfa7a0d492f",
      "435d2dfc80c748dfa40ef678452417a8",
      "30c3e5ae9e4c4e13a2cec5498a67d222",
      "cb12b3265bb14145b64309e3a8402661",
      "9d78488e074b438ca1dae1d609b90826",
      "bd91895ea5d347ebb9f294ef83d405bc",
      "e22521554fd9487ca5d27828af143328",
      "5f3a16ea67e9420093e5012553b32f27",
      "f2bcf10fb8e6445191614d6284baf428",
      "1e7d274c203d4f88ac07fe2dae75c444",
      "cd92d9f86e814e8188b56cac8af98f9c",
      "6da3a26ca8d34568a9e6fe7d061c2aeb",
      "bf21bab2b412432d812f7782d9224ba2",
      "5a75c8743b23459ab9c7a0033e3cb6f9",
      "aa6a7257df944989a25e2da14eb920b5",
      "84a9da79a0f74f18a3ee3aafa1d01efc",
      "8df4443e59fd4b6d931377d91b456a71",
      "936a105fb6264d2a8ca8247018086cb0",
      "62e41dd4d00745f79dd8b460cc326c59",
      "c174435ad80d42e89e98c4cc9ea32141",
      "c9ef0359c04d45a3b2ce6412955cdfe5",
      "c53f907f9c1a46dca63435720108cedf",
      "ecda09264a874a9ca2166d17e79c2507",
      "d976778fd2794fa4b6a9ba4a2545a4f4",
      "be042ea32aa44fe7bd50da97659c3ad4",
      "92bdcdaffe9d47f780d83862f8a7b959"
     ]
    },
    "id": "YSrz7d4dSphE",
    "outputId": "a939e64a-1350-434f-c8cb-cac83fefece4"
   },
   "outputs": [
    {
     "data": {
      "application/vnd.jupyter.widget-view+json": {
       "model_id": "dcc4960ea72649e4966a8b4775658b01",
       "version_major": 2,
       "version_minor": 0
      },
      "text/plain": [
       "HBox(children=(FloatProgress(value=0.0, max=150000.0), HTML(value='')))"
      ]
     },
     "metadata": {
      "tags": []
     },
     "output_type": "display_data"
    },
    {
     "name": "stdout",
     "output_type": "stream",
     "text": [
      "\n"
     ]
    },
    {
     "data": {
      "application/vnd.jupyter.widget-view+json": {
       "model_id": "d054e2d3e30441f5932fcedc803c158b",
       "version_major": 2,
       "version_minor": 0
      },
      "text/plain": [
       "HBox(children=(FloatProgress(value=0.0, max=150000.0), HTML(value='')))"
      ]
     },
     "metadata": {
      "tags": []
     },
     "output_type": "display_data"
    },
    {
     "name": "stdout",
     "output_type": "stream",
     "text": [
      "\n"
     ]
    },
    {
     "data": {
      "application/vnd.jupyter.widget-view+json": {
       "model_id": "65693ff3452942938243d4211dc890ec",
       "version_major": 2,
       "version_minor": 0
      },
      "text/plain": [
       "HBox(children=(FloatProgress(value=0.0, max=150000.0), HTML(value='')))"
      ]
     },
     "metadata": {
      "tags": []
     },
     "output_type": "display_data"
    },
    {
     "name": "stdout",
     "output_type": "stream",
     "text": [
      "\n"
     ]
    },
    {
     "data": {
      "application/vnd.jupyter.widget-view+json": {
       "model_id": "77a1c7c6003a4b06958b110dcbe40207",
       "version_major": 2,
       "version_minor": 0
      },
      "text/plain": [
       "HBox(children=(FloatProgress(value=0.0, max=150000.0), HTML(value='')))"
      ]
     },
     "metadata": {
      "tags": []
     },
     "output_type": "display_data"
    },
    {
     "name": "stdout",
     "output_type": "stream",
     "text": [
      "\n"
     ]
    },
    {
     "data": {
      "application/vnd.jupyter.widget-view+json": {
       "model_id": "422dc0cea70940bd94da55eae71f618d",
       "version_major": 2,
       "version_minor": 0
      },
      "text/plain": [
       "HBox(children=(FloatProgress(value=0.0, max=150000.0), HTML(value='')))"
      ]
     },
     "metadata": {
      "tags": []
     },
     "output_type": "display_data"
    },
    {
     "name": "stdout",
     "output_type": "stream",
     "text": [
      "\n"
     ]
    },
    {
     "data": {
      "application/vnd.jupyter.widget-view+json": {
       "model_id": "e00b5ca24cce4497adc8f8ed86def1e2",
       "version_major": 2,
       "version_minor": 0
      },
      "text/plain": [
       "HBox(children=(FloatProgress(value=0.0, max=150000.0), HTML(value='')))"
      ]
     },
     "metadata": {
      "tags": []
     },
     "output_type": "display_data"
    },
    {
     "name": "stdout",
     "output_type": "stream",
     "text": [
      "\n"
     ]
    },
    {
     "data": {
      "application/vnd.jupyter.widget-view+json": {
       "model_id": "5ae5d424e2884735ad2d847e670ae8d0",
       "version_major": 2,
       "version_minor": 0
      },
      "text/plain": [
       "HBox(children=(FloatProgress(value=0.0, max=150000.0), HTML(value='')))"
      ]
     },
     "metadata": {
      "tags": []
     },
     "output_type": "display_data"
    },
    {
     "name": "stdout",
     "output_type": "stream",
     "text": [
      "\n"
     ]
    },
    {
     "data": {
      "application/vnd.jupyter.widget-view+json": {
       "model_id": "f14b04eaa48745b7b7c2a982bec217b3",
       "version_major": 2,
       "version_minor": 0
      },
      "text/plain": [
       "HBox(children=(FloatProgress(value=0.0, max=20000.0), HTML(value='')))"
      ]
     },
     "metadata": {
      "tags": []
     },
     "output_type": "display_data"
    },
    {
     "name": "stdout",
     "output_type": "stream",
     "text": [
      "\n"
     ]
    },
    {
     "data": {
      "application/vnd.jupyter.widget-view+json": {
       "model_id": "e427ebe9594e483caac935c111fc0ab8",
       "version_major": 2,
       "version_minor": 0
      },
      "text/plain": [
       "HBox(children=(FloatProgress(value=0.0, max=20000.0), HTML(value='')))"
      ]
     },
     "metadata": {
      "tags": []
     },
     "output_type": "display_data"
    },
    {
     "name": "stdout",
     "output_type": "stream",
     "text": [
      "\n"
     ]
    },
    {
     "data": {
      "application/vnd.jupyter.widget-view+json": {
       "model_id": "c9f20b2230234f07a4f42a1d4a346f22",
       "version_major": 2,
       "version_minor": 0
      },
      "text/plain": [
       "HBox(children=(FloatProgress(value=0.0, max=20000.0), HTML(value='')))"
      ]
     },
     "metadata": {
      "tags": []
     },
     "output_type": "display_data"
    },
    {
     "name": "stdout",
     "output_type": "stream",
     "text": [
      "\n"
     ]
    },
    {
     "data": {
      "application/vnd.jupyter.widget-view+json": {
       "model_id": "75396c66d0194d409840998d3ecfc111",
       "version_major": 2,
       "version_minor": 0
      },
      "text/plain": [
       "HBox(children=(FloatProgress(value=0.0, max=20000.0), HTML(value='')))"
      ]
     },
     "metadata": {
      "tags": []
     },
     "output_type": "display_data"
    },
    {
     "name": "stdout",
     "output_type": "stream",
     "text": [
      "\n"
     ]
    },
    {
     "data": {
      "application/vnd.jupyter.widget-view+json": {
       "model_id": "30c3e5ae9e4c4e13a2cec5498a67d222",
       "version_major": 2,
       "version_minor": 0
      },
      "text/plain": [
       "HBox(children=(FloatProgress(value=0.0, max=20000.0), HTML(value='')))"
      ]
     },
     "metadata": {
      "tags": []
     },
     "output_type": "display_data"
    },
    {
     "name": "stdout",
     "output_type": "stream",
     "text": [
      "\n"
     ]
    },
    {
     "data": {
      "application/vnd.jupyter.widget-view+json": {
       "model_id": "cd92d9f86e814e8188b56cac8af98f9c",
       "version_major": 2,
       "version_minor": 0
      },
      "text/plain": [
       "HBox(children=(FloatProgress(value=0.0, max=20000.0), HTML(value='')))"
      ]
     },
     "metadata": {
      "tags": []
     },
     "output_type": "display_data"
    },
    {
     "name": "stdout",
     "output_type": "stream",
     "text": [
      "\n"
     ]
    },
    {
     "data": {
      "application/vnd.jupyter.widget-view+json": {
       "model_id": "62e41dd4d00745f79dd8b460cc326c59",
       "version_major": 2,
       "version_minor": 0
      },
      "text/plain": [
       "HBox(children=(FloatProgress(value=0.0, max=20000.0), HTML(value='')))"
      ]
     },
     "metadata": {
      "tags": []
     },
     "output_type": "display_data"
    },
    {
     "name": "stdout",
     "output_type": "stream",
     "text": [
      "\n"
     ]
    }
   ],
   "source": [
    "def clean_data(data):\n",
    "  data['cleaned_reviewText'] = data['reviewText'].progress_apply(replace_character_codes)\n",
    "  data['cleaned_summary'] = data['summary'].progress_apply(replace_character_codes)\n",
    "\n",
    "  data['cleaned_reviewText'] = data['cleaned_reviewText'].progress_apply(remove_url)\n",
    "  data['cleaned_summary'] = data['cleaned_reviewText'].progress_apply(remove_url)\n",
    "    \n",
    "  data['cleaned_reviewText'] = data['cleaned_reviewText'].progress_apply(clean_text)\n",
    "  data['cleaned_summary'] = data['cleaned_reviewText'].progress_apply(clean_text)\n",
    "  \n",
    "  data['price'] = data['price'].progress_apply(handle_price)\n",
    "  data['year'] = data['reviewTime'].progress_apply(handle_year)\n",
    "    \n",
    "  data['combined_reviewText'] = data[['reviewerID', 'itemID', 'cleaned_reviewText']].progress_apply(combine_feature, axis=1)\n",
    "\n",
    "clean_data(train_data)\n",
    "clean_data(test_data)"
   ]
  },
  {
   "cell_type": "markdown",
   "metadata": {
    "id": "lXRx7gfUYJDm"
   },
   "source": [
    "### h. Drop unused data"
   ]
  },
  {
   "cell_type": "code",
   "execution_count": 14,
   "metadata": {
    "id": "BSpfZA3wYeuO"
   },
   "outputs": [],
   "source": [
    "def drop_unused(data):\n",
    "  data.drop(columns=['reviewerID', 'reviewTime', 'reviewText', 'summary', 'unixReviewTime', 'itemID', 'reviewHash', 'image', 'cleaned_reviewText'], inplace=True)"
   ]
  },
  {
   "cell_type": "code",
   "execution_count": 15,
   "metadata": {
    "id": "taiTXZzsYIjU"
   },
   "outputs": [],
   "source": [
    "drop_unused(train_data)\n",
    "drop_unused(test_data)"
   ]
  },
  {
   "cell_type": "markdown",
   "metadata": {
    "id": "PszAnVjM3urh"
   },
   "source": [
    "## **3. Feature Engineering**"
   ]
  },
  {
   "cell_type": "markdown",
   "metadata": {
    "id": "JkXKak5ZWrDy"
   },
   "source": [
    "### a. Categorize category and year"
   ]
  },
  {
   "cell_type": "code",
   "execution_count": 16,
   "metadata": {
    "id": "spMxTsL6WozE"
   },
   "outputs": [],
   "source": [
    "def categorize(data):\n",
    "  dummy_years = pd.get_dummies(data.year, prefix='year')\n",
    "  dummy_categories = pd.get_dummies(data.category, prefix='category')\n",
    "  data = pd.concat([data, dummy_years, dummy_categories], axis=1)\n",
    "  data.drop(columns=['year', 'category'], inplace=True)\n",
    "  return data\n",
    "\n",
    "train_data = categorize(train_data)\n",
    "test_data = categorize(test_data)"
   ]
  },
  {
   "cell_type": "markdown",
   "metadata": {
    "id": "d_crn1ATg99c"
   },
   "source": [
    "### b. reindex test data"
   ]
  },
  {
   "cell_type": "code",
   "execution_count": 17,
   "metadata": {
    "colab": {
     "base_uri": "https://localhost:8080/",
     "height": 848
    },
    "id": "aQsW0qAGhCiP",
    "outputId": "4ab5c6ca-1f4c-4d83-950a-4eda0d5a456f"
   },
   "outputs": [
    {
     "data": {
      "text/html": [
       "<div>\n",
       "<style scoped>\n",
       "    .dataframe tbody tr th:only-of-type {\n",
       "        vertical-align: middle;\n",
       "    }\n",
       "\n",
       "    .dataframe tbody tr th {\n",
       "        vertical-align: top;\n",
       "    }\n",
       "\n",
       "    .dataframe thead th {\n",
       "        text-align: right;\n",
       "    }\n",
       "</style>\n",
       "<table border=\"1\" class=\"dataframe\">\n",
       "  <thead>\n",
       "    <tr style=\"text-align: right;\">\n",
       "      <th></th>\n",
       "      <th>price</th>\n",
       "      <th>cleaned_summary</th>\n",
       "      <th>combined_reviewText</th>\n",
       "      <th>year_1998</th>\n",
       "      <th>year_1999</th>\n",
       "      <th>year_2000</th>\n",
       "      <th>year_2001</th>\n",
       "      <th>year_2002</th>\n",
       "      <th>year_2003</th>\n",
       "      <th>year_2004</th>\n",
       "      <th>year_2005</th>\n",
       "      <th>year_2006</th>\n",
       "      <th>year_2007</th>\n",
       "      <th>year_2008</th>\n",
       "      <th>year_2009</th>\n",
       "      <th>year_2010</th>\n",
       "      <th>year_2011</th>\n",
       "      <th>year_2012</th>\n",
       "      <th>year_2013</th>\n",
       "      <th>year_2014</th>\n",
       "      <th>year_2015</th>\n",
       "      <th>year_2016</th>\n",
       "      <th>year_2017</th>\n",
       "      <th>year_2018</th>\n",
       "      <th>category_Alternative Rock</th>\n",
       "      <th>category_Classical</th>\n",
       "      <th>category_Dance &amp; Electronic</th>\n",
       "      <th>category_Jazz</th>\n",
       "      <th>category_Pop</th>\n",
       "    </tr>\n",
       "  </thead>\n",
       "  <tbody>\n",
       "    <tr>\n",
       "      <th>0</th>\n",
       "      <td>31.20</td>\n",
       "      <td>ok</td>\n",
       "      <td>u04140621 p65721979 ok</td>\n",
       "      <td>0</td>\n",
       "      <td>0</td>\n",
       "      <td>0</td>\n",
       "      <td>0</td>\n",
       "      <td>0</td>\n",
       "      <td>0</td>\n",
       "      <td>0</td>\n",
       "      <td>0</td>\n",
       "      <td>0</td>\n",
       "      <td>0</td>\n",
       "      <td>0</td>\n",
       "      <td>0</td>\n",
       "      <td>0</td>\n",
       "      <td>0</td>\n",
       "      <td>0</td>\n",
       "      <td>0</td>\n",
       "      <td>0</td>\n",
       "      <td>0</td>\n",
       "      <td>0</td>\n",
       "      <td>1</td>\n",
       "      <td>0</td>\n",
       "      <td>0</td>\n",
       "      <td>0</td>\n",
       "      <td>0</td>\n",
       "      <td>0</td>\n",
       "      <td>1</td>\n",
       "    </tr>\n",
       "    <tr>\n",
       "      <th>1</th>\n",
       "      <td>34.04</td>\n",
       "      <td>The 1955 and 1958 sets alone are worth the pur...</td>\n",
       "      <td>u74766187 p87809670 The 1955 and 1958 sets alo...</td>\n",
       "      <td>0</td>\n",
       "      <td>0</td>\n",
       "      <td>0</td>\n",
       "      <td>0</td>\n",
       "      <td>0</td>\n",
       "      <td>0</td>\n",
       "      <td>0</td>\n",
       "      <td>0</td>\n",
       "      <td>0</td>\n",
       "      <td>0</td>\n",
       "      <td>0</td>\n",
       "      <td>0</td>\n",
       "      <td>0</td>\n",
       "      <td>0</td>\n",
       "      <td>0</td>\n",
       "      <td>0</td>\n",
       "      <td>0</td>\n",
       "      <td>0</td>\n",
       "      <td>0</td>\n",
       "      <td>0</td>\n",
       "      <td>1</td>\n",
       "      <td>0</td>\n",
       "      <td>0</td>\n",
       "      <td>0</td>\n",
       "      <td>1</td>\n",
       "      <td>0</td>\n",
       "    </tr>\n",
       "    <tr>\n",
       "      <th>2</th>\n",
       "      <td>1.72</td>\n",
       "      <td>Mary J Blige is someone most people know of. S...</td>\n",
       "      <td>u31689638 p52702240 Mary J Blige is someone mo...</td>\n",
       "      <td>0</td>\n",
       "      <td>0</td>\n",
       "      <td>0</td>\n",
       "      <td>0</td>\n",
       "      <td>0</td>\n",
       "      <td>0</td>\n",
       "      <td>0</td>\n",
       "      <td>1</td>\n",
       "      <td>0</td>\n",
       "      <td>0</td>\n",
       "      <td>0</td>\n",
       "      <td>0</td>\n",
       "      <td>0</td>\n",
       "      <td>0</td>\n",
       "      <td>0</td>\n",
       "      <td>0</td>\n",
       "      <td>0</td>\n",
       "      <td>0</td>\n",
       "      <td>0</td>\n",
       "      <td>0</td>\n",
       "      <td>0</td>\n",
       "      <td>0</td>\n",
       "      <td>0</td>\n",
       "      <td>0</td>\n",
       "      <td>0</td>\n",
       "      <td>1</td>\n",
       "    </tr>\n",
       "    <tr>\n",
       "      <th>3</th>\n",
       "      <td>10.99</td>\n",
       "      <td>Very good satch album</td>\n",
       "      <td>u35613516 p01314374 Very good satch album</td>\n",
       "      <td>0</td>\n",
       "      <td>0</td>\n",
       "      <td>0</td>\n",
       "      <td>0</td>\n",
       "      <td>0</td>\n",
       "      <td>0</td>\n",
       "      <td>0</td>\n",
       "      <td>0</td>\n",
       "      <td>0</td>\n",
       "      <td>0</td>\n",
       "      <td>0</td>\n",
       "      <td>0</td>\n",
       "      <td>0</td>\n",
       "      <td>0</td>\n",
       "      <td>0</td>\n",
       "      <td>0</td>\n",
       "      <td>0</td>\n",
       "      <td>1</td>\n",
       "      <td>0</td>\n",
       "      <td>0</td>\n",
       "      <td>0</td>\n",
       "      <td>0</td>\n",
       "      <td>0</td>\n",
       "      <td>0</td>\n",
       "      <td>0</td>\n",
       "      <td>1</td>\n",
       "    </tr>\n",
       "    <tr>\n",
       "      <th>4</th>\n",
       "      <td>7.98</td>\n",
       "      <td>Well there are hundreds of Christmas anthologi...</td>\n",
       "      <td>u93320378 p84396269 Well there are hundreds of...</td>\n",
       "      <td>0</td>\n",
       "      <td>0</td>\n",
       "      <td>0</td>\n",
       "      <td>0</td>\n",
       "      <td>0</td>\n",
       "      <td>0</td>\n",
       "      <td>0</td>\n",
       "      <td>0</td>\n",
       "      <td>0</td>\n",
       "      <td>0</td>\n",
       "      <td>0</td>\n",
       "      <td>0</td>\n",
       "      <td>0</td>\n",
       "      <td>0</td>\n",
       "      <td>1</td>\n",
       "      <td>0</td>\n",
       "      <td>0</td>\n",
       "      <td>0</td>\n",
       "      <td>0</td>\n",
       "      <td>0</td>\n",
       "      <td>0</td>\n",
       "      <td>1</td>\n",
       "      <td>0</td>\n",
       "      <td>0</td>\n",
       "      <td>0</td>\n",
       "      <td>0</td>\n",
       "    </tr>\n",
       "    <tr>\n",
       "      <th>...</th>\n",
       "      <td>...</td>\n",
       "      <td>...</td>\n",
       "      <td>...</td>\n",
       "      <td>...</td>\n",
       "      <td>...</td>\n",
       "      <td>...</td>\n",
       "      <td>...</td>\n",
       "      <td>...</td>\n",
       "      <td>...</td>\n",
       "      <td>...</td>\n",
       "      <td>...</td>\n",
       "      <td>...</td>\n",
       "      <td>...</td>\n",
       "      <td>...</td>\n",
       "      <td>...</td>\n",
       "      <td>...</td>\n",
       "      <td>...</td>\n",
       "      <td>...</td>\n",
       "      <td>...</td>\n",
       "      <td>...</td>\n",
       "      <td>...</td>\n",
       "      <td>...</td>\n",
       "      <td>...</td>\n",
       "      <td>...</td>\n",
       "      <td>...</td>\n",
       "      <td>...</td>\n",
       "      <td>...</td>\n",
       "      <td>...</td>\n",
       "      <td>...</td>\n",
       "    </tr>\n",
       "    <tr>\n",
       "      <th>19995</th>\n",
       "      <td>11.87</td>\n",
       "      <td>My goodness, Christian Scott has simply taken ...</td>\n",
       "      <td>u16765812 p17291597 My goodness, Christian Sco...</td>\n",
       "      <td>0</td>\n",
       "      <td>0</td>\n",
       "      <td>0</td>\n",
       "      <td>0</td>\n",
       "      <td>0</td>\n",
       "      <td>0</td>\n",
       "      <td>0</td>\n",
       "      <td>0</td>\n",
       "      <td>0</td>\n",
       "      <td>0</td>\n",
       "      <td>0</td>\n",
       "      <td>0</td>\n",
       "      <td>0</td>\n",
       "      <td>0</td>\n",
       "      <td>1</td>\n",
       "      <td>0</td>\n",
       "      <td>0</td>\n",
       "      <td>0</td>\n",
       "      <td>0</td>\n",
       "      <td>0</td>\n",
       "      <td>0</td>\n",
       "      <td>0</td>\n",
       "      <td>0</td>\n",
       "      <td>0</td>\n",
       "      <td>1</td>\n",
       "      <td>0</td>\n",
       "    </tr>\n",
       "    <tr>\n",
       "      <th>19996</th>\n",
       "      <td>16.99</td>\n",
       "      <td>Congratulations Clan of Xymox - You have butch...</td>\n",
       "      <td>u04428712 p73630774 Congratulations Clan of Xy...</td>\n",
       "      <td>0</td>\n",
       "      <td>0</td>\n",
       "      <td>0</td>\n",
       "      <td>0</td>\n",
       "      <td>0</td>\n",
       "      <td>0</td>\n",
       "      <td>0</td>\n",
       "      <td>0</td>\n",
       "      <td>0</td>\n",
       "      <td>0</td>\n",
       "      <td>0</td>\n",
       "      <td>0</td>\n",
       "      <td>0</td>\n",
       "      <td>0</td>\n",
       "      <td>1</td>\n",
       "      <td>0</td>\n",
       "      <td>0</td>\n",
       "      <td>0</td>\n",
       "      <td>0</td>\n",
       "      <td>0</td>\n",
       "      <td>0</td>\n",
       "      <td>0</td>\n",
       "      <td>0</td>\n",
       "      <td>0</td>\n",
       "      <td>0</td>\n",
       "      <td>1</td>\n",
       "    </tr>\n",
       "    <tr>\n",
       "      <th>19997</th>\n",
       "      <td>49.95</td>\n",
       "      <td>I'm so happy that all of Cher's videos are out...</td>\n",
       "      <td>u39251384 p58275451 I'm so happy that all of C...</td>\n",
       "      <td>0</td>\n",
       "      <td>0</td>\n",
       "      <td>0</td>\n",
       "      <td>0</td>\n",
       "      <td>0</td>\n",
       "      <td>0</td>\n",
       "      <td>0</td>\n",
       "      <td>1</td>\n",
       "      <td>0</td>\n",
       "      <td>0</td>\n",
       "      <td>0</td>\n",
       "      <td>0</td>\n",
       "      <td>0</td>\n",
       "      <td>0</td>\n",
       "      <td>0</td>\n",
       "      <td>0</td>\n",
       "      <td>0</td>\n",
       "      <td>0</td>\n",
       "      <td>0</td>\n",
       "      <td>0</td>\n",
       "      <td>0</td>\n",
       "      <td>0</td>\n",
       "      <td>0</td>\n",
       "      <td>0</td>\n",
       "      <td>0</td>\n",
       "      <td>1</td>\n",
       "    </tr>\n",
       "    <tr>\n",
       "      <th>19998</th>\n",
       "      <td>9.42</td>\n",
       "      <td>While I agree with the comments made by Maxwel...</td>\n",
       "      <td>u05089888 p13155723 While I agree with the com...</td>\n",
       "      <td>0</td>\n",
       "      <td>0</td>\n",
       "      <td>0</td>\n",
       "      <td>0</td>\n",
       "      <td>0</td>\n",
       "      <td>0</td>\n",
       "      <td>0</td>\n",
       "      <td>1</td>\n",
       "      <td>0</td>\n",
       "      <td>0</td>\n",
       "      <td>0</td>\n",
       "      <td>0</td>\n",
       "      <td>0</td>\n",
       "      <td>0</td>\n",
       "      <td>0</td>\n",
       "      <td>0</td>\n",
       "      <td>0</td>\n",
       "      <td>0</td>\n",
       "      <td>0</td>\n",
       "      <td>0</td>\n",
       "      <td>0</td>\n",
       "      <td>0</td>\n",
       "      <td>1</td>\n",
       "      <td>0</td>\n",
       "      <td>0</td>\n",
       "      <td>0</td>\n",
       "    </tr>\n",
       "    <tr>\n",
       "      <th>19999</th>\n",
       "      <td>14.98</td>\n",
       "      <td>Its almost not fair to have to compare this re...</td>\n",
       "      <td>u99404755 p88280495 Its almost not fair to hav...</td>\n",
       "      <td>0</td>\n",
       "      <td>0</td>\n",
       "      <td>0</td>\n",
       "      <td>0</td>\n",
       "      <td>0</td>\n",
       "      <td>1</td>\n",
       "      <td>0</td>\n",
       "      <td>0</td>\n",
       "      <td>0</td>\n",
       "      <td>0</td>\n",
       "      <td>0</td>\n",
       "      <td>0</td>\n",
       "      <td>0</td>\n",
       "      <td>0</td>\n",
       "      <td>0</td>\n",
       "      <td>0</td>\n",
       "      <td>0</td>\n",
       "      <td>0</td>\n",
       "      <td>0</td>\n",
       "      <td>0</td>\n",
       "      <td>0</td>\n",
       "      <td>1</td>\n",
       "      <td>0</td>\n",
       "      <td>0</td>\n",
       "      <td>0</td>\n",
       "      <td>0</td>\n",
       "    </tr>\n",
       "  </tbody>\n",
       "</table>\n",
       "<p>20000 rows × 29 columns</p>\n",
       "</div>"
      ],
      "text/plain": [
       "       price  ... category_Pop\n",
       "0      31.20  ...            1\n",
       "1      34.04  ...            0\n",
       "2       1.72  ...            1\n",
       "3      10.99  ...            1\n",
       "4       7.98  ...            0\n",
       "...      ...  ...          ...\n",
       "19995  11.87  ...            0\n",
       "19996  16.99  ...            1\n",
       "19997  49.95  ...            1\n",
       "19998   9.42  ...            0\n",
       "19999  14.98  ...            0\n",
       "\n",
       "[20000 rows x 29 columns]"
      ]
     },
     "execution_count": 17,
     "metadata": {
      "tags": []
     },
     "output_type": "execute_result"
    }
   ],
   "source": [
    "test_data.reindex(columns=train_data.drop(columns=['overall']).columns)"
   ]
  },
  {
   "cell_type": "markdown",
   "metadata": {
    "id": "pkJ3EAWFZnqs"
   },
   "source": [
    "### c. Save processed data"
   ]
  },
  {
   "cell_type": "code",
   "execution_count": 18,
   "metadata": {
    "id": "Gn49Y_tdZnGh"
   },
   "outputs": [],
   "source": [
    "train_data.to_csv(base_data_folder + 'train_processed.csv', index=False)\n",
    "test_data.to_csv(base_data_folder + 'test_data.csv', index=False)"
   ]
  },
  {
   "cell_type": "markdown",
   "metadata": {
    "id": "DFa782nxwKBP"
   },
   "source": [
    "## **4. Visualization**"
   ]
  },
  {
   "cell_type": "code",
   "execution_count": 19,
   "metadata": {
    "id": "GVqkrdwMdk7D"
   },
   "outputs": [],
   "source": [
    "!pip install --force-reinstall --no-deps git+https://github.com/ck37/coral-ordinal/ > /dev/null 2>&1"
   ]
  },
  {
   "cell_type": "code",
   "execution_count": 20,
   "metadata": {
    "id": "M0dsm7buGV-6"
   },
   "outputs": [],
   "source": [
    "import coral_ordinal as coral\n",
    "import pickle\n",
    "import scipy\n",
    "import tensorflow as tf\n",
    "\n",
    "from sklearn.base import BaseEstimator, TransformerMixin\n",
    "from sklearn.compose import ColumnTransformer\n",
    "from sklearn.ensemble import RandomForestClassifier, GradientBoostingClassifier, RandomForestRegressor\n",
    "from sklearn.feature_extraction.text import CountVectorizer, TfidfVectorizer\n",
    "from sklearn.feature_selection import SelectKBest, chi2\n",
    "from sklearn.linear_model import LogisticRegression, LinearRegression\n",
    "from sklearn.metrics import *\n",
    "from sklearn.metrics import mean_squared_error as mse\n",
    "from sklearn.model_selection import GridSearchCV, StratifiedKFold, cross_val_score, train_test_split, KFold\n",
    "from sklearn.neighbors import KNeighborsClassifier\n",
    "from sklearn.naive_bayes import GaussianNB\n",
    "from sklearn.pipeline import Pipeline\n",
    "from sklearn.preprocessing import StandardScaler, LabelEncoder\n",
    "from sklearn.svm import SVC, LinearSVR\n",
    "from sklearn.tree import DecisionTreeClassifier\n",
    "\n",
    "from tensorflow.keras.callbacks import EarlyStopping\n",
    "from keras.models import Sequential\n",
    "from keras.layers import Dense, Dropout, Activation, LSTM, Reshape\n",
    "from keras.wrappers.scikit_learn import KerasClassifier, KerasRegressor"
   ]
  },
  {
   "cell_type": "code",
   "execution_count": 21,
   "metadata": {
    "id": "-y5BVKoogmzV"
   },
   "outputs": [],
   "source": [
    "train_data = pd.read_csv(base_data_folder + 'train_processed.csv')\n",
    "test_data = pd.read_csv(base_data_folder + 'test_data.csv')\n",
    "train_data.fillna(\"\", inplace=True)\n",
    "test_data.fillna(\"\", inplace=True)"
   ]
  },
  {
   "cell_type": "markdown",
   "metadata": {
    "id": "2_54Ii95wxrJ"
   },
   "source": [
    "### a. rating distribution"
   ]
  },
  {
   "cell_type": "code",
   "execution_count": 37,
   "metadata": {
    "colab": {
     "base_uri": "https://localhost:8080/",
     "height": 301
    },
    "id": "rzGWljekwQly",
    "outputId": "17849289-44fb-4220-9cb5-06073d0cbe33"
   },
   "outputs": [
    {
     "data": {
      "image/png": "[encoded data removed]",
      "text/plain": [
       "<Figure size 432x288 with 1 Axes>"
      ]
     },
     "metadata": {
      "needs_background": "light",
      "tags": []
     },
     "output_type": "display_data"
    }
   ],
   "source": [
    "overall_df = pd.DataFrame(train_data['overall'].value_counts())\n",
    "overall = overall_df.plot.bar()\n",
    "plt.xlabel('Star Rating')  \n",
    "plt.ylabel('Counts')\n",
    "plt.title('Rating distribution in train data')\n",
    "plt.show()"
   ]
  },
  {
   "cell_type": "markdown",
   "metadata": {
    "id": "FmZiHZawxOIF"
   },
   "source": [
    "### b. word analyzation"
   ]
  },
  {
   "cell_type": "code",
   "execution_count": null,
   "metadata": {
    "id": "wmu9CTr5ymub"
   },
   "outputs": [],
   "source": [
    "# for wrods analyzation based on preproced_text\n",
    "# import itertools\n",
    "# import nltk\n",
    "# nltk.download('punkt') "
   ]
  },
  {
   "cell_type": "code",
   "execution_count": 38,
   "metadata": {
    "colab": {
     "base_uri": "https://localhost:8080/",
     "height": 700
    },
    "id": "g4GN0ey5xMxZ",
    "outputId": "244835ba-f3ed-4dc7-8fcd-666b7d06a936"
   },
   "outputs": [
    {
     "name": "stdout",
     "output_type": "stream",
     "text": [
      "[nltk_data] Downloading package punkt to /root/nltk_data...\n",
      "[nltk_data]   Unzipping tokenizers/punkt.zip.\n"
     ]
    },
    {
     "data": {
      "text/html": [
       "<div>\n",
       "<style scoped>\n",
       "    .dataframe tbody tr th:only-of-type {\n",
       "        vertical-align: middle;\n",
       "    }\n",
       "\n",
       "    .dataframe tbody tr th {\n",
       "        vertical-align: top;\n",
       "    }\n",
       "\n",
       "    .dataframe thead th {\n",
       "        text-align: right;\n",
       "    }\n",
       "</style>\n",
       "<table border=\"1\" class=\"dataframe\">\n",
       "  <thead>\n",
       "    <tr style=\"text-align: right;\">\n",
       "      <th></th>\n",
       "      <th>Word</th>\n",
       "      <th>Frequency</th>\n",
       "    </tr>\n",
       "  </thead>\n",
       "  <tbody>\n",
       "    <tr>\n",
       "      <th>0</th>\n",
       "      <td>the</td>\n",
       "      <td>853275</td>\n",
       "    </tr>\n",
       "    <tr>\n",
       "      <th>1</th>\n",
       "      <td>and</td>\n",
       "      <td>531119</td>\n",
       "    </tr>\n",
       "    <tr>\n",
       "      <th>2</th>\n",
       "      <td>this</td>\n",
       "      <td>236160</td>\n",
       "    </tr>\n",
       "    <tr>\n",
       "      <th>3</th>\n",
       "      <td>that</td>\n",
       "      <td>215149</td>\n",
       "    </tr>\n",
       "    <tr>\n",
       "      <th>4</th>\n",
       "      <td>with</td>\n",
       "      <td>159400</td>\n",
       "    </tr>\n",
       "    <tr>\n",
       "      <th>5</th>\n",
       "      <td>The</td>\n",
       "      <td>151570</td>\n",
       "    </tr>\n",
       "    <tr>\n",
       "      <th>6</th>\n",
       "      <td>album</td>\n",
       "      <td>150895</td>\n",
       "    </tr>\n",
       "    <tr>\n",
       "      <th>7</th>\n",
       "      <td>for</td>\n",
       "      <td>134245</td>\n",
       "    </tr>\n",
       "    <tr>\n",
       "      <th>8</th>\n",
       "      <td>you</td>\n",
       "      <td>125876</td>\n",
       "    </tr>\n",
       "    <tr>\n",
       "      <th>9</th>\n",
       "      <td>are</td>\n",
       "      <td>123199</td>\n",
       "    </tr>\n",
       "    <tr>\n",
       "      <th>10</th>\n",
       "      <td>but</td>\n",
       "      <td>119575</td>\n",
       "    </tr>\n",
       "    <tr>\n",
       "      <th>11</th>\n",
       "      <td>was</td>\n",
       "      <td>105634</td>\n",
       "    </tr>\n",
       "    <tr>\n",
       "      <th>12</th>\n",
       "      <td>n't</td>\n",
       "      <td>102226</td>\n",
       "    </tr>\n",
       "    <tr>\n",
       "      <th>13</th>\n",
       "      <td>have</td>\n",
       "      <td>91919</td>\n",
       "    </tr>\n",
       "    <tr>\n",
       "      <th>14</th>\n",
       "      <td>not</td>\n",
       "      <td>87169</td>\n",
       "    </tr>\n",
       "    <tr>\n",
       "      <th>15</th>\n",
       "      <td>like</td>\n",
       "      <td>87121</td>\n",
       "    </tr>\n",
       "    <tr>\n",
       "      <th>16</th>\n",
       "      <td>one</td>\n",
       "      <td>84373</td>\n",
       "    </tr>\n",
       "    <tr>\n",
       "      <th>17</th>\n",
       "      <td>music</td>\n",
       "      <td>81635</td>\n",
       "    </tr>\n",
       "    <tr>\n",
       "      <th>18</th>\n",
       "      <td>from</td>\n",
       "      <td>78088</td>\n",
       "    </tr>\n",
       "    <tr>\n",
       "      <th>19</th>\n",
       "      <td>song</td>\n",
       "      <td>77069</td>\n",
       "    </tr>\n",
       "  </tbody>\n",
       "</table>\n",
       "</div>"
      ],
      "text/plain": [
       "     Word  Frequency\n",
       "0     the     853275\n",
       "1     and     531119\n",
       "2    this     236160\n",
       "3    that     215149\n",
       "4    with     159400\n",
       "5     The     151570\n",
       "6   album     150895\n",
       "7     for     134245\n",
       "8     you     125876\n",
       "9     are     123199\n",
       "10    but     119575\n",
       "11    was     105634\n",
       "12    n't     102226\n",
       "13   have      91919\n",
       "14    not      87169\n",
       "15   like      87121\n",
       "16    one      84373\n",
       "17  music      81635\n",
       "18   from      78088\n",
       "19   song      77069"
      ]
     },
     "execution_count": 38,
     "metadata": {
      "tags": []
     },
     "output_type": "execute_result"
    }
   ],
   "source": [
    "# for wrods analyzation based on preproced_text\n",
    "# import itertools\n",
    "# import nltk\n",
    "# nltk.download('punkt') \n",
    "# top_N = 20\n",
    "# preproced_trai_sent = train_data['combined_reviewText'].str.cat(sep=' ')\n",
    "# words = nltk.tokenize.word_tokenize(preproced_trai_sent)\n",
    "# words_selected = [i for i in words if len(i) > 2]\n",
    "# words_dist = nltk.FreqDist(words_selected)\n",
    "# words_fre = pd.DataFrame(words_dist.most_common(top_N),\n",
    "#                     columns=['Word', 'Frequency'])\n",
    "# words_fre"
   ]
  },
  {
   "cell_type": "markdown",
   "metadata": {
    "id": "QVA5D6N3GJvR"
   },
   "source": [
    "## **5. Models**"
   ]
  },
  {
   "cell_type": "markdown",
   "metadata": {
    "id": "2d4OyC4GwZUc"
   },
   "source": [
    "### a. prep"
   ]
  },
  {
   "cell_type": "markdown",
   "metadata": {
    "id": "_83MozoYJKW8"
   },
   "source": [
    "### b. Simple Models"
   ]
  },
  {
   "cell_type": "markdown",
   "metadata": {
    "id": "IiC9yMSfmp47"
   },
   "source": [
    "##### convert sparse matrix to dense"
   ]
  },
  {
   "cell_type": "code",
   "execution_count": 23,
   "metadata": {
    "id": "D44eYZ0immjn"
   },
   "outputs": [],
   "source": [
    "class DenseTransformer(TransformerMixin):\n",
    "    def fit(self, X, y=None, **fit_params):\n",
    "        return self\n",
    "\n",
    "    def transform(self, X, y=None, **fit_params):\n",
    "        return X.todense()"
   ]
  },
  {
   "cell_type": "markdown",
   "metadata": {
    "id": "x6NDKsOXmoCA"
   },
   "source": [
    "##### Train"
   ]
  },
  {
   "cell_type": "code",
   "execution_count": null,
   "metadata": {
    "id": "DTU-bjVNJXd4"
   },
   "outputs": [],
   "source": [
    "max_iter = 100\n",
    "max_features=2000\n",
    "n_gram = 2\n",
    "models = {\n",
    "    'Logistic Regression': LogisticRegression,\n",
    "    'Naive-Bayes': GaussianNB,\n",
    "    'SVM': SVC,\n",
    "    'Decision Tree': DecisionTreeClassifier,\n",
    "    'Random Forest': RandomForestClassifier,\n",
    "    'XGBoost': GradientBoostingClassifier\n",
    "}\n",
    "\n",
    "vectorizers1 = {\n",
    "    'wf': CountVectorizer(),\n",
    "    'tfidf': TfidfVectorizer(),\n",
    "    '2gram': CountVectorizer(analyzer='word', ngram_range=(2, 2))\n",
    "}\n",
    "\n",
    "vectorizers2 = {\n",
    "    'wf': CountVectorizer(),\n",
    "    'tfidf': TfidfVectorizer(),\n",
    "    '2gram': CountVectorizer(analyzer='word', ngram_range=(2, 2))\n",
    "}\n",
    "\n",
    "def test_models(data,\n",
    "                test_size=0.3,\n",
    "                max_iter=max_iter, \n",
    "                max_features=max_features, \n",
    "                models=models, \n",
    "                vectorizers1=vectorizers1,\n",
    "                vectorizers2=vectorizers2,\n",
    "                verbose=False\n",
    "                ):\n",
    "  y = data.overall\n",
    "  X = data.drop(columns=['overall'])\n",
    "  for vc1_name, vc1 in vectorizers1.items():\n",
    "    for vc2_name, vc2 in vectorizers2.items():\n",
    "      for model_name, model in models.items():\n",
    "        try:\n",
    "          m = model(max_iter=max_iter)\n",
    "        except:\n",
    "          m = model()\n",
    "\n",
    "        summary_pipe = Pipeline([\n",
    "                                 ('vect', vc1),\n",
    "                                 ('select', SelectKBest(chi2, k=max_features))\n",
    "                                 ])\n",
    "\n",
    "        review_pipe = Pipeline([\n",
    "                                ('vect', vc2),\n",
    "                                ('select', SelectKBest(chi2, k=max_features))\n",
    "                                ])\n",
    "        \n",
    "        preprocess = ColumnTransformer([\n",
    "                                        ('price_std', StandardScaler(), ['price']),\n",
    "                                        ('summary', summary_pipe, 'cleaned_summary'),\n",
    "                                        ('reviewText', review_pipe, 'combined_reviewText')\n",
    "                                        ], remainder = 'passthrough')\n",
    "        \n",
    "        pipe = Pipeline([\n",
    "                        ('preprocess', preprocess),\n",
    "                        ('to_dense', DenseTransformer()),\n",
    "                        ('model', m)\n",
    "        ])\n",
    "        \n",
    "        y = data.overall\n",
    "        X = data.drop(columns=['overall'])\n",
    "        \n",
    "        X_train, X_test, y_train, y_test = train_test_split(X,\n",
    "                                                      y,\n",
    "                                                      test_size=test_size, \n",
    "                                                      random_state=42)\n",
    "\n",
    "        pipe.fit(X_train, y_train)\n",
    "\n",
    "        prediction = pipe.predict(X_test)\n",
    "        error = mse(y_test, prediction)\n",
    "        print(f'===== {model_name} | review text vectorizer: {vc1_name} | summary vectorizer: {vc2_name} =====')\n",
    "        print(f'Test Mean Squared Error: {error}')\n",
    "\n",
    "test_models(train_data)"
   ]
  },
  {
   "cell_type": "markdown",
   "metadata": {
    "id": "-lSaKGrIk5e1"
   },
   "source": [
    "### **c. Neural Network**\n",
    "\n",
    "We use a pipeline for our neural network model and it consists following steps: \n",
    "\n",
    "1.   The model uses column transformer to process the features separately. It normalizes the numeric features and vectorizes the text feature using TFIDF. We also use feature selection to select the best features for the text features.\n",
    "2.   It transforms the sparse matrix produced by the column transformer to dense matrix in order to feed in the neural network.\n",
    "3. The NN consists of a LSTM along with a few more dense layers and we use it to predict the overall rating."
   ]
  },
  {
   "cell_type": "markdown",
   "metadata": {
    "id": "Bw5DWwuBh2ZW"
   },
   "source": [
    "#### 1) Helper functions\n",
    "\n",
    "1. Create model\n",
    "\n",
    "2. Model tuner"
   ]
  },
  {
   "cell_type": "code",
   "execution_count": 24,
   "metadata": {
    "id": "OsXZi8gEiU2y"
   },
   "outputs": [],
   "source": [
    "def create_model(num_layer=256, \n",
    "                 init_lr=0.005, \n",
    "                 decay_rate=0.95, \n",
    "                 decay_step=3000, \n",
    "                 drop_out=0.75,\n",
    "                 epoch=50,\n",
    "                 batch_size=64,\n",
    "                 saved_features=2000,\n",
    "                 vectorizer='tfidf'):\n",
    "  def model_compiler(\n",
    "      num_layer=num_layer,\n",
    "      init_lr=init_lr,\n",
    "      decay_rate=decay_rate,\n",
    "      decay_steps=decay_step,\n",
    "      drop_out=drop_out,\n",
    "      loss_func='mse',\n",
    "      metrics = [tf.keras.losses.MSE],\n",
    "      saved_features=saved_features\n",
    "      ):\n",
    "    model = tf.keras.Sequential([\n",
    "      Reshape(target_shape=(1,-1)),\n",
    "      LSTM(num_layer),\n",
    "      Dropout(drop_out),\n",
    "      Dense(num_layer*2, kernel_initializer='normal', activation='relu'),\n",
    "      Dropout(drop_out),\n",
    "      Dense(num_layer, kernel_initializer='normal', activation='relu'),\n",
    "      Dropout(drop_out),\n",
    "      Dense(num_layer/2, kernel_initializer='normal', activation='relu'),\n",
    "      Dropout(drop_out),\n",
    "      Dense(1, kernel_initializer='normal', activation='relu')\n",
    "    ])\n",
    "    # decay learning rate\n",
    "    lr_schedule = ExponentialDecay(\n",
    "        initial_learning_rate=init_lr,\n",
    "        decay_steps=decay_steps,\n",
    "        decay_rate=decay_rate,\n",
    "        staircase=True)\n",
    "\n",
    "    opt = Adam(learning_rate=lr_schedule)\n",
    "    model.compile(loss=loss_func, optimizer=opt, metrics=metrics)\n",
    "    return model\n",
    "\n",
    "  vects = {\n",
    "    'wf': CountVectorizer(),\n",
    "    'tfidf': TfidfVectorizer(),\n",
    "    '2gram': CountVectorizer(analyzer='word', ngram_range=(2, 2))\n",
    "  }\n",
    "  vect = vects[vectorizer]\n",
    "  summary_pipe = Pipeline([\n",
    "                      ('vect', vect),\n",
    "                      ('select', SelectKBest(chi2, k=saved_features))\n",
    "                      ])\n",
    "\n",
    "  review_pipe = Pipeline([('vect', vect),\n",
    "                          ('select', SelectKBest(chi2, k=saved_features))\n",
    "                                ])\n",
    "\n",
    "  preprocess = ColumnTransformer([\n",
    "                                ('price_std', StandardScaler(), ['price']),\n",
    "                                ('summary_count_vec', summary_pipe, 'cleaned_summary'),\n",
    "                                ('review_tfidf', review_pipe, 'combined_reviewText')\n",
    "                                ], remainder = 'passthrough')\n",
    "  model = KerasRegressor(model_compiler, epochs=epoch, batch_size=batch_size, verbose=True)\n",
    "  pipe = Pipeline([('preprocess', preprocess),\n",
    "                    ('to_dense', DenseTransformer()),\n",
    "                    ('nn', model)], verbose=True)\n",
    "  return pipe"
   ]
  },
  {
   "cell_type": "code",
   "execution_count": 25,
   "metadata": {
    "id": "AUfffFYWiOOg"
   },
   "outputs": [],
   "source": [
    "from sklearn.metrics import mean_squared_error\n",
    "import matplotlib.pyplot as plt\n",
    "import numpy as np\n",
    "class ModelTuner():\n",
    "  def __init__(self, params):\n",
    "    self.params = params\n",
    "    self.models = [create_model(**param, epoch=15) for param in self.params]\n",
    "    self.train_scores = [0] * len(self.params)\n",
    "    self.test_scores = [0] * len(self.params)\n",
    "\n",
    "  def fit_scores(self, X_train, y_train, X_test, y_test):\n",
    "    for i, model in enumerate(self.models):\n",
    "      model.fit(X_train, y_train)\n",
    "      y_train_pred = model.predict(X_train)\n",
    "      y_pred = model.predict(X_test)\n",
    "      self.test_scores[i] = mean_squared_error(y_test, y_pred)\n",
    "      self.train_scores[i] = mean_squared_error(y_train, y_train_pred)\n",
    "  \n",
    "  def visualize(self, title, xlabel):\n",
    "    width = 0.35  # the width of the bars\n",
    "    x = np.arange(len(self.train_scores))\n",
    "    params = [list(param.values())[0] for param in self.params]\n",
    "\n",
    "    fig, ax = plt.subplots()\n",
    "    rects1 = ax.bar(x - width/2, self.train_scores, width, label='Train')\n",
    "    rects2 = ax.bar(x + width/2, self.test_scores, width, label='Test')\n",
    "\n",
    "    # Add some text for labels, title and custom x-axis tick labels, etc.\n",
    "    ax.set_ylabel('MSE')\n",
    "    ax.set_title(title)\n",
    "    ax.set_xticks(x)\n",
    "    ax.set_xticklabels(params)\n",
    "    ax.set_xlabel(xlabel)\n",
    "    ax.legend()\n",
    "\n",
    "    plt.show()"
   ]
  },
  {
   "cell_type": "code",
   "execution_count": 31,
   "metadata": {
    "id": "9vRsynn-pMRf"
   },
   "outputs": [],
   "source": [
    "y = train_data.overall\n",
    "X = train_data.drop(columns=['overall'])\n",
    "X_train, X_test, y_train, y_test = train_test_split(X, y,\n",
    "                                                      test_size=0.3, \n",
    "                                                      random_state=42)"
   ]
  },
  {
   "cell_type": "markdown",
   "metadata": {
    "id": "ELHFbD-JiXGl"
   },
   "source": [
    "#### 2) Tuning Learning Rate"
   ]
  },
  {
   "cell_type": "code",
   "execution_count": null,
   "metadata": {
    "id": "N1oPxSqQtX20"
   },
   "outputs": [],
   "source": [
    "y = train_data['overall']\n",
    "X = train_data.drop(columns=['overall'])\n",
    "\n",
    "X_train, X_test, y_train, y_test = train_test_split(X, y, test_size=0.2, random_state=42)"
   ]
  },
  {
   "cell_type": "code",
   "execution_count": null,
   "metadata": {
    "id": "8Ygj4mKGifxO"
   },
   "outputs": [],
   "source": [
    "lr_tuner = ModelTuner(params=[{'init_lr': 0.05},\n",
    "                              {'init_lr': 0.01},\n",
    "                              {'init_lr': 0.005}])\n",
    "\n",
    "lr_tuner.fit_scores(X_train, y_train, X_test, y_test)"
   ]
  },
  {
   "cell_type": "markdown",
   "metadata": {
    "id": "qNLtE7Ksjn6B"
   },
   "source": [
    "##### Visualization"
   ]
  },
  {
   "cell_type": "code",
   "execution_count": null,
   "metadata": {
    "id": "lshBW8D6jplB"
   },
   "outputs": [],
   "source": [
    "lr_tuner.visualize(\"Initial learning rate VS MSE\", \"Initial learning rate\")"
   ]
  },
  {
   "cell_type": "code",
   "execution_count": null,
   "metadata": {
    "id": "f4QTz2YPjrv1"
   },
   "outputs": [],
   "source": [
    "# Delete the model to free memory\n",
    "del lr_tuner"
   ]
  },
  {
   "cell_type": "markdown",
   "metadata": {
    "id": "lnRkKYijj1--"
   },
   "source": [
    "#### 3) Tune Number of Layers"
   ]
  },
  {
   "cell_type": "code",
   "execution_count": null,
   "metadata": {
    "id": "gowJrLAJj36Y"
   },
   "outputs": [],
   "source": [
    "layer_tuner = ModelTuner(params=[{'num_layer': 128},\n",
    "                                 {'num_layer': 256},\n",
    "                                 {'num_layer': 324}\n",
    "                                ])\n",
    "layer_tuner.fit_scores(X_train, y_train, X_test, y_test)"
   ]
  },
  {
   "cell_type": "markdown",
   "metadata": {
    "id": "j3_0qJ3Ij9DU"
   },
   "source": [
    "##### Visualiztion"
   ]
  },
  {
   "cell_type": "code",
   "execution_count": null,
   "metadata": {
    "id": "pEEvyQRnj-ab"
   },
   "outputs": [],
   "source": [
    "layer_tuner.visualize(\"Number of Layers VS MSE\", \"Num of layers\")"
   ]
  },
  {
   "cell_type": "code",
   "execution_count": null,
   "metadata": {
    "id": "GYEEiQu-j_xB"
   },
   "outputs": [],
   "source": [
    "del layer_tuner"
   ]
  },
  {
   "cell_type": "markdown",
   "metadata": {
    "id": "4ubtzNZzkAvi"
   },
   "source": [
    "#### 4) Tune Batch Size"
   ]
  },
  {
   "cell_type": "code",
   "execution_count": null,
   "metadata": {
    "id": "yzra-Tl9kD4A"
   },
   "outputs": [],
   "source": [
    "batch_tuner = ModelTuner(params=[{'batch_size': 32},\n",
    "                                 {'batch_size': 64},\n",
    "                                 {'batch_size': 128}\n",
    "                                ])\n",
    "batch_tuner.fit_scores(X_train, y_train, X_test, y_test)"
   ]
  },
  {
   "cell_type": "markdown",
   "metadata": {
    "id": "f-quHC2PkHeW"
   },
   "source": [
    "##### Visualization"
   ]
  },
  {
   "cell_type": "code",
   "execution_count": null,
   "metadata": {
    "id": "cjeNMHC8kG7q"
   },
   "outputs": [],
   "source": [
    "batch_tuner.visualize(\"Batch size VS MSE\", \"Batch size\")"
   ]
  },
  {
   "cell_type": "code",
   "execution_count": null,
   "metadata": {
    "id": "D9lECwyqoUoW"
   },
   "outputs": [],
   "source": [
    "del batch_tuner"
   ]
  },
  {
   "cell_type": "markdown",
   "metadata": {
    "id": "coUj1HWDoW8e"
   },
   "source": [
    "#### 5) Tune feature representation"
   ]
  },
  {
   "cell_type": "code",
   "execution_count": 33,
   "metadata": {
    "colab": {
     "base_uri": "https://localhost:8080/"
    },
    "id": "8tpgR3UUohTi",
    "outputId": "40816899-bfb7-464e-e98d-119cc56c73b3"
   },
   "outputs": [
    {
     "name": "stdout",
     "output_type": "stream",
     "text": [
      "[Pipeline] ........ (step 1 of 3) Processing preprocess, total=  22.7s\n",
      "[Pipeline] .......... (step 2 of 3) Processing to_dense, total=   1.8s\n",
      "Epoch 1/15\n",
      "1641/1641 [==============================] - 25s 5ms/step - loss: 2.8694 - mean_squared_error: 2.8694\n",
      "Epoch 2/15\n",
      "1641/1641 [==============================] - 8s 5ms/step - loss: 0.9853 - mean_squared_error: 0.9853\n",
      "Epoch 3/15\n",
      "1641/1641 [==============================] - 8s 5ms/step - loss: 0.9008 - mean_squared_error: 0.9008\n",
      "Epoch 4/15\n",
      "1641/1641 [==============================] - 8s 5ms/step - loss: 0.9325 - mean_squared_error: 0.9325\n",
      "Epoch 5/15\n",
      "1641/1641 [==============================] - 8s 5ms/step - loss: 0.9841 - mean_squared_error: 0.9841\n",
      "Epoch 6/15\n",
      "1641/1641 [==============================] - 8s 5ms/step - loss: 0.9914 - mean_squared_error: 0.9914\n",
      "Epoch 7/15\n",
      "1641/1641 [==============================] - 7s 5ms/step - loss: 1.0089 - mean_squared_error: 1.0089\n",
      "Epoch 8/15\n",
      "1641/1641 [==============================] - 7s 5ms/step - loss: 0.9979 - mean_squared_error: 0.9979\n",
      "Epoch 9/15\n",
      "1641/1641 [==============================] - 7s 5ms/step - loss: 0.9879 - mean_squared_error: 0.9879\n",
      "Epoch 10/15\n",
      "1641/1641 [==============================] - 7s 5ms/step - loss: 0.9994 - mean_squared_error: 0.9994\n",
      "Epoch 11/15\n",
      "1641/1641 [==============================] - 7s 5ms/step - loss: 0.9901 - mean_squared_error: 0.9901\n",
      "Epoch 12/15\n",
      "1641/1641 [==============================] - 7s 4ms/step - loss: 0.9898 - mean_squared_error: 0.9898\n",
      "Epoch 13/15\n",
      "1641/1641 [==============================] - 7s 5ms/step - loss: 0.9958 - mean_squared_error: 0.9958\n",
      "Epoch 14/15\n",
      "1641/1641 [==============================] - 7s 4ms/step - loss: 0.9985 - mean_squared_error: 0.9985\n",
      "Epoch 15/15\n",
      "1641/1641 [==============================] - 7s 4ms/step - loss: 0.9900 - mean_squared_error: 0.9900\n",
      "[Pipeline] ................ (step 3 of 3) Processing nn, total= 2.2min\n",
      "1641/1641 [==============================] - 5s 3ms/step\n",
      "704/704 [==============================] - 1s 2ms/step\n",
      "[Pipeline] ........ (step 1 of 3) Processing preprocess, total=  23.2s\n",
      "[Pipeline] .......... (step 2 of 3) Processing to_dense, total=   1.0s\n",
      "Epoch 1/15\n",
      "1641/1641 [==============================] - 10s 5ms/step - loss: 2.4202 - mean_squared_error: 2.4202\n",
      "Epoch 2/15\n",
      "1641/1641 [==============================] - 8s 5ms/step - loss: 0.8063 - mean_squared_error: 0.8063\n",
      "Epoch 3/15\n",
      "1641/1641 [==============================] - 8s 5ms/step - loss: 0.7201 - mean_squared_error: 0.7201\n",
      "Epoch 4/15\n",
      "1641/1641 [==============================] - 8s 5ms/step - loss: 0.7280 - mean_squared_error: 0.7280\n",
      "Epoch 5/15\n",
      "1641/1641 [==============================] - 8s 5ms/step - loss: 0.7438 - mean_squared_error: 0.7438\n",
      "Epoch 6/15\n",
      "1641/1641 [==============================] - 8s 5ms/step - loss: 0.7456 - mean_squared_error: 0.7456\n",
      "Epoch 7/15\n",
      "1641/1641 [==============================] - 8s 5ms/step - loss: 0.7418 - mean_squared_error: 0.7418\n",
      "Epoch 8/15\n",
      "1641/1641 [==============================] - 8s 5ms/step - loss: 0.7230 - mean_squared_error: 0.7230\n",
      "Epoch 9/15\n",
      "1641/1641 [==============================] - 8s 5ms/step - loss: 0.7201 - mean_squared_error: 0.7201\n",
      "Epoch 10/15\n",
      "1641/1641 [==============================] - 8s 5ms/step - loss: 0.7195 - mean_squared_error: 0.7195\n",
      "Epoch 11/15\n",
      "1641/1641 [==============================] - 8s 5ms/step - loss: 0.7079 - mean_squared_error: 0.7079\n",
      "Epoch 12/15\n",
      "1641/1641 [==============================] - 8s 5ms/step - loss: 0.7039 - mean_squared_error: 0.7039\n",
      "Epoch 13/15\n",
      "1641/1641 [==============================] - 8s 5ms/step - loss: 0.7087 - mean_squared_error: 0.7087\n",
      "Epoch 14/15\n",
      "1641/1641 [==============================] - 8s 5ms/step - loss: 0.6801 - mean_squared_error: 0.6801\n",
      "Epoch 15/15\n",
      "1641/1641 [==============================] - 8s 5ms/step - loss: 0.6736 - mean_squared_error: 0.6736\n",
      "[Pipeline] ................ (step 3 of 3) Processing nn, total= 2.0min\n",
      "1641/1641 [==============================] - 4s 2ms/step\n",
      "704/704 [==============================] - 1s 2ms/step\n",
      "[Pipeline] ........ (step 1 of 3) Processing preprocess, total= 1.1min\n",
      "[Pipeline] .......... (step 2 of 3) Processing to_dense, total=   0.9s\n",
      "Epoch 1/15\n",
      "1641/1641 [==============================] - 10s 5ms/step - loss: 2.9673 - mean_squared_error: 2.9673\n",
      "Epoch 2/15\n",
      "1641/1641 [==============================] - 8s 5ms/step - loss: 0.9297 - mean_squared_error: 0.9297\n",
      "Epoch 3/15\n",
      "1641/1641 [==============================] - 8s 5ms/step - loss: 0.9167 - mean_squared_error: 0.9167\n",
      "Epoch 4/15\n",
      "1641/1641 [==============================] - 8s 5ms/step - loss: 0.9632 - mean_squared_error: 0.9632\n",
      "Epoch 5/15\n",
      "1641/1641 [==============================] - 8s 5ms/step - loss: 0.9792 - mean_squared_error: 0.9792\n",
      "Epoch 6/15\n",
      "1641/1641 [==============================] - 8s 5ms/step - loss: 0.9969 - mean_squared_error: 0.9969\n",
      "Epoch 7/15\n",
      "1641/1641 [==============================] - 8s 5ms/step - loss: 0.9659 - mean_squared_error: 0.9659\n",
      "Epoch 8/15\n",
      "1641/1641 [==============================] - 8s 5ms/step - loss: 0.9653 - mean_squared_error: 0.9653\n",
      "Epoch 9/15\n",
      "1641/1641 [==============================] - 8s 5ms/step - loss: 0.9422 - mean_squared_error: 0.9422\n",
      "Epoch 10/15\n",
      "1641/1641 [==============================] - 8s 5ms/step - loss: 0.9519 - mean_squared_error: 0.9519\n",
      "Epoch 11/15\n",
      "1641/1641 [==============================] - 8s 5ms/step - loss: 0.9399 - mean_squared_error: 0.9399\n",
      "Epoch 12/15\n",
      "1641/1641 [==============================] - 7s 5ms/step - loss: 0.9341 - mean_squared_error: 0.9341\n",
      "Epoch 13/15\n",
      "1641/1641 [==============================] - 8s 5ms/step - loss: 0.9061 - mean_squared_error: 0.9061\n",
      "Epoch 14/15\n",
      "1641/1641 [==============================] - 8s 5ms/step - loss: 0.9661 - mean_squared_error: 0.9661\n",
      "Epoch 15/15\n",
      "1641/1641 [==============================] - 8s 5ms/step - loss: 0.9368 - mean_squared_error: 0.9368\n",
      "[Pipeline] ................ (step 3 of 3) Processing nn, total= 1.9min\n",
      "1641/1641 [==============================] - 4s 2ms/step\n",
      "704/704 [==============================] - 2s 2ms/step\n"
     ]
    }
   ],
   "source": [
    "vect_tuner = ModelTuner(params=[{'vectorizer': 'wf'},\n",
    "                                 {'vectorizer': 'tfidf'},\n",
    "                                 {'vectorizer': '2gram'}\n",
    "                                ])\n",
    "vect_tuner.fit_scores(X_train, y_train, X_test, y_test)"
   ]
  },
  {
   "cell_type": "markdown",
   "metadata": {
    "id": "7Gn0-o7mob8-"
   },
   "source": [
    "##### Visualization"
   ]
  },
  {
   "cell_type": "code",
   "execution_count": 34,
   "metadata": {
    "colab": {
     "base_uri": "https://localhost:8080/",
     "height": 295
    },
    "id": "uXoSdtfqouT0",
    "outputId": "a644d26f-053a-4bd6-9235-47bc13c4b3d6"
   },
   "outputs": [
    {
     "data": {
      "image/png": "[encoded data removed]",
      "text/plain": [
       "<Figure size 432x288 with 1 Axes>"
      ]
     },
     "metadata": {
      "needs_background": "light",
      "tags": []
     },
     "output_type": "display_data"
    }
   ],
   "source": [
    "vect_tuner.visualize(\"Feature representation VS MSE\", \"Text vectorizer\")"
   ]
  },
  {
   "cell_type": "code",
   "execution_count": null,
   "metadata": {
    "id": "7KHGJd3Krvbn"
   },
   "outputs": [],
   "source": [
    "del vect_tuner"
   ]
  },
  {
   "cell_type": "markdown",
   "metadata": {
    "id": "DUvLcntGkMF2"
   },
   "source": [
    "#### 5) Fit the model on partial training data and validate"
   ]
  },
  {
   "cell_type": "code",
   "execution_count": null,
   "metadata": {
    "id": "eYZwhAyKkLhf"
   },
   "outputs": [],
   "source": [
    "def model_test(model, X_test, y_test):\n",
    "  y_pred = model.predict(X_test)\n",
    "  score = mse(y_test, y_pred)\n",
    "  return score\n",
    "\n",
    "pipe = create_model(batch_size=64, num_layer=256, init_lr=0.005, vectorizer=\"tfidf\")\n",
    "pipe.fit(X_train, y_train)"
   ]
  },
  {
   "cell_type": "markdown",
   "metadata": {
    "id": "3PYk-sdDkXeQ"
   },
   "source": [
    "As we can see, the model is still a bit overfitted although we already did feature selection, learning rate decay and hyperparameter tuning."
   ]
  },
  {
   "cell_type": "code",
   "execution_count": null,
   "metadata": {
    "id": "sS5rI4LzkZME"
   },
   "outputs": [],
   "source": [
    "train_score = model_test(pipe, X_train, y_train)\n",
    "test_score = model_test(pipe, X_test, y_test)\n",
    "print(f\"Training MSE: {train_score}\")\n",
    "print(f'Testing MSE: {test_score}')"
   ]
  },
  {
   "cell_type": "markdown",
   "metadata": {
    "id": "ciczLDYOkrRX"
   },
   "source": [
    "#### 6) Fit the model on all training data\n",
    "\n",
    "Train the model using all data with best hyperparameters:\n",
    "batch_size=64, num_layer=256, init_lr=0.005, vectorizer='tfidf'\n",
    "\n"
   ]
  },
  {
   "cell_type": "code",
   "execution_count": null,
   "metadata": {
    "id": "KhSXatzGlHaS"
   },
   "outputs": [],
   "source": [
    "pipe = create_model(batch_size=64, num_layer=256, init_lr=0.005, vectorizer=\"tfidf\")\n",
    "pipe.fit(X, y)\n",
    "predictions = pipe.predict(test_data)\n",
    "# clip the data between the range of the reviews\n",
    "predictions = np.clip(predictions, a_min=1.0, a_max=5.0)"
   ]
  },
  {
   "cell_type": "code",
   "execution_count": null,
   "metadata": {
    "id": "z2tinrenlMOa"
   },
   "outputs": [],
   "source": [
    "score = model_test(pipe, X, y)\n",
    "print(f\"Training MSE: {score}\")"
   ]
  },
  {
   "cell_type": "code",
   "execution_count": null,
   "metadata": {
    "id": "7lxacX0elMmL"
   },
   "outputs": [],
   "source": [
    "def export_to_kaggle(rating_pairs_path, predictions, export_path):\n",
    "  rating_pairs = pd.read_csv(rating_pairs_path)\n",
    "  rating_pairs['prediction'] = predictions\n",
    "  rating_pairs.to_csv(export_path, index=False)"
   ]
  },
  {
   "cell_type": "code",
   "execution_count": null,
   "metadata": {
    "id": "9FilWkI0lOeh"
   },
   "outputs": [],
   "source": [
    "export_to_kaggle(rating_pairs_path, predictions, rating_pred_export_path)"
   ]
  }
 ],
 "metadata": {
  "accelerator": "GPU",
  "colab": {
   "collapsed_sections": [
    "PszAnVjM3urh",
    "JkXKak5ZWrDy",
    "d_crn1ATg99c",
    "2d4OyC4GwZUc"
   ],
   "machine_shape": "hm",
   "name": "MIE1624_Course_Project_zc.ipynb",
   "provenance": [],
   "toc_visible": true
  },
  "kernelspec": {
   "display_name": "Python 3",
   "language": "python",
   "name": "python3"
  },
  "language_info": {
   "codemirror_mode": {
    "name": "ipython",
    "version": 3
   },
   "file_extension": ".py",
   "mimetype": "text/x-python",
   "name": "python",
   "nbconvert_exporter": "python",
   "pygments_lexer": "ipython3",
   "version": "3.8.5"
  },
  "widgets": {
   "application/vnd.jupyter.widget-state+json": {
    "01399b2221b944319accfb8674d55480": {
     "model_module": "@jupyter-widgets/base",
     "model_name": "LayoutModel",
     "state": {
      "_model_module": "@jupyter-widgets/base",
      "_model_module_version": "1.2.0",
      "_model_name": "LayoutModel",
      "_view_count": null,
      "_view_module": "@jupyter-widgets/base",
      "_view_module_version": "1.2.0",
      "_view_name": "LayoutView",
      "align_content": null,
      "align_items": null,
      "align_self": null,
      "border": null,
      "bottom": null,
      "display": null,
      "flex": null,
      "flex_flow": null,
      "grid_area": null,
      "grid_auto_columns": null,
      "grid_auto_flow": null,
      "grid_auto_rows": null,
      "grid_column": null,
      "grid_gap": null,
      "grid_row": null,
      "grid_template_areas": null,
      "grid_template_columns": null,
      "grid_template_rows": null,
      "height": null,
      "justify_content": null,
      "justify_items": null,
      "left": null,
      "margin": null,
      "max_height": null,
      "max_width": null,
      "min_height": null,
      "min_width": null,
      "object_fit": null,
      "object_position": null,
      "order": null,
      "overflow": null,
      "overflow_x": null,
      "overflow_y": null,
      "padding": null,
      "right": null,
      "top": null,
      "visibility": null,
      "width": null
     }
    },
    "035a370b4d2d436482c91d27a2ad1313": {
     "model_module": "@jupyter-widgets/controls",
     "model_name": "DescriptionStyleModel",
     "state": {
      "_model_module": "@jupyter-widgets/controls",
      "_model_module_version": "1.5.0",
      "_model_name": "DescriptionStyleModel",
      "_view_count": null,
      "_view_module": "@jupyter-widgets/base",
      "_view_module_version": "1.2.0",
      "_view_name": "StyleView",
      "description_width": ""
     }
    },
    "0362b26bce2f46ac9762fcc7865fc940": {
     "model_module": "@jupyter-widgets/controls",
     "model_name": "HTMLModel",
     "state": {
      "_dom_classes": [],
      "_model_module": "@jupyter-widgets/controls",
      "_model_module_version": "1.5.0",
      "_model_name": "HTMLModel",
      "_view_count": null,
      "_view_module": "@jupyter-widgets/controls",
      "_view_module_version": "1.5.0",
      "_view_name": "HTMLView",
      "description": "",
      "description_tooltip": null,
      "layout": "IPY_MODEL_a9c5ecd49cfa4e7abce11c015450979e",
      "placeholder": "​",
      "style": "IPY_MODEL_244ed2e38f4343579bdf85d9b39e7e23",
      "value": " 150000/150000 [00:00&lt;00:00, 295171.06it/s]"
     }
    },
    "05a792c896304df186cd35b59ecfc17e": {
     "model_module": "@jupyter-widgets/base",
     "model_name": "LayoutModel",
     "state": {
      "_model_module": "@jupyter-widgets/base",
      "_model_module_version": "1.2.0",
      "_model_name": "LayoutModel",
      "_view_count": null,
      "_view_module": "@jupyter-widgets/base",
      "_view_module_version": "1.2.0",
      "_view_name": "LayoutView",
      "align_content": null,
      "align_items": null,
      "align_self": null,
      "border": null,
      "bottom": null,
      "display": null,
      "flex": null,
      "flex_flow": null,
      "grid_area": null,
      "grid_auto_columns": null,
      "grid_auto_flow": null,
      "grid_auto_rows": null,
      "grid_column": null,
      "grid_gap": null,
      "grid_row": null,
      "grid_template_areas": null,
      "grid_template_columns": null,
      "grid_template_rows": null,
      "height": null,
      "justify_content": null,
      "justify_items": null,
      "left": null,
      "margin": null,
      "max_height": null,
      "max_width": null,
      "min_height": null,
      "min_width": null,
      "object_fit": null,
      "object_position": null,
      "order": null,
      "overflow": null,
      "overflow_x": null,
      "overflow_y": null,
      "padding": null,
      "right": null,
      "top": null,
      "visibility": null,
      "width": null
     }
    },
    "117df0abeace45fbb88566e491e53243": {
     "model_module": "@jupyter-widgets/base",
     "model_name": "LayoutModel",
     "state": {
      "_model_module": "@jupyter-widgets/base",
      "_model_module_version": "1.2.0",
      "_model_name": "LayoutModel",
      "_view_count": null,
      "_view_module": "@jupyter-widgets/base",
      "_view_module_version": "1.2.0",
      "_view_name": "LayoutView",
      "align_content": null,
      "align_items": null,
      "align_self": null,
      "border": null,
      "bottom": null,
      "display": null,
      "flex": null,
      "flex_flow": null,
      "grid_area": null,
      "grid_auto_columns": null,
      "grid_auto_flow": null,
      "grid_auto_rows": null,
      "grid_column": null,
      "grid_gap": null,
      "grid_row": null,
      "grid_template_areas": null,
      "grid_template_columns": null,
      "grid_template_rows": null,
      "height": null,
      "justify_content": null,
      "justify_items": null,
      "left": null,
      "margin": null,
      "max_height": null,
      "max_width": null,
      "min_height": null,
      "min_width": null,
      "object_fit": null,
      "object_position": null,
      "order": null,
      "overflow": null,
      "overflow_x": null,
      "overflow_y": null,
      "padding": null,
      "right": null,
      "top": null,
      "visibility": null,
      "width": null
     }
    },
    "15b21cce4126452799fad709a531eef6": {
     "model_module": "@jupyter-widgets/base",
     "model_name": "LayoutModel",
     "state": {
      "_model_module": "@jupyter-widgets/base",
      "_model_module_version": "1.2.0",
      "_model_name": "LayoutModel",
      "_view_count": null,
      "_view_module": "@jupyter-widgets/base",
      "_view_module_version": "1.2.0",
      "_view_name": "LayoutView",
      "align_content": null,
      "align_items": null,
      "align_self": null,
      "border": null,
      "bottom": null,
      "display": null,
      "flex": null,
      "flex_flow": null,
      "grid_area": null,
      "grid_auto_columns": null,
      "grid_auto_flow": null,
      "grid_auto_rows": null,
      "grid_column": null,
      "grid_gap": null,
      "grid_row": null,
      "grid_template_areas": null,
      "grid_template_columns": null,
      "grid_template_rows": null,
      "height": null,
      "justify_content": null,
      "justify_items": null,
      "left": null,
      "margin": null,
      "max_height": null,
      "max_width": null,
      "min_height": null,
      "min_width": null,
      "object_fit": null,
      "object_position": null,
      "order": null,
      "overflow": null,
      "overflow_x": null,
      "overflow_y": null,
      "padding": null,
      "right": null,
      "top": null,
      "visibility": null,
      "width": null
     }
    },
    "1751a9ba5b894487981c2ebcde45b5c9": {
     "model_module": "@jupyter-widgets/controls",
     "model_name": "ProgressStyleModel",
     "state": {
      "_model_module": "@jupyter-widgets/controls",
      "_model_module_version": "1.5.0",
      "_model_name": "ProgressStyleModel",
      "_view_count": null,
      "_view_module": "@jupyter-widgets/base",
      "_view_module_version": "1.2.0",
      "_view_name": "StyleView",
      "bar_color": null,
      "description_width": "initial"
     }
    },
    "1e351d15b2b24feaa3f41818dc804473": {
     "model_module": "@jupyter-widgets/controls",
     "model_name": "FloatProgressModel",
     "state": {
      "_dom_classes": [],
      "_model_module": "@jupyter-widgets/controls",
      "_model_module_version": "1.5.0",
      "_model_name": "FloatProgressModel",
      "_view_count": null,
      "_view_module": "@jupyter-widgets/controls",
      "_view_module_version": "1.5.0",
      "_view_name": "ProgressView",
      "bar_style": "success",
      "description": "100%",
      "description_tooltip": null,
      "layout": "IPY_MODEL_f0f86000cbeb4498bf975ac351d42b6c",
      "max": 20000,
      "min": 0,
      "orientation": "horizontal",
      "style": "IPY_MODEL_b66917380e57462c8f4a706921dc1810",
      "value": 20000
     }
    },
    "1e7d274c203d4f88ac07fe2dae75c444": {
     "model_module": "@jupyter-widgets/base",
     "model_name": "LayoutModel",
     "state": {
      "_model_module": "@jupyter-widgets/base",
      "_model_module_version": "1.2.0",
      "_model_name": "LayoutModel",
      "_view_count": null,
      "_view_module": "@jupyter-widgets/base",
      "_view_module_version": "1.2.0",
      "_view_name": "LayoutView",
      "align_content": null,
      "align_items": null,
      "align_self": null,
      "border": null,
      "bottom": null,
      "display": null,
      "flex": null,
      "flex_flow": null,
      "grid_area": null,
      "grid_auto_columns": null,
      "grid_auto_flow": null,
      "grid_auto_rows": null,
      "grid_column": null,
      "grid_gap": null,
      "grid_row": null,
      "grid_template_areas": null,
      "grid_template_columns": null,
      "grid_template_rows": null,
      "height": null,
      "justify_content": null,
      "justify_items": null,
      "left": null,
      "margin": null,
      "max_height": null,
      "max_width": null,
      "min_height": null,
      "min_width": null,
      "object_fit": null,
      "object_position": null,
      "order": null,
      "overflow": null,
      "overflow_x": null,
      "overflow_y": null,
      "padding": null,
      "right": null,
      "top": null,
      "visibility": null,
      "width": null
     }
    },
    "1f0568dbbf134c5b8055a0dc4dfe2ea6": {
     "model_module": "@jupyter-widgets/base",
     "model_name": "LayoutModel",
     "state": {
      "_model_module": "@jupyter-widgets/base",
      "_model_module_version": "1.2.0",
      "_model_name": "LayoutModel",
      "_view_count": null,
      "_view_module": "@jupyter-widgets/base",
      "_view_module_version": "1.2.0",
      "_view_name": "LayoutView",
      "align_content": null,
      "align_items": null,
      "align_self": null,
      "border": null,
      "bottom": null,
      "display": null,
      "flex": null,
      "flex_flow": null,
      "grid_area": null,
      "grid_auto_columns": null,
      "grid_auto_flow": null,
      "grid_auto_rows": null,
      "grid_column": null,
      "grid_gap": null,
      "grid_row": null,
      "grid_template_areas": null,
      "grid_template_columns": null,
      "grid_template_rows": null,
      "height": null,
      "justify_content": null,
      "justify_items": null,
      "left": null,
      "margin": null,
      "max_height": null,
      "max_width": null,
      "min_height": null,
      "min_width": null,
      "object_fit": null,
      "object_position": null,
      "order": null,
      "overflow": null,
      "overflow_x": null,
      "overflow_y": null,
      "padding": null,
      "right": null,
      "top": null,
      "visibility": null,
      "width": null
     }
    },
    "23ae9a27870541e08295eeec6c0fd8d0": {
     "model_module": "@jupyter-widgets/base",
     "model_name": "LayoutModel",
     "state": {
      "_model_module": "@jupyter-widgets/base",
      "_model_module_version": "1.2.0",
      "_model_name": "LayoutModel",
      "_view_count": null,
      "_view_module": "@jupyter-widgets/base",
      "_view_module_version": "1.2.0",
      "_view_name": "LayoutView",
      "align_content": null,
      "align_items": null,
      "align_self": null,
      "border": null,
      "bottom": null,
      "display": null,
      "flex": null,
      "flex_flow": null,
      "grid_area": null,
      "grid_auto_columns": null,
      "grid_auto_flow": null,
      "grid_auto_rows": null,
      "grid_column": null,
      "grid_gap": null,
      "grid_row": null,
      "grid_template_areas": null,
      "grid_template_columns": null,
      "grid_template_rows": null,
      "height": null,
      "justify_content": null,
      "justify_items": null,
      "left": null,
      "margin": null,
      "max_height": null,
      "max_width": null,
      "min_height": null,
      "min_width": null,
      "object_fit": null,
      "object_position": null,
      "order": null,
      "overflow": null,
      "overflow_x": null,
      "overflow_y": null,
      "padding": null,
      "right": null,
      "top": null,
      "visibility": null,
      "width": null
     }
    },
    "244ed2e38f4343579bdf85d9b39e7e23": {
     "model_module": "@jupyter-widgets/controls",
     "model_name": "DescriptionStyleModel",
     "state": {
      "_model_module": "@jupyter-widgets/controls",
      "_model_module_version": "1.5.0",
      "_model_name": "DescriptionStyleModel",
      "_view_count": null,
      "_view_module": "@jupyter-widgets/base",
      "_view_module_version": "1.2.0",
      "_view_name": "StyleView",
      "description_width": ""
     }
    },
    "2983b3891e934079acae108a97c29949": {
     "model_module": "@jupyter-widgets/controls",
     "model_name": "HTMLModel",
     "state": {
      "_dom_classes": [],
      "_model_module": "@jupyter-widgets/controls",
      "_model_module_version": "1.5.0",
      "_model_name": "HTMLModel",
      "_view_count": null,
      "_view_module": "@jupyter-widgets/controls",
      "_view_module_version": "1.5.0",
      "_view_name": "HTMLView",
      "description": "",
      "description_tooltip": null,
      "layout": "IPY_MODEL_117df0abeace45fbb88566e491e53243",
      "placeholder": "​",
      "style": "IPY_MODEL_910958de3a084cb6b81b1fc897cceff5",
      "value": " 150000/150000 [00:00&lt;00:00, 233587.79it/s]"
     }
    },
    "2df0d91c2d2a470fbaa45dfa7a0d492f": {
     "model_module": "@jupyter-widgets/controls",
     "model_name": "DescriptionStyleModel",
     "state": {
      "_model_module": "@jupyter-widgets/controls",
      "_model_module_version": "1.5.0",
      "_model_name": "DescriptionStyleModel",
      "_view_count": null,
      "_view_module": "@jupyter-widgets/base",
      "_view_module_version": "1.2.0",
      "_view_name": "StyleView",
      "description_width": ""
     }
    },
    "30c3e5ae9e4c4e13a2cec5498a67d222": {
     "model_module": "@jupyter-widgets/controls",
     "model_name": "HBoxModel",
     "state": {
      "_dom_classes": [],
      "_model_module": "@jupyter-widgets/controls",
      "_model_module_version": "1.5.0",
      "_model_name": "HBoxModel",
      "_view_count": null,
      "_view_module": "@jupyter-widgets/controls",
      "_view_module_version": "1.5.0",
      "_view_name": "HBoxView",
      "box_style": "",
      "children": [
       "IPY_MODEL_9d78488e074b438ca1dae1d609b90826",
       "IPY_MODEL_bd91895ea5d347ebb9f294ef83d405bc"
      ],
      "layout": "IPY_MODEL_cb12b3265bb14145b64309e3a8402661"
     }
    },
    "30e2a530f02d47af8f9093bba9cfb524": {
     "model_module": "@jupyter-widgets/controls",
     "model_name": "HTMLModel",
     "state": {
      "_dom_classes": [],
      "_model_module": "@jupyter-widgets/controls",
      "_model_module_version": "1.5.0",
      "_model_name": "HTMLModel",
      "_view_count": null,
      "_view_module": "@jupyter-widgets/controls",
      "_view_module_version": "1.5.0",
      "_view_name": "HTMLView",
      "description": "",
      "description_tooltip": null,
      "layout": "IPY_MODEL_bcd720f44472475ab9200964e150622e",
      "placeholder": "​",
      "style": "IPY_MODEL_9637441f6da54467bd0c74e0ba310faf",
      "value": " 150000/150000 [00:03&lt;00:00, 48091.85it/s]"
     }
    },
    "336f0ff3c442475cab39084e0890bc02": {
     "model_module": "@jupyter-widgets/controls",
     "model_name": "ProgressStyleModel",
     "state": {
      "_model_module": "@jupyter-widgets/controls",
      "_model_module_version": "1.5.0",
      "_model_name": "ProgressStyleModel",
      "_view_count": null,
      "_view_module": "@jupyter-widgets/base",
      "_view_module_version": "1.2.0",
      "_view_name": "StyleView",
      "bar_color": null,
      "description_width": "initial"
     }
    },
    "37a647a470de447f8a1702b9841be6f2": {
     "model_module": "@jupyter-widgets/controls",
     "model_name": "FloatProgressModel",
     "state": {
      "_dom_classes": [],
      "_model_module": "@jupyter-widgets/controls",
      "_model_module_version": "1.5.0",
      "_model_name": "FloatProgressModel",
      "_view_count": null,
      "_view_module": "@jupyter-widgets/controls",
      "_view_module_version": "1.5.0",
      "_view_name": "ProgressView",
      "bar_style": "success",
      "description": "100%",
      "description_tooltip": null,
      "layout": "IPY_MODEL_37e02c138fdc46d7b950ca967b0501ff",
      "max": 150000,
      "min": 0,
      "orientation": "horizontal",
      "style": "IPY_MODEL_4c957c94eb914a3cbf4112e668f040c1",
      "value": 150000
     }
    },
    "37b98735f8044299adbd7c7c328f272a": {
     "model_module": "@jupyter-widgets/base",
     "model_name": "LayoutModel",
     "state": {
      "_model_module": "@jupyter-widgets/base",
      "_model_module_version": "1.2.0",
      "_model_name": "LayoutModel",
      "_view_count": null,
      "_view_module": "@jupyter-widgets/base",
      "_view_module_version": "1.2.0",
      "_view_name": "LayoutView",
      "align_content": null,
      "align_items": null,
      "align_self": null,
      "border": null,
      "bottom": null,
      "display": null,
      "flex": null,
      "flex_flow": null,
      "grid_area": null,
      "grid_auto_columns": null,
      "grid_auto_flow": null,
      "grid_auto_rows": null,
      "grid_column": null,
      "grid_gap": null,
      "grid_row": null,
      "grid_template_areas": null,
      "grid_template_columns": null,
      "grid_template_rows": null,
      "height": null,
      "justify_content": null,
      "justify_items": null,
      "left": null,
      "margin": null,
      "max_height": null,
      "max_width": null,
      "min_height": null,
      "min_width": null,
      "object_fit": null,
      "object_position": null,
      "order": null,
      "overflow": null,
      "overflow_x": null,
      "overflow_y": null,
      "padding": null,
      "right": null,
      "top": null,
      "visibility": null,
      "width": null
     }
    },
    "37e02c138fdc46d7b950ca967b0501ff": {
     "model_module": "@jupyter-widgets/base",
     "model_name": "LayoutModel",
     "state": {
      "_model_module": "@jupyter-widgets/base",
      "_model_module_version": "1.2.0",
      "_model_name": "LayoutModel",
      "_view_count": null,
      "_view_module": "@jupyter-widgets/base",
      "_view_module_version": "1.2.0",
      "_view_name": "LayoutView",
      "align_content": null,
      "align_items": null,
      "align_self": null,
      "border": null,
      "bottom": null,
      "display": null,
      "flex": null,
      "flex_flow": null,
      "grid_area": null,
      "grid_auto_columns": null,
      "grid_auto_flow": null,
      "grid_auto_rows": null,
      "grid_column": null,
      "grid_gap": null,
      "grid_row": null,
      "grid_template_areas": null,
      "grid_template_columns": null,
      "grid_template_rows": null,
      "height": null,
      "justify_content": null,
      "justify_items": null,
      "left": null,
      "margin": null,
      "max_height": null,
      "max_width": null,
      "min_height": null,
      "min_width": null,
      "object_fit": null,
      "object_position": null,
      "order": null,
      "overflow": null,
      "overflow_x": null,
      "overflow_y": null,
      "padding": null,
      "right": null,
      "top": null,
      "visibility": null,
      "width": null
     }
    },
    "3c11354573a74f339a69278a4d90c3c2": {
     "model_module": "@jupyter-widgets/controls",
     "model_name": "FloatProgressModel",
     "state": {
      "_dom_classes": [],
      "_model_module": "@jupyter-widgets/controls",
      "_model_module_version": "1.5.0",
      "_model_name": "FloatProgressModel",
      "_view_count": null,
      "_view_module": "@jupyter-widgets/controls",
      "_view_module_version": "1.5.0",
      "_view_name": "ProgressView",
      "bar_style": "success",
      "description": "100%",
      "description_tooltip": null,
      "layout": "IPY_MODEL_ad141ff09d004d49919c07252609f153",
      "max": 150000,
      "min": 0,
      "orientation": "horizontal",
      "style": "IPY_MODEL_9e94bfa8af5040678d7c60797fdbb016",
      "value": 150000
     }
    },
    "3d5448e6f0f241d697d6ae30cb7ae4c2": {
     "model_module": "@jupyter-widgets/controls",
     "model_name": "DescriptionStyleModel",
     "state": {
      "_model_module": "@jupyter-widgets/controls",
      "_model_module_version": "1.5.0",
      "_model_name": "DescriptionStyleModel",
      "_view_count": null,
      "_view_module": "@jupyter-widgets/base",
      "_view_module_version": "1.2.0",
      "_view_name": "StyleView",
      "description_width": ""
     }
    },
    "40862d1e53f446859a43d180db7cc6f7": {
     "model_module": "@jupyter-widgets/controls",
     "model_name": "DescriptionStyleModel",
     "state": {
      "_model_module": "@jupyter-widgets/controls",
      "_model_module_version": "1.5.0",
      "_model_name": "DescriptionStyleModel",
      "_view_count": null,
      "_view_module": "@jupyter-widgets/base",
      "_view_module_version": "1.2.0",
      "_view_name": "StyleView",
      "description_width": ""
     }
    },
    "422dc0cea70940bd94da55eae71f618d": {
     "model_module": "@jupyter-widgets/controls",
     "model_name": "HBoxModel",
     "state": {
      "_dom_classes": [],
      "_model_module": "@jupyter-widgets/controls",
      "_model_module_version": "1.5.0",
      "_model_name": "HBoxModel",
      "_view_count": null,
      "_view_module": "@jupyter-widgets/controls",
      "_view_module_version": "1.5.0",
      "_view_name": "HBoxView",
      "box_style": "",
      "children": [
       "IPY_MODEL_3c11354573a74f339a69278a4d90c3c2",
       "IPY_MODEL_30e2a530f02d47af8f9093bba9cfb524"
      ],
      "layout": "IPY_MODEL_49432ed6a6ec4d4a90216f6e5bd7ffc7"
     }
    },
    "426f195abdca45c2a4c18e4dd62b7bd4": {
     "model_module": "@jupyter-widgets/controls",
     "model_name": "DescriptionStyleModel",
     "state": {
      "_model_module": "@jupyter-widgets/controls",
      "_model_module_version": "1.5.0",
      "_model_name": "DescriptionStyleModel",
      "_view_count": null,
      "_view_module": "@jupyter-widgets/base",
      "_view_module_version": "1.2.0",
      "_view_name": "StyleView",
      "description_width": ""
     }
    },
    "435d2dfc80c748dfa40ef678452417a8": {
     "model_module": "@jupyter-widgets/base",
     "model_name": "LayoutModel",
     "state": {
      "_model_module": "@jupyter-widgets/base",
      "_model_module_version": "1.2.0",
      "_model_name": "LayoutModel",
      "_view_count": null,
      "_view_module": "@jupyter-widgets/base",
      "_view_module_version": "1.2.0",
      "_view_name": "LayoutView",
      "align_content": null,
      "align_items": null,
      "align_self": null,
      "border": null,
      "bottom": null,
      "display": null,
      "flex": null,
      "flex_flow": null,
      "grid_area": null,
      "grid_auto_columns": null,
      "grid_auto_flow": null,
      "grid_auto_rows": null,
      "grid_column": null,
      "grid_gap": null,
      "grid_row": null,
      "grid_template_areas": null,
      "grid_template_columns": null,
      "grid_template_rows": null,
      "height": null,
      "justify_content": null,
      "justify_items": null,
      "left": null,
      "margin": null,
      "max_height": null,
      "max_width": null,
      "min_height": null,
      "min_width": null,
      "object_fit": null,
      "object_position": null,
      "order": null,
      "overflow": null,
      "overflow_x": null,
      "overflow_y": null,
      "padding": null,
      "right": null,
      "top": null,
      "visibility": null,
      "width": null
     }
    },
    "43cde641480c4fea8ef451f8b20ab446": {
     "model_module": "@jupyter-widgets/controls",
     "model_name": "DescriptionStyleModel",
     "state": {
      "_model_module": "@jupyter-widgets/controls",
      "_model_module_version": "1.5.0",
      "_model_name": "DescriptionStyleModel",
      "_view_count": null,
      "_view_module": "@jupyter-widgets/base",
      "_view_module_version": "1.2.0",
      "_view_name": "StyleView",
      "description_width": ""
     }
    },
    "447fdda8fa5b4db1b1be3e512d531f78": {
     "model_module": "@jupyter-widgets/base",
     "model_name": "LayoutModel",
     "state": {
      "_model_module": "@jupyter-widgets/base",
      "_model_module_version": "1.2.0",
      "_model_name": "LayoutModel",
      "_view_count": null,
      "_view_module": "@jupyter-widgets/base",
      "_view_module_version": "1.2.0",
      "_view_name": "LayoutView",
      "align_content": null,
      "align_items": null,
      "align_self": null,
      "border": null,
      "bottom": null,
      "display": null,
      "flex": null,
      "flex_flow": null,
      "grid_area": null,
      "grid_auto_columns": null,
      "grid_auto_flow": null,
      "grid_auto_rows": null,
      "grid_column": null,
      "grid_gap": null,
      "grid_row": null,
      "grid_template_areas": null,
      "grid_template_columns": null,
      "grid_template_rows": null,
      "height": null,
      "justify_content": null,
      "justify_items": null,
      "left": null,
      "margin": null,
      "max_height": null,
      "max_width": null,
      "min_height": null,
      "min_width": null,
      "object_fit": null,
      "object_position": null,
      "order": null,
      "overflow": null,
      "overflow_x": null,
      "overflow_y": null,
      "padding": null,
      "right": null,
      "top": null,
      "visibility": null,
      "width": null
     }
    },
    "49432ed6a6ec4d4a90216f6e5bd7ffc7": {
     "model_module": "@jupyter-widgets/base",
     "model_name": "LayoutModel",
     "state": {
      "_model_module": "@jupyter-widgets/base",
      "_model_module_version": "1.2.0",
      "_model_name": "LayoutModel",
      "_view_count": null,
      "_view_module": "@jupyter-widgets/base",
      "_view_module_version": "1.2.0",
      "_view_name": "LayoutView",
      "align_content": null,
      "align_items": null,
      "align_self": null,
      "border": null,
      "bottom": null,
      "display": null,
      "flex": null,
      "flex_flow": null,
      "grid_area": null,
      "grid_auto_columns": null,
      "grid_auto_flow": null,
      "grid_auto_rows": null,
      "grid_column": null,
      "grid_gap": null,
      "grid_row": null,
      "grid_template_areas": null,
      "grid_template_columns": null,
      "grid_template_rows": null,
      "height": null,
      "justify_content": null,
      "justify_items": null,
      "left": null,
      "margin": null,
      "max_height": null,
      "max_width": null,
      "min_height": null,
      "min_width": null,
      "object_fit": null,
      "object_position": null,
      "order": null,
      "overflow": null,
      "overflow_x": null,
      "overflow_y": null,
      "padding": null,
      "right": null,
      "top": null,
      "visibility": null,
      "width": null
     }
    },
    "4c957c94eb914a3cbf4112e668f040c1": {
     "model_module": "@jupyter-widgets/controls",
     "model_name": "ProgressStyleModel",
     "state": {
      "_model_module": "@jupyter-widgets/controls",
      "_model_module_version": "1.5.0",
      "_model_name": "ProgressStyleModel",
      "_view_count": null,
      "_view_module": "@jupyter-widgets/base",
      "_view_module_version": "1.2.0",
      "_view_name": "StyleView",
      "bar_color": null,
      "description_width": "initial"
     }
    },
    "4c9b6a6164614420922da5ad1afd6dba": {
     "model_module": "@jupyter-widgets/base",
     "model_name": "LayoutModel",
     "state": {
      "_model_module": "@jupyter-widgets/base",
      "_model_module_version": "1.2.0",
      "_model_name": "LayoutModel",
      "_view_count": null,
      "_view_module": "@jupyter-widgets/base",
      "_view_module_version": "1.2.0",
      "_view_name": "LayoutView",
      "align_content": null,
      "align_items": null,
      "align_self": null,
      "border": null,
      "bottom": null,
      "display": null,
      "flex": null,
      "flex_flow": null,
      "grid_area": null,
      "grid_auto_columns": null,
      "grid_auto_flow": null,
      "grid_auto_rows": null,
      "grid_column": null,
      "grid_gap": null,
      "grid_row": null,
      "grid_template_areas": null,
      "grid_template_columns": null,
      "grid_template_rows": null,
      "height": null,
      "justify_content": null,
      "justify_items": null,
      "left": null,
      "margin": null,
      "max_height": null,
      "max_width": null,
      "min_height": null,
      "min_width": null,
      "object_fit": null,
      "object_position": null,
      "order": null,
      "overflow": null,
      "overflow_x": null,
      "overflow_y": null,
      "padding": null,
      "right": null,
      "top": null,
      "visibility": null,
      "width": null
     }
    },
    "509fdcd5a7cb44b48bd29f416776de5a": {
     "model_module": "@jupyter-widgets/base",
     "model_name": "LayoutModel",
     "state": {
      "_model_module": "@jupyter-widgets/base",
      "_model_module_version": "1.2.0",
      "_model_name": "LayoutModel",
      "_view_count": null,
      "_view_module": "@jupyter-widgets/base",
      "_view_module_version": "1.2.0",
      "_view_name": "LayoutView",
      "align_content": null,
      "align_items": null,
      "align_self": null,
      "border": null,
      "bottom": null,
      "display": null,
      "flex": null,
      "flex_flow": null,
      "grid_area": null,
      "grid_auto_columns": null,
      "grid_auto_flow": null,
      "grid_auto_rows": null,
      "grid_column": null,
      "grid_gap": null,
      "grid_row": null,
      "grid_template_areas": null,
      "grid_template_columns": null,
      "grid_template_rows": null,
      "height": null,
      "justify_content": null,
      "justify_items": null,
      "left": null,
      "margin": null,
      "max_height": null,
      "max_width": null,
      "min_height": null,
      "min_width": null,
      "object_fit": null,
      "object_position": null,
      "order": null,
      "overflow": null,
      "overflow_x": null,
      "overflow_y": null,
      "padding": null,
      "right": null,
      "top": null,
      "visibility": null,
      "width": null
     }
    },
    "53314e871ed24a71b4b560afeb2892eb": {
     "model_module": "@jupyter-widgets/controls",
     "model_name": "ProgressStyleModel",
     "state": {
      "_model_module": "@jupyter-widgets/controls",
      "_model_module_version": "1.5.0",
      "_model_name": "ProgressStyleModel",
      "_view_count": null,
      "_view_module": "@jupyter-widgets/base",
      "_view_module_version": "1.2.0",
      "_view_name": "StyleView",
      "bar_color": null,
      "description_width": "initial"
     }
    },
    "5a75c8743b23459ab9c7a0033e3cb6f9": {
     "model_module": "@jupyter-widgets/controls",
     "model_name": "HTMLModel",
     "state": {
      "_dom_classes": [],
      "_model_module": "@jupyter-widgets/controls",
      "_model_module_version": "1.5.0",
      "_model_name": "HTMLModel",
      "_view_count": null,
      "_view_module": "@jupyter-widgets/controls",
      "_view_module_version": "1.5.0",
      "_view_name": "HTMLView",
      "description": "",
      "description_tooltip": null,
      "layout": "IPY_MODEL_936a105fb6264d2a8ca8247018086cb0",
      "placeholder": "​",
      "style": "IPY_MODEL_8df4443e59fd4b6d931377d91b456a71",
      "value": " 20000/20000 [00:00&lt;00:00, 49810.63it/s]"
     }
    },
    "5ae5d424e2884735ad2d847e670ae8d0": {
     "model_module": "@jupyter-widgets/controls",
     "model_name": "HBoxModel",
     "state": {
      "_dom_classes": [],
      "_model_module": "@jupyter-widgets/controls",
      "_model_module_version": "1.5.0",
      "_model_name": "HBoxModel",
      "_view_count": null,
      "_view_module": "@jupyter-widgets/controls",
      "_view_module_version": "1.5.0",
      "_view_name": "HBoxView",
      "box_style": "",
      "children": [
       "IPY_MODEL_b0a918ee8aeb44dab4a3f556b261a8f5",
       "IPY_MODEL_dfb49f98ae4c46a8bb6be99d52b9e70b"
      ],
      "layout": "IPY_MODEL_6d80f69c97c949b5b7abdddf6e265c20"
     }
    },
    "5f3a16ea67e9420093e5012553b32f27": {
     "model_module": "@jupyter-widgets/base",
     "model_name": "LayoutModel",
     "state": {
      "_model_module": "@jupyter-widgets/base",
      "_model_module_version": "1.2.0",
      "_model_name": "LayoutModel",
      "_view_count": null,
      "_view_module": "@jupyter-widgets/base",
      "_view_module_version": "1.2.0",
      "_view_name": "LayoutView",
      "align_content": null,
      "align_items": null,
      "align_self": null,
      "border": null,
      "bottom": null,
      "display": null,
      "flex": null,
      "flex_flow": null,
      "grid_area": null,
      "grid_auto_columns": null,
      "grid_auto_flow": null,
      "grid_auto_rows": null,
      "grid_column": null,
      "grid_gap": null,
      "grid_row": null,
      "grid_template_areas": null,
      "grid_template_columns": null,
      "grid_template_rows": null,
      "height": null,
      "justify_content": null,
      "justify_items": null,
      "left": null,
      "margin": null,
      "max_height": null,
      "max_width": null,
      "min_height": null,
      "min_width": null,
      "object_fit": null,
      "object_position": null,
      "order": null,
      "overflow": null,
      "overflow_x": null,
      "overflow_y": null,
      "padding": null,
      "right": null,
      "top": null,
      "visibility": null,
      "width": null
     }
    },
    "62e41dd4d00745f79dd8b460cc326c59": {
     "model_module": "@jupyter-widgets/controls",
     "model_name": "HBoxModel",
     "state": {
      "_dom_classes": [],
      "_model_module": "@jupyter-widgets/controls",
      "_model_module_version": "1.5.0",
      "_model_name": "HBoxModel",
      "_view_count": null,
      "_view_module": "@jupyter-widgets/controls",
      "_view_module_version": "1.5.0",
      "_view_name": "HBoxView",
      "box_style": "",
      "children": [
       "IPY_MODEL_c9ef0359c04d45a3b2ce6412955cdfe5",
       "IPY_MODEL_c53f907f9c1a46dca63435720108cedf"
      ],
      "layout": "IPY_MODEL_c174435ad80d42e89e98c4cc9ea32141"
     }
    },
    "64554e981dde4644baace30464875e7b": {
     "model_module": "@jupyter-widgets/base",
     "model_name": "LayoutModel",
     "state": {
      "_model_module": "@jupyter-widgets/base",
      "_model_module_version": "1.2.0",
      "_model_name": "LayoutModel",
      "_view_count": null,
      "_view_module": "@jupyter-widgets/base",
      "_view_module_version": "1.2.0",
      "_view_name": "LayoutView",
      "align_content": null,
      "align_items": null,
      "align_self": null,
      "border": null,
      "bottom": null,
      "display": null,
      "flex": null,
      "flex_flow": null,
      "grid_area": null,
      "grid_auto_columns": null,
      "grid_auto_flow": null,
      "grid_auto_rows": null,
      "grid_column": null,
      "grid_gap": null,
      "grid_row": null,
      "grid_template_areas": null,
      "grid_template_columns": null,
      "grid_template_rows": null,
      "height": null,
      "justify_content": null,
      "justify_items": null,
      "left": null,
      "margin": null,
      "max_height": null,
      "max_width": null,
      "min_height": null,
      "min_width": null,
      "object_fit": null,
      "object_position": null,
      "order": null,
      "overflow": null,
      "overflow_x": null,
      "overflow_y": null,
      "padding": null,
      "right": null,
      "top": null,
      "visibility": null,
      "width": null
     }
    },
    "65693ff3452942938243d4211dc890ec": {
     "model_module": "@jupyter-widgets/controls",
     "model_name": "HBoxModel",
     "state": {
      "_dom_classes": [],
      "_model_module": "@jupyter-widgets/controls",
      "_model_module_version": "1.5.0",
      "_model_name": "HBoxModel",
      "_view_count": null,
      "_view_module": "@jupyter-widgets/controls",
      "_view_module_version": "1.5.0",
      "_view_name": "HBoxView",
      "box_style": "",
      "children": [
       "IPY_MODEL_b357acd15cae4566bfa58fa732a89126",
       "IPY_MODEL_8745def9c15b49bab6c83a5d88f43095"
      ],
      "layout": "IPY_MODEL_995e5b43e1004882a69e2dbb44c8a5f8"
     }
    },
    "6aaffd149eb442bc898bf63bed286eef": {
     "model_module": "@jupyter-widgets/controls",
     "model_name": "ProgressStyleModel",
     "state": {
      "_model_module": "@jupyter-widgets/controls",
      "_model_module_version": "1.5.0",
      "_model_name": "ProgressStyleModel",
      "_view_count": null,
      "_view_module": "@jupyter-widgets/base",
      "_view_module_version": "1.2.0",
      "_view_name": "StyleView",
      "bar_color": null,
      "description_width": "initial"
     }
    },
    "6b5d8a4b086e4fa7aea37c03a8bd5a81": {
     "model_module": "@jupyter-widgets/base",
     "model_name": "LayoutModel",
     "state": {
      "_model_module": "@jupyter-widgets/base",
      "_model_module_version": "1.2.0",
      "_model_name": "LayoutModel",
      "_view_count": null,
      "_view_module": "@jupyter-widgets/base",
      "_view_module_version": "1.2.0",
      "_view_name": "LayoutView",
      "align_content": null,
      "align_items": null,
      "align_self": null,
      "border": null,
      "bottom": null,
      "display": null,
      "flex": null,
      "flex_flow": null,
      "grid_area": null,
      "grid_auto_columns": null,
      "grid_auto_flow": null,
      "grid_auto_rows": null,
      "grid_column": null,
      "grid_gap": null,
      "grid_row": null,
      "grid_template_areas": null,
      "grid_template_columns": null,
      "grid_template_rows": null,
      "height": null,
      "justify_content": null,
      "justify_items": null,
      "left": null,
      "margin": null,
      "max_height": null,
      "max_width": null,
      "min_height": null,
      "min_width": null,
      "object_fit": null,
      "object_position": null,
      "order": null,
      "overflow": null,
      "overflow_x": null,
      "overflow_y": null,
      "padding": null,
      "right": null,
      "top": null,
      "visibility": null,
      "width": null
     }
    },
    "6d12baf48e0f45a8b5fe636bbbe4121b": {
     "model_module": "@jupyter-widgets/controls",
     "model_name": "ProgressStyleModel",
     "state": {
      "_model_module": "@jupyter-widgets/controls",
      "_model_module_version": "1.5.0",
      "_model_name": "ProgressStyleModel",
      "_view_count": null,
      "_view_module": "@jupyter-widgets/base",
      "_view_module_version": "1.2.0",
      "_view_name": "StyleView",
      "bar_color": null,
      "description_width": "initial"
     }
    },
    "6d80f69c97c949b5b7abdddf6e265c20": {
     "model_module": "@jupyter-widgets/base",
     "model_name": "LayoutModel",
     "state": {
      "_model_module": "@jupyter-widgets/base",
      "_model_module_version": "1.2.0",
      "_model_name": "LayoutModel",
      "_view_count": null,
      "_view_module": "@jupyter-widgets/base",
      "_view_module_version": "1.2.0",
      "_view_name": "LayoutView",
      "align_content": null,
      "align_items": null,
      "align_self": null,
      "border": null,
      "bottom": null,
      "display": null,
      "flex": null,
      "flex_flow": null,
      "grid_area": null,
      "grid_auto_columns": null,
      "grid_auto_flow": null,
      "grid_auto_rows": null,
      "grid_column": null,
      "grid_gap": null,
      "grid_row": null,
      "grid_template_areas": null,
      "grid_template_columns": null,
      "grid_template_rows": null,
      "height": null,
      "justify_content": null,
      "justify_items": null,
      "left": null,
      "margin": null,
      "max_height": null,
      "max_width": null,
      "min_height": null,
      "min_width": null,
      "object_fit": null,
      "object_position": null,
      "order": null,
      "overflow": null,
      "overflow_x": null,
      "overflow_y": null,
      "padding": null,
      "right": null,
      "top": null,
      "visibility": null,
      "width": null
     }
    },
    "6da3a26ca8d34568a9e6fe7d061c2aeb": {
     "model_module": "@jupyter-widgets/base",
     "model_name": "LayoutModel",
     "state": {
      "_model_module": "@jupyter-widgets/base",
      "_model_module_version": "1.2.0",
      "_model_name": "LayoutModel",
      "_view_count": null,
      "_view_module": "@jupyter-widgets/base",
      "_view_module_version": "1.2.0",
      "_view_name": "LayoutView",
      "align_content": null,
      "align_items": null,
      "align_self": null,
      "border": null,
      "bottom": null,
      "display": null,
      "flex": null,
      "flex_flow": null,
      "grid_area": null,
      "grid_auto_columns": null,
      "grid_auto_flow": null,
      "grid_auto_rows": null,
      "grid_column": null,
      "grid_gap": null,
      "grid_row": null,
      "grid_template_areas": null,
      "grid_template_columns": null,
      "grid_template_rows": null,
      "height": null,
      "justify_content": null,
      "justify_items": null,
      "left": null,
      "margin": null,
      "max_height": null,
      "max_width": null,
      "min_height": null,
      "min_width": null,
      "object_fit": null,
      "object_position": null,
      "order": null,
      "overflow": null,
      "overflow_x": null,
      "overflow_y": null,
      "padding": null,
      "right": null,
      "top": null,
      "visibility": null,
      "width": null
     }
    },
    "73dc1778ea79498f96bf656ee1cf15f6": {
     "model_module": "@jupyter-widgets/controls",
     "model_name": "HTMLModel",
     "state": {
      "_dom_classes": [],
      "_model_module": "@jupyter-widgets/controls",
      "_model_module_version": "1.5.0",
      "_model_name": "HTMLModel",
      "_view_count": null,
      "_view_module": "@jupyter-widgets/controls",
      "_view_module_version": "1.5.0",
      "_view_name": "HTMLView",
      "description": "",
      "description_tooltip": null,
      "layout": "IPY_MODEL_e4bf5a2e28eb4ad5bee7adfc69e35e53",
      "placeholder": "​",
      "style": "IPY_MODEL_035a370b4d2d436482c91d27a2ad1313",
      "value": " 150000/150000 [00:04&lt;00:00, 30304.69it/s]"
     }
    },
    "75396c66d0194d409840998d3ecfc111": {
     "model_module": "@jupyter-widgets/controls",
     "model_name": "HBoxModel",
     "state": {
      "_dom_classes": [],
      "_model_module": "@jupyter-widgets/controls",
      "_model_module_version": "1.5.0",
      "_model_name": "HBoxModel",
      "_view_count": null,
      "_view_module": "@jupyter-widgets/controls",
      "_view_module_version": "1.5.0",
      "_view_name": "HBoxView",
      "box_style": "",
      "children": [
       "IPY_MODEL_ea438d027b4246fb8ba3e66e11901aff",
       "IPY_MODEL_ff5cc3f8791e4829bde333394716c193"
      ],
      "layout": "IPY_MODEL_fc3ef89ba07349adb6f1691b0bed702c"
     }
    },
    "754996b13e274aabb7cc89686eb3ee1f": {
     "model_module": "@jupyter-widgets/controls",
     "model_name": "ProgressStyleModel",
     "state": {
      "_model_module": "@jupyter-widgets/controls",
      "_model_module_version": "1.5.0",
      "_model_name": "ProgressStyleModel",
      "_view_count": null,
      "_view_module": "@jupyter-widgets/base",
      "_view_module_version": "1.2.0",
      "_view_name": "StyleView",
      "bar_color": null,
      "description_width": "initial"
     }
    },
    "77a1c7c6003a4b06958b110dcbe40207": {
     "model_module": "@jupyter-widgets/controls",
     "model_name": "HBoxModel",
     "state": {
      "_dom_classes": [],
      "_model_module": "@jupyter-widgets/controls",
      "_model_module_version": "1.5.0",
      "_model_name": "HBoxModel",
      "_view_count": null,
      "_view_module": "@jupyter-widgets/controls",
      "_view_module_version": "1.5.0",
      "_view_name": "HBoxView",
      "box_style": "",
      "children": [
       "IPY_MODEL_bcfbb1a229554afbacb6387d28ebeeec",
       "IPY_MODEL_f985b9ea65de40e097ee6b490aee791b"
      ],
      "layout": "IPY_MODEL_bba94fa214fa44568c55622f5490ecd8"
     }
    },
    "7b94ecf2274349fbbbccc32316a5df57": {
     "model_module": "@jupyter-widgets/base",
     "model_name": "LayoutModel",
     "state": {
      "_model_module": "@jupyter-widgets/base",
      "_model_module_version": "1.2.0",
      "_model_name": "LayoutModel",
      "_view_count": null,
      "_view_module": "@jupyter-widgets/base",
      "_view_module_version": "1.2.0",
      "_view_name": "LayoutView",
      "align_content": null,
      "align_items": null,
      "align_self": null,
      "border": null,
      "bottom": null,
      "display": null,
      "flex": null,
      "flex_flow": null,
      "grid_area": null,
      "grid_auto_columns": null,
      "grid_auto_flow": null,
      "grid_auto_rows": null,
      "grid_column": null,
      "grid_gap": null,
      "grid_row": null,
      "grid_template_areas": null,
      "grid_template_columns": null,
      "grid_template_rows": null,
      "height": null,
      "justify_content": null,
      "justify_items": null,
      "left": null,
      "margin": null,
      "max_height": null,
      "max_width": null,
      "min_height": null,
      "min_width": null,
      "object_fit": null,
      "object_position": null,
      "order": null,
      "overflow": null,
      "overflow_x": null,
      "overflow_y": null,
      "padding": null,
      "right": null,
      "top": null,
      "visibility": null,
      "width": null
     }
    },
    "803035591b1148709539cb07026e7338": {
     "model_module": "@jupyter-widgets/controls",
     "model_name": "FloatProgressModel",
     "state": {
      "_dom_classes": [],
      "_model_module": "@jupyter-widgets/controls",
      "_model_module_version": "1.5.0",
      "_model_name": "FloatProgressModel",
      "_view_count": null,
      "_view_module": "@jupyter-widgets/controls",
      "_view_module_version": "1.5.0",
      "_view_name": "ProgressView",
      "bar_style": "success",
      "description": "100%",
      "description_tooltip": null,
      "layout": "IPY_MODEL_05a792c896304df186cd35b59ecfc17e",
      "max": 150000,
      "min": 0,
      "orientation": "horizontal",
      "style": "IPY_MODEL_a516b2bf64a14f20b178c8d8d70c0ba0",
      "value": 150000
     }
    },
    "80d122d367ec4328be66fa6536e786be": {
     "model_module": "@jupyter-widgets/controls",
     "model_name": "HTMLModel",
     "state": {
      "_dom_classes": [],
      "_model_module": "@jupyter-widgets/controls",
      "_model_module_version": "1.5.0",
      "_model_name": "HTMLModel",
      "_view_count": null,
      "_view_module": "@jupyter-widgets/controls",
      "_view_module_version": "1.5.0",
      "_view_name": "HTMLView",
      "description": "",
      "description_tooltip": null,
      "layout": "IPY_MODEL_64554e981dde4644baace30464875e7b",
      "placeholder": "​",
      "style": "IPY_MODEL_b851e6cf60c54b7f94165c38553a83f0",
      "value": " 20000/20000 [00:00&lt;00:00, 24170.82it/s]"
     }
    },
    "84a9da79a0f74f18a3ee3aafa1d01efc": {
     "model_module": "@jupyter-widgets/base",
     "model_name": "LayoutModel",
     "state": {
      "_model_module": "@jupyter-widgets/base",
      "_model_module_version": "1.2.0",
      "_model_name": "LayoutModel",
      "_view_count": null,
      "_view_module": "@jupyter-widgets/base",
      "_view_module_version": "1.2.0",
      "_view_name": "LayoutView",
      "align_content": null,
      "align_items": null,
      "align_self": null,
      "border": null,
      "bottom": null,
      "display": null,
      "flex": null,
      "flex_flow": null,
      "grid_area": null,
      "grid_auto_columns": null,
      "grid_auto_flow": null,
      "grid_auto_rows": null,
      "grid_column": null,
      "grid_gap": null,
      "grid_row": null,
      "grid_template_areas": null,
      "grid_template_columns": null,
      "grid_template_rows": null,
      "height": null,
      "justify_content": null,
      "justify_items": null,
      "left": null,
      "margin": null,
      "max_height": null,
      "max_width": null,
      "min_height": null,
      "min_width": null,
      "object_fit": null,
      "object_position": null,
      "order": null,
      "overflow": null,
      "overflow_x": null,
      "overflow_y": null,
      "padding": null,
      "right": null,
      "top": null,
      "visibility": null,
      "width": null
     }
    },
    "8745def9c15b49bab6c83a5d88f43095": {
     "model_module": "@jupyter-widgets/controls",
     "model_name": "HTMLModel",
     "state": {
      "_dom_classes": [],
      "_model_module": "@jupyter-widgets/controls",
      "_model_module_version": "1.5.0",
      "_model_name": "HTMLModel",
      "_view_count": null,
      "_view_module": "@jupyter-widgets/controls",
      "_view_module_version": "1.5.0",
      "_view_name": "HTMLView",
      "description": "",
      "description_tooltip": null,
      "layout": "IPY_MODEL_ba91bb763c7a4f4d9506f600a04fd325",
      "placeholder": "​",
      "style": "IPY_MODEL_426f195abdca45c2a4c18e4dd62b7bd4",
      "value": " 150000/150000 [00:02&lt;00:00, 67718.71it/s]"
     }
    },
    "8a8ba1fed74d41109012724082ef7fb0": {
     "model_module": "@jupyter-widgets/base",
     "model_name": "LayoutModel",
     "state": {
      "_model_module": "@jupyter-widgets/base",
      "_model_module_version": "1.2.0",
      "_model_name": "LayoutModel",
      "_view_count": null,
      "_view_module": "@jupyter-widgets/base",
      "_view_module_version": "1.2.0",
      "_view_name": "LayoutView",
      "align_content": null,
      "align_items": null,
      "align_self": null,
      "border": null,
      "bottom": null,
      "display": null,
      "flex": null,
      "flex_flow": null,
      "grid_area": null,
      "grid_auto_columns": null,
      "grid_auto_flow": null,
      "grid_auto_rows": null,
      "grid_column": null,
      "grid_gap": null,
      "grid_row": null,
      "grid_template_areas": null,
      "grid_template_columns": null,
      "grid_template_rows": null,
      "height": null,
      "justify_content": null,
      "justify_items": null,
      "left": null,
      "margin": null,
      "max_height": null,
      "max_width": null,
      "min_height": null,
      "min_width": null,
      "object_fit": null,
      "object_position": null,
      "order": null,
      "overflow": null,
      "overflow_x": null,
      "overflow_y": null,
      "padding": null,
      "right": null,
      "top": null,
      "visibility": null,
      "width": null
     }
    },
    "8dd3f02760244a8fb98dd11d7fcd8219": {
     "model_module": "@jupyter-widgets/base",
     "model_name": "LayoutModel",
     "state": {
      "_model_module": "@jupyter-widgets/base",
      "_model_module_version": "1.2.0",
      "_model_name": "LayoutModel",
      "_view_count": null,
      "_view_module": "@jupyter-widgets/base",
      "_view_module_version": "1.2.0",
      "_view_name": "LayoutView",
      "align_content": null,
      "align_items": null,
      "align_self": null,
      "border": null,
      "bottom": null,
      "display": null,
      "flex": null,
      "flex_flow": null,
      "grid_area": null,
      "grid_auto_columns": null,
      "grid_auto_flow": null,
      "grid_auto_rows": null,
      "grid_column": null,
      "grid_gap": null,
      "grid_row": null,
      "grid_template_areas": null,
      "grid_template_columns": null,
      "grid_template_rows": null,
      "height": null,
      "justify_content": null,
      "justify_items": null,
      "left": null,
      "margin": null,
      "max_height": null,
      "max_width": null,
      "min_height": null,
      "min_width": null,
      "object_fit": null,
      "object_position": null,
      "order": null,
      "overflow": null,
      "overflow_x": null,
      "overflow_y": null,
      "padding": null,
      "right": null,
      "top": null,
      "visibility": null,
      "width": null
     }
    },
    "8df4443e59fd4b6d931377d91b456a71": {
     "model_module": "@jupyter-widgets/controls",
     "model_name": "DescriptionStyleModel",
     "state": {
      "_model_module": "@jupyter-widgets/controls",
      "_model_module_version": "1.5.0",
      "_model_name": "DescriptionStyleModel",
      "_view_count": null,
      "_view_module": "@jupyter-widgets/base",
      "_view_module_version": "1.2.0",
      "_view_name": "StyleView",
      "description_width": ""
     }
    },
    "910958de3a084cb6b81b1fc897cceff5": {
     "model_module": "@jupyter-widgets/controls",
     "model_name": "DescriptionStyleModel",
     "state": {
      "_model_module": "@jupyter-widgets/controls",
      "_model_module_version": "1.5.0",
      "_model_name": "DescriptionStyleModel",
      "_view_count": null,
      "_view_module": "@jupyter-widgets/base",
      "_view_module_version": "1.2.0",
      "_view_name": "StyleView",
      "description_width": ""
     }
    },
    "92bdcdaffe9d47f780d83862f8a7b959": {
     "model_module": "@jupyter-widgets/base",
     "model_name": "LayoutModel",
     "state": {
      "_model_module": "@jupyter-widgets/base",
      "_model_module_version": "1.2.0",
      "_model_name": "LayoutModel",
      "_view_count": null,
      "_view_module": "@jupyter-widgets/base",
      "_view_module_version": "1.2.0",
      "_view_name": "LayoutView",
      "align_content": null,
      "align_items": null,
      "align_self": null,
      "border": null,
      "bottom": null,
      "display": null,
      "flex": null,
      "flex_flow": null,
      "grid_area": null,
      "grid_auto_columns": null,
      "grid_auto_flow": null,
      "grid_auto_rows": null,
      "grid_column": null,
      "grid_gap": null,
      "grid_row": null,
      "grid_template_areas": null,
      "grid_template_columns": null,
      "grid_template_rows": null,
      "height": null,
      "justify_content": null,
      "justify_items": null,
      "left": null,
      "margin": null,
      "max_height": null,
      "max_width": null,
      "min_height": null,
      "min_width": null,
      "object_fit": null,
      "object_position": null,
      "order": null,
      "overflow": null,
      "overflow_x": null,
      "overflow_y": null,
      "padding": null,
      "right": null,
      "top": null,
      "visibility": null,
      "width": null
     }
    },
    "936a105fb6264d2a8ca8247018086cb0": {
     "model_module": "@jupyter-widgets/base",
     "model_name": "LayoutModel",
     "state": {
      "_model_module": "@jupyter-widgets/base",
      "_model_module_version": "1.2.0",
      "_model_name": "LayoutModel",
      "_view_count": null,
      "_view_module": "@jupyter-widgets/base",
      "_view_module_version": "1.2.0",
      "_view_name": "LayoutView",
      "align_content": null,
      "align_items": null,
      "align_self": null,
      "border": null,
      "bottom": null,
      "display": null,
      "flex": null,
      "flex_flow": null,
      "grid_area": null,
      "grid_auto_columns": null,
      "grid_auto_flow": null,
      "grid_auto_rows": null,
      "grid_column": null,
      "grid_gap": null,
      "grid_row": null,
      "grid_template_areas": null,
      "grid_template_columns": null,
      "grid_template_rows": null,
      "height": null,
      "justify_content": null,
      "justify_items": null,
      "left": null,
      "margin": null,
      "max_height": null,
      "max_width": null,
      "min_height": null,
      "min_width": null,
      "object_fit": null,
      "object_position": null,
      "order": null,
      "overflow": null,
      "overflow_x": null,
      "overflow_y": null,
      "padding": null,
      "right": null,
      "top": null,
      "visibility": null,
      "width": null
     }
    },
    "94b402c817e441a8a65d75e43b07c98e": {
     "model_module": "@jupyter-widgets/controls",
     "model_name": "DescriptionStyleModel",
     "state": {
      "_model_module": "@jupyter-widgets/controls",
      "_model_module_version": "1.5.0",
      "_model_name": "DescriptionStyleModel",
      "_view_count": null,
      "_view_module": "@jupyter-widgets/base",
      "_view_module_version": "1.2.0",
      "_view_name": "StyleView",
      "description_width": ""
     }
    },
    "9637441f6da54467bd0c74e0ba310faf": {
     "model_module": "@jupyter-widgets/controls",
     "model_name": "DescriptionStyleModel",
     "state": {
      "_model_module": "@jupyter-widgets/controls",
      "_model_module_version": "1.5.0",
      "_model_name": "DescriptionStyleModel",
      "_view_count": null,
      "_view_module": "@jupyter-widgets/base",
      "_view_module_version": "1.2.0",
      "_view_name": "StyleView",
      "description_width": ""
     }
    },
    "99191a8c4fb749859bd5a8e122a5512c": {
     "model_module": "@jupyter-widgets/base",
     "model_name": "LayoutModel",
     "state": {
      "_model_module": "@jupyter-widgets/base",
      "_model_module_version": "1.2.0",
      "_model_name": "LayoutModel",
      "_view_count": null,
      "_view_module": "@jupyter-widgets/base",
      "_view_module_version": "1.2.0",
      "_view_name": "LayoutView",
      "align_content": null,
      "align_items": null,
      "align_self": null,
      "border": null,
      "bottom": null,
      "display": null,
      "flex": null,
      "flex_flow": null,
      "grid_area": null,
      "grid_auto_columns": null,
      "grid_auto_flow": null,
      "grid_auto_rows": null,
      "grid_column": null,
      "grid_gap": null,
      "grid_row": null,
      "grid_template_areas": null,
      "grid_template_columns": null,
      "grid_template_rows": null,
      "height": null,
      "justify_content": null,
      "justify_items": null,
      "left": null,
      "margin": null,
      "max_height": null,
      "max_width": null,
      "min_height": null,
      "min_width": null,
      "object_fit": null,
      "object_position": null,
      "order": null,
      "overflow": null,
      "overflow_x": null,
      "overflow_y": null,
      "padding": null,
      "right": null,
      "top": null,
      "visibility": null,
      "width": null
     }
    },
    "995e5b43e1004882a69e2dbb44c8a5f8": {
     "model_module": "@jupyter-widgets/base",
     "model_name": "LayoutModel",
     "state": {
      "_model_module": "@jupyter-widgets/base",
      "_model_module_version": "1.2.0",
      "_model_name": "LayoutModel",
      "_view_count": null,
      "_view_module": "@jupyter-widgets/base",
      "_view_module_version": "1.2.0",
      "_view_name": "LayoutView",
      "align_content": null,
      "align_items": null,
      "align_self": null,
      "border": null,
      "bottom": null,
      "display": null,
      "flex": null,
      "flex_flow": null,
      "grid_area": null,
      "grid_auto_columns": null,
      "grid_auto_flow": null,
      "grid_auto_rows": null,
      "grid_column": null,
      "grid_gap": null,
      "grid_row": null,
      "grid_template_areas": null,
      "grid_template_columns": null,
      "grid_template_rows": null,
      "height": null,
      "justify_content": null,
      "justify_items": null,
      "left": null,
      "margin": null,
      "max_height": null,
      "max_width": null,
      "min_height": null,
      "min_width": null,
      "object_fit": null,
      "object_position": null,
      "order": null,
      "overflow": null,
      "overflow_x": null,
      "overflow_y": null,
      "padding": null,
      "right": null,
      "top": null,
      "visibility": null,
      "width": null
     }
    },
    "9b8dc87c61604b3c87ba6940df6f241a": {
     "model_module": "@jupyter-widgets/controls",
     "model_name": "FloatProgressModel",
     "state": {
      "_dom_classes": [],
      "_model_module": "@jupyter-widgets/controls",
      "_model_module_version": "1.5.0",
      "_model_name": "FloatProgressModel",
      "_view_count": null,
      "_view_module": "@jupyter-widgets/controls",
      "_view_module_version": "1.5.0",
      "_view_name": "ProgressView",
      "bar_style": "success",
      "description": "100%",
      "description_tooltip": null,
      "layout": "IPY_MODEL_8dd3f02760244a8fb98dd11d7fcd8219",
      "max": 20000,
      "min": 0,
      "orientation": "horizontal",
      "style": "IPY_MODEL_754996b13e274aabb7cc89686eb3ee1f",
      "value": 20000
     }
    },
    "9d78488e074b438ca1dae1d609b90826": {
     "model_module": "@jupyter-widgets/controls",
     "model_name": "FloatProgressModel",
     "state": {
      "_dom_classes": [],
      "_model_module": "@jupyter-widgets/controls",
      "_model_module_version": "1.5.0",
      "_model_name": "FloatProgressModel",
      "_view_count": null,
      "_view_module": "@jupyter-widgets/controls",
      "_view_module_version": "1.5.0",
      "_view_name": "ProgressView",
      "bar_style": "success",
      "description": "100%",
      "description_tooltip": null,
      "layout": "IPY_MODEL_5f3a16ea67e9420093e5012553b32f27",
      "max": 20000,
      "min": 0,
      "orientation": "horizontal",
      "style": "IPY_MODEL_e22521554fd9487ca5d27828af143328",
      "value": 20000
     }
    },
    "9e5677eee7144c458cdcfcb3e977cedc": {
     "model_module": "@jupyter-widgets/base",
     "model_name": "LayoutModel",
     "state": {
      "_model_module": "@jupyter-widgets/base",
      "_model_module_version": "1.2.0",
      "_model_name": "LayoutModel",
      "_view_count": null,
      "_view_module": "@jupyter-widgets/base",
      "_view_module_version": "1.2.0",
      "_view_name": "LayoutView",
      "align_content": null,
      "align_items": null,
      "align_self": null,
      "border": null,
      "bottom": null,
      "display": null,
      "flex": null,
      "flex_flow": null,
      "grid_area": null,
      "grid_auto_columns": null,
      "grid_auto_flow": null,
      "grid_auto_rows": null,
      "grid_column": null,
      "grid_gap": null,
      "grid_row": null,
      "grid_template_areas": null,
      "grid_template_columns": null,
      "grid_template_rows": null,
      "height": null,
      "justify_content": null,
      "justify_items": null,
      "left": null,
      "margin": null,
      "max_height": null,
      "max_width": null,
      "min_height": null,
      "min_width": null,
      "object_fit": null,
      "object_position": null,
      "order": null,
      "overflow": null,
      "overflow_x": null,
      "overflow_y": null,
      "padding": null,
      "right": null,
      "top": null,
      "visibility": null,
      "width": null
     }
    },
    "9e94bfa8af5040678d7c60797fdbb016": {
     "model_module": "@jupyter-widgets/controls",
     "model_name": "ProgressStyleModel",
     "state": {
      "_model_module": "@jupyter-widgets/controls",
      "_model_module_version": "1.5.0",
      "_model_name": "ProgressStyleModel",
      "_view_count": null,
      "_view_module": "@jupyter-widgets/base",
      "_view_module_version": "1.2.0",
      "_view_name": "StyleView",
      "bar_color": null,
      "description_width": "initial"
     }
    },
    "a511528a9b704c20949121d0f69d99c6": {
     "model_module": "@jupyter-widgets/controls",
     "model_name": "FloatProgressModel",
     "state": {
      "_dom_classes": [],
      "_model_module": "@jupyter-widgets/controls",
      "_model_module_version": "1.5.0",
      "_model_name": "FloatProgressModel",
      "_view_count": null,
      "_view_module": "@jupyter-widgets/controls",
      "_view_module_version": "1.5.0",
      "_view_name": "ProgressView",
      "bar_style": "success",
      "description": "100%",
      "description_tooltip": null,
      "layout": "IPY_MODEL_e6df739d0d0c463d9ea0ac9ad9d59689",
      "max": 150000,
      "min": 0,
      "orientation": "horizontal",
      "style": "IPY_MODEL_bd222b29f3dc4c6a967f599be0118b8b",
      "value": 150000
     }
    },
    "a516b2bf64a14f20b178c8d8d70c0ba0": {
     "model_module": "@jupyter-widgets/controls",
     "model_name": "ProgressStyleModel",
     "state": {
      "_model_module": "@jupyter-widgets/controls",
      "_model_module_version": "1.5.0",
      "_model_name": "ProgressStyleModel",
      "_view_count": null,
      "_view_module": "@jupyter-widgets/base",
      "_view_module_version": "1.2.0",
      "_view_name": "StyleView",
      "bar_color": null,
      "description_width": "initial"
     }
    },
    "a7cff3acee174bdf8d86ea82b0f2cd85": {
     "model_module": "@jupyter-widgets/base",
     "model_name": "LayoutModel",
     "state": {
      "_model_module": "@jupyter-widgets/base",
      "_model_module_version": "1.2.0",
      "_model_name": "LayoutModel",
      "_view_count": null,
      "_view_module": "@jupyter-widgets/base",
      "_view_module_version": "1.2.0",
      "_view_name": "LayoutView",
      "align_content": null,
      "align_items": null,
      "align_self": null,
      "border": null,
      "bottom": null,
      "display": null,
      "flex": null,
      "flex_flow": null,
      "grid_area": null,
      "grid_auto_columns": null,
      "grid_auto_flow": null,
      "grid_auto_rows": null,
      "grid_column": null,
      "grid_gap": null,
      "grid_row": null,
      "grid_template_areas": null,
      "grid_template_columns": null,
      "grid_template_rows": null,
      "height": null,
      "justify_content": null,
      "justify_items": null,
      "left": null,
      "margin": null,
      "max_height": null,
      "max_width": null,
      "min_height": null,
      "min_width": null,
      "object_fit": null,
      "object_position": null,
      "order": null,
      "overflow": null,
      "overflow_x": null,
      "overflow_y": null,
      "padding": null,
      "right": null,
      "top": null,
      "visibility": null,
      "width": null
     }
    },
    "a9c5ecd49cfa4e7abce11c015450979e": {
     "model_module": "@jupyter-widgets/base",
     "model_name": "LayoutModel",
     "state": {
      "_model_module": "@jupyter-widgets/base",
      "_model_module_version": "1.2.0",
      "_model_name": "LayoutModel",
      "_view_count": null,
      "_view_module": "@jupyter-widgets/base",
      "_view_module_version": "1.2.0",
      "_view_name": "LayoutView",
      "align_content": null,
      "align_items": null,
      "align_self": null,
      "border": null,
      "bottom": null,
      "display": null,
      "flex": null,
      "flex_flow": null,
      "grid_area": null,
      "grid_auto_columns": null,
      "grid_auto_flow": null,
      "grid_auto_rows": null,
      "grid_column": null,
      "grid_gap": null,
      "grid_row": null,
      "grid_template_areas": null,
      "grid_template_columns": null,
      "grid_template_rows": null,
      "height": null,
      "justify_content": null,
      "justify_items": null,
      "left": null,
      "margin": null,
      "max_height": null,
      "max_width": null,
      "min_height": null,
      "min_width": null,
      "object_fit": null,
      "object_position": null,
      "order": null,
      "overflow": null,
      "overflow_x": null,
      "overflow_y": null,
      "padding": null,
      "right": null,
      "top": null,
      "visibility": null,
      "width": null
     }
    },
    "aa6a7257df944989a25e2da14eb920b5": {
     "model_module": "@jupyter-widgets/controls",
     "model_name": "ProgressStyleModel",
     "state": {
      "_model_module": "@jupyter-widgets/controls",
      "_model_module_version": "1.5.0",
      "_model_name": "ProgressStyleModel",
      "_view_count": null,
      "_view_module": "@jupyter-widgets/base",
      "_view_module_version": "1.2.0",
      "_view_name": "StyleView",
      "bar_color": null,
      "description_width": "initial"
     }
    },
    "ad141ff09d004d49919c07252609f153": {
     "model_module": "@jupyter-widgets/base",
     "model_name": "LayoutModel",
     "state": {
      "_model_module": "@jupyter-widgets/base",
      "_model_module_version": "1.2.0",
      "_model_name": "LayoutModel",
      "_view_count": null,
      "_view_module": "@jupyter-widgets/base",
      "_view_module_version": "1.2.0",
      "_view_name": "LayoutView",
      "align_content": null,
      "align_items": null,
      "align_self": null,
      "border": null,
      "bottom": null,
      "display": null,
      "flex": null,
      "flex_flow": null,
      "grid_area": null,
      "grid_auto_columns": null,
      "grid_auto_flow": null,
      "grid_auto_rows": null,
      "grid_column": null,
      "grid_gap": null,
      "grid_row": null,
      "grid_template_areas": null,
      "grid_template_columns": null,
      "grid_template_rows": null,
      "height": null,
      "justify_content": null,
      "justify_items": null,
      "left": null,
      "margin": null,
      "max_height": null,
      "max_width": null,
      "min_height": null,
      "min_width": null,
      "object_fit": null,
      "object_position": null,
      "order": null,
      "overflow": null,
      "overflow_x": null,
      "overflow_y": null,
      "padding": null,
      "right": null,
      "top": null,
      "visibility": null,
      "width": null
     }
    },
    "b0a918ee8aeb44dab4a3f556b261a8f5": {
     "model_module": "@jupyter-widgets/controls",
     "model_name": "FloatProgressModel",
     "state": {
      "_dom_classes": [],
      "_model_module": "@jupyter-widgets/controls",
      "_model_module_version": "1.5.0",
      "_model_name": "FloatProgressModel",
      "_view_count": null,
      "_view_module": "@jupyter-widgets/controls",
      "_view_module_version": "1.5.0",
      "_view_name": "ProgressView",
      "bar_style": "success",
      "description": "100%",
      "description_tooltip": null,
      "layout": "IPY_MODEL_b7ff1349cfee4c2490efe55456191e6c",
      "max": 150000,
      "min": 0,
      "orientation": "horizontal",
      "style": "IPY_MODEL_1751a9ba5b894487981c2ebcde45b5c9",
      "value": 150000
     }
    },
    "b357acd15cae4566bfa58fa732a89126": {
     "model_module": "@jupyter-widgets/controls",
     "model_name": "FloatProgressModel",
     "state": {
      "_dom_classes": [],
      "_model_module": "@jupyter-widgets/controls",
      "_model_module_version": "1.5.0",
      "_model_name": "FloatProgressModel",
      "_view_count": null,
      "_view_module": "@jupyter-widgets/controls",
      "_view_module_version": "1.5.0",
      "_view_name": "ProgressView",
      "bar_style": "success",
      "description": "100%",
      "description_tooltip": null,
      "layout": "IPY_MODEL_15b21cce4126452799fad709a531eef6",
      "max": 150000,
      "min": 0,
      "orientation": "horizontal",
      "style": "IPY_MODEL_336f0ff3c442475cab39084e0890bc02",
      "value": 150000
     }
    },
    "b66917380e57462c8f4a706921dc1810": {
     "model_module": "@jupyter-widgets/controls",
     "model_name": "ProgressStyleModel",
     "state": {
      "_model_module": "@jupyter-widgets/controls",
      "_model_module_version": "1.5.0",
      "_model_name": "ProgressStyleModel",
      "_view_count": null,
      "_view_module": "@jupyter-widgets/base",
      "_view_module_version": "1.2.0",
      "_view_name": "StyleView",
      "bar_color": null,
      "description_width": "initial"
     }
    },
    "b7ff1349cfee4c2490efe55456191e6c": {
     "model_module": "@jupyter-widgets/base",
     "model_name": "LayoutModel",
     "state": {
      "_model_module": "@jupyter-widgets/base",
      "_model_module_version": "1.2.0",
      "_model_name": "LayoutModel",
      "_view_count": null,
      "_view_module": "@jupyter-widgets/base",
      "_view_module_version": "1.2.0",
      "_view_name": "LayoutView",
      "align_content": null,
      "align_items": null,
      "align_self": null,
      "border": null,
      "bottom": null,
      "display": null,
      "flex": null,
      "flex_flow": null,
      "grid_area": null,
      "grid_auto_columns": null,
      "grid_auto_flow": null,
      "grid_auto_rows": null,
      "grid_column": null,
      "grid_gap": null,
      "grid_row": null,
      "grid_template_areas": null,
      "grid_template_columns": null,
      "grid_template_rows": null,
      "height": null,
      "justify_content": null,
      "justify_items": null,
      "left": null,
      "margin": null,
      "max_height": null,
      "max_width": null,
      "min_height": null,
      "min_width": null,
      "object_fit": null,
      "object_position": null,
      "order": null,
      "overflow": null,
      "overflow_x": null,
      "overflow_y": null,
      "padding": null,
      "right": null,
      "top": null,
      "visibility": null,
      "width": null
     }
    },
    "b851e6cf60c54b7f94165c38553a83f0": {
     "model_module": "@jupyter-widgets/controls",
     "model_name": "DescriptionStyleModel",
     "state": {
      "_model_module": "@jupyter-widgets/controls",
      "_model_module_version": "1.5.0",
      "_model_name": "DescriptionStyleModel",
      "_view_count": null,
      "_view_module": "@jupyter-widgets/base",
      "_view_module_version": "1.2.0",
      "_view_name": "StyleView",
      "description_width": ""
     }
    },
    "ba91bb763c7a4f4d9506f600a04fd325": {
     "model_module": "@jupyter-widgets/base",
     "model_name": "LayoutModel",
     "state": {
      "_model_module": "@jupyter-widgets/base",
      "_model_module_version": "1.2.0",
      "_model_name": "LayoutModel",
      "_view_count": null,
      "_view_module": "@jupyter-widgets/base",
      "_view_module_version": "1.2.0",
      "_view_name": "LayoutView",
      "align_content": null,
      "align_items": null,
      "align_self": null,
      "border": null,
      "bottom": null,
      "display": null,
      "flex": null,
      "flex_flow": null,
      "grid_area": null,
      "grid_auto_columns": null,
      "grid_auto_flow": null,
      "grid_auto_rows": null,
      "grid_column": null,
      "grid_gap": null,
      "grid_row": null,
      "grid_template_areas": null,
      "grid_template_columns": null,
      "grid_template_rows": null,
      "height": null,
      "justify_content": null,
      "justify_items": null,
      "left": null,
      "margin": null,
      "max_height": null,
      "max_width": null,
      "min_height": null,
      "min_width": null,
      "object_fit": null,
      "object_position": null,
      "order": null,
      "overflow": null,
      "overflow_x": null,
      "overflow_y": null,
      "padding": null,
      "right": null,
      "top": null,
      "visibility": null,
      "width": null
     }
    },
    "bba94fa214fa44568c55622f5490ecd8": {
     "model_module": "@jupyter-widgets/base",
     "model_name": "LayoutModel",
     "state": {
      "_model_module": "@jupyter-widgets/base",
      "_model_module_version": "1.2.0",
      "_model_name": "LayoutModel",
      "_view_count": null,
      "_view_module": "@jupyter-widgets/base",
      "_view_module_version": "1.2.0",
      "_view_name": "LayoutView",
      "align_content": null,
      "align_items": null,
      "align_self": null,
      "border": null,
      "bottom": null,
      "display": null,
      "flex": null,
      "flex_flow": null,
      "grid_area": null,
      "grid_auto_columns": null,
      "grid_auto_flow": null,
      "grid_auto_rows": null,
      "grid_column": null,
      "grid_gap": null,
      "grid_row": null,
      "grid_template_areas": null,
      "grid_template_columns": null,
      "grid_template_rows": null,
      "height": null,
      "justify_content": null,
      "justify_items": null,
      "left": null,
      "margin": null,
      "max_height": null,
      "max_width": null,
      "min_height": null,
      "min_width": null,
      "object_fit": null,
      "object_position": null,
      "order": null,
      "overflow": null,
      "overflow_x": null,
      "overflow_y": null,
      "padding": null,
      "right": null,
      "top": null,
      "visibility": null,
      "width": null
     }
    },
    "bcd720f44472475ab9200964e150622e": {
     "model_module": "@jupyter-widgets/base",
     "model_name": "LayoutModel",
     "state": {
      "_model_module": "@jupyter-widgets/base",
      "_model_module_version": "1.2.0",
      "_model_name": "LayoutModel",
      "_view_count": null,
      "_view_module": "@jupyter-widgets/base",
      "_view_module_version": "1.2.0",
      "_view_name": "LayoutView",
      "align_content": null,
      "align_items": null,
      "align_self": null,
      "border": null,
      "bottom": null,
      "display": null,
      "flex": null,
      "flex_flow": null,
      "grid_area": null,
      "grid_auto_columns": null,
      "grid_auto_flow": null,
      "grid_auto_rows": null,
      "grid_column": null,
      "grid_gap": null,
      "grid_row": null,
      "grid_template_areas": null,
      "grid_template_columns": null,
      "grid_template_rows": null,
      "height": null,
      "justify_content": null,
      "justify_items": null,
      "left": null,
      "margin": null,
      "max_height": null,
      "max_width": null,
      "min_height": null,
      "min_width": null,
      "object_fit": null,
      "object_position": null,
      "order": null,
      "overflow": null,
      "overflow_x": null,
      "overflow_y": null,
      "padding": null,
      "right": null,
      "top": null,
      "visibility": null,
      "width": null
     }
    },
    "bcfbb1a229554afbacb6387d28ebeeec": {
     "model_module": "@jupyter-widgets/controls",
     "model_name": "FloatProgressModel",
     "state": {
      "_dom_classes": [],
      "_model_module": "@jupyter-widgets/controls",
      "_model_module_version": "1.5.0",
      "_model_name": "FloatProgressModel",
      "_view_count": null,
      "_view_module": "@jupyter-widgets/controls",
      "_view_module_version": "1.5.0",
      "_view_name": "ProgressView",
      "bar_style": "success",
      "description": "100%",
      "description_tooltip": null,
      "layout": "IPY_MODEL_9e5677eee7144c458cdcfcb3e977cedc",
      "max": 150000,
      "min": 0,
      "orientation": "horizontal",
      "style": "IPY_MODEL_6aaffd149eb442bc898bf63bed286eef",
      "value": 150000
     }
    },
    "bd222b29f3dc4c6a967f599be0118b8b": {
     "model_module": "@jupyter-widgets/controls",
     "model_name": "ProgressStyleModel",
     "state": {
      "_model_module": "@jupyter-widgets/controls",
      "_model_module_version": "1.5.0",
      "_model_name": "ProgressStyleModel",
      "_view_count": null,
      "_view_module": "@jupyter-widgets/base",
      "_view_module_version": "1.2.0",
      "_view_name": "StyleView",
      "bar_color": null,
      "description_width": "initial"
     }
    },
    "bd91895ea5d347ebb9f294ef83d405bc": {
     "model_module": "@jupyter-widgets/controls",
     "model_name": "HTMLModel",
     "state": {
      "_dom_classes": [],
      "_model_module": "@jupyter-widgets/controls",
      "_model_module_version": "1.5.0",
      "_model_name": "HTMLModel",
      "_view_count": null,
      "_view_module": "@jupyter-widgets/controls",
      "_view_module_version": "1.5.0",
      "_view_name": "HTMLView",
      "description": "",
      "description_tooltip": null,
      "layout": "IPY_MODEL_1e7d274c203d4f88ac07fe2dae75c444",
      "placeholder": "​",
      "style": "IPY_MODEL_f2bcf10fb8e6445191614d6284baf428",
      "value": " 20000/20000 [00:00&lt;00:00, 123829.34it/s]"
     }
    },
    "be042ea32aa44fe7bd50da97659c3ad4": {
     "model_module": "@jupyter-widgets/controls",
     "model_name": "DescriptionStyleModel",
     "state": {
      "_model_module": "@jupyter-widgets/controls",
      "_model_module_version": "1.5.0",
      "_model_name": "DescriptionStyleModel",
      "_view_count": null,
      "_view_module": "@jupyter-widgets/base",
      "_view_module_version": "1.2.0",
      "_view_name": "StyleView",
      "description_width": ""
     }
    },
    "bf21bab2b412432d812f7782d9224ba2": {
     "model_module": "@jupyter-widgets/controls",
     "model_name": "FloatProgressModel",
     "state": {
      "_dom_classes": [],
      "_model_module": "@jupyter-widgets/controls",
      "_model_module_version": "1.5.0",
      "_model_name": "FloatProgressModel",
      "_view_count": null,
      "_view_module": "@jupyter-widgets/controls",
      "_view_module_version": "1.5.0",
      "_view_name": "ProgressView",
      "bar_style": "success",
      "description": "100%",
      "description_tooltip": null,
      "layout": "IPY_MODEL_84a9da79a0f74f18a3ee3aafa1d01efc",
      "max": 20000,
      "min": 0,
      "orientation": "horizontal",
      "style": "IPY_MODEL_aa6a7257df944989a25e2da14eb920b5",
      "value": 20000
     }
    },
    "c174435ad80d42e89e98c4cc9ea32141": {
     "model_module": "@jupyter-widgets/base",
     "model_name": "LayoutModel",
     "state": {
      "_model_module": "@jupyter-widgets/base",
      "_model_module_version": "1.2.0",
      "_model_name": "LayoutModel",
      "_view_count": null,
      "_view_module": "@jupyter-widgets/base",
      "_view_module_version": "1.2.0",
      "_view_name": "LayoutView",
      "align_content": null,
      "align_items": null,
      "align_self": null,
      "border": null,
      "bottom": null,
      "display": null,
      "flex": null,
      "flex_flow": null,
      "grid_area": null,
      "grid_auto_columns": null,
      "grid_auto_flow": null,
      "grid_auto_rows": null,
      "grid_column": null,
      "grid_gap": null,
      "grid_row": null,
      "grid_template_areas": null,
      "grid_template_columns": null,
      "grid_template_rows": null,
      "height": null,
      "justify_content": null,
      "justify_items": null,
      "left": null,
      "margin": null,
      "max_height": null,
      "max_width": null,
      "min_height": null,
      "min_width": null,
      "object_fit": null,
      "object_position": null,
      "order": null,
      "overflow": null,
      "overflow_x": null,
      "overflow_y": null,
      "padding": null,
      "right": null,
      "top": null,
      "visibility": null,
      "width": null
     }
    },
    "c53f907f9c1a46dca63435720108cedf": {
     "model_module": "@jupyter-widgets/controls",
     "model_name": "HTMLModel",
     "state": {
      "_dom_classes": [],
      "_model_module": "@jupyter-widgets/controls",
      "_model_module_version": "1.5.0",
      "_model_name": "HTMLModel",
      "_view_count": null,
      "_view_module": "@jupyter-widgets/controls",
      "_view_module_version": "1.5.0",
      "_view_name": "HTMLView",
      "description": "",
      "description_tooltip": null,
      "layout": "IPY_MODEL_92bdcdaffe9d47f780d83862f8a7b959",
      "placeholder": "​",
      "style": "IPY_MODEL_be042ea32aa44fe7bd50da97659c3ad4",
      "value": " 20000/20000 [12:45&lt;00:00, 26.14it/s]"
     }
    },
    "c9ef0359c04d45a3b2ce6412955cdfe5": {
     "model_module": "@jupyter-widgets/controls",
     "model_name": "FloatProgressModel",
     "state": {
      "_dom_classes": [],
      "_model_module": "@jupyter-widgets/controls",
      "_model_module_version": "1.5.0",
      "_model_name": "FloatProgressModel",
      "_view_count": null,
      "_view_module": "@jupyter-widgets/controls",
      "_view_module_version": "1.5.0",
      "_view_name": "ProgressView",
      "bar_style": "success",
      "description": "100%",
      "description_tooltip": null,
      "layout": "IPY_MODEL_d976778fd2794fa4b6a9ba4a2545a4f4",
      "max": 20000,
      "min": 0,
      "orientation": "horizontal",
      "style": "IPY_MODEL_ecda09264a874a9ca2166d17e79c2507",
      "value": 20000
     }
    },
    "c9f20b2230234f07a4f42a1d4a346f22": {
     "model_module": "@jupyter-widgets/controls",
     "model_name": "HBoxModel",
     "state": {
      "_dom_classes": [],
      "_model_module": "@jupyter-widgets/controls",
      "_model_module_version": "1.5.0",
      "_model_name": "HBoxModel",
      "_view_count": null,
      "_view_module": "@jupyter-widgets/controls",
      "_view_module_version": "1.5.0",
      "_view_name": "HBoxView",
      "box_style": "",
      "children": [
       "IPY_MODEL_1e351d15b2b24feaa3f41818dc804473",
       "IPY_MODEL_80d122d367ec4328be66fa6536e786be"
      ],
      "layout": "IPY_MODEL_99191a8c4fb749859bd5a8e122a5512c"
     }
    },
    "cb12b3265bb14145b64309e3a8402661": {
     "model_module": "@jupyter-widgets/base",
     "model_name": "LayoutModel",
     "state": {
      "_model_module": "@jupyter-widgets/base",
      "_model_module_version": "1.2.0",
      "_model_name": "LayoutModel",
      "_view_count": null,
      "_view_module": "@jupyter-widgets/base",
      "_view_module_version": "1.2.0",
      "_view_name": "LayoutView",
      "align_content": null,
      "align_items": null,
      "align_self": null,
      "border": null,
      "bottom": null,
      "display": null,
      "flex": null,
      "flex_flow": null,
      "grid_area": null,
      "grid_auto_columns": null,
      "grid_auto_flow": null,
      "grid_auto_rows": null,
      "grid_column": null,
      "grid_gap": null,
      "grid_row": null,
      "grid_template_areas": null,
      "grid_template_columns": null,
      "grid_template_rows": null,
      "height": null,
      "justify_content": null,
      "justify_items": null,
      "left": null,
      "margin": null,
      "max_height": null,
      "max_width": null,
      "min_height": null,
      "min_width": null,
      "object_fit": null,
      "object_position": null,
      "order": null,
      "overflow": null,
      "overflow_x": null,
      "overflow_y": null,
      "padding": null,
      "right": null,
      "top": null,
      "visibility": null,
      "width": null
     }
    },
    "cd92d9f86e814e8188b56cac8af98f9c": {
     "model_module": "@jupyter-widgets/controls",
     "model_name": "HBoxModel",
     "state": {
      "_dom_classes": [],
      "_model_module": "@jupyter-widgets/controls",
      "_model_module_version": "1.5.0",
      "_model_name": "HBoxModel",
      "_view_count": null,
      "_view_module": "@jupyter-widgets/controls",
      "_view_module_version": "1.5.0",
      "_view_name": "HBoxView",
      "box_style": "",
      "children": [
       "IPY_MODEL_bf21bab2b412432d812f7782d9224ba2",
       "IPY_MODEL_5a75c8743b23459ab9c7a0033e3cb6f9"
      ],
      "layout": "IPY_MODEL_6da3a26ca8d34568a9e6fe7d061c2aeb"
     }
    },
    "d054e2d3e30441f5932fcedc803c158b": {
     "model_module": "@jupyter-widgets/controls",
     "model_name": "HBoxModel",
     "state": {
      "_dom_classes": [],
      "_model_module": "@jupyter-widgets/controls",
      "_model_module_version": "1.5.0",
      "_model_name": "HBoxModel",
      "_view_count": null,
      "_view_module": "@jupyter-widgets/controls",
      "_view_module_version": "1.5.0",
      "_view_name": "HBoxView",
      "box_style": "",
      "children": [
       "IPY_MODEL_a511528a9b704c20949121d0f69d99c6",
       "IPY_MODEL_73dc1778ea79498f96bf656ee1cf15f6"
      ],
      "layout": "IPY_MODEL_23ae9a27870541e08295eeec6c0fd8d0"
     }
    },
    "d976778fd2794fa4b6a9ba4a2545a4f4": {
     "model_module": "@jupyter-widgets/base",
     "model_name": "LayoutModel",
     "state": {
      "_model_module": "@jupyter-widgets/base",
      "_model_module_version": "1.2.0",
      "_model_name": "LayoutModel",
      "_view_count": null,
      "_view_module": "@jupyter-widgets/base",
      "_view_module_version": "1.2.0",
      "_view_name": "LayoutView",
      "align_content": null,
      "align_items": null,
      "align_self": null,
      "border": null,
      "bottom": null,
      "display": null,
      "flex": null,
      "flex_flow": null,
      "grid_area": null,
      "grid_auto_columns": null,
      "grid_auto_flow": null,
      "grid_auto_rows": null,
      "grid_column": null,
      "grid_gap": null,
      "grid_row": null,
      "grid_template_areas": null,
      "grid_template_columns": null,
      "grid_template_rows": null,
      "height": null,
      "justify_content": null,
      "justify_items": null,
      "left": null,
      "margin": null,
      "max_height": null,
      "max_width": null,
      "min_height": null,
      "min_width": null,
      "object_fit": null,
      "object_position": null,
      "order": null,
      "overflow": null,
      "overflow_x": null,
      "overflow_y": null,
      "padding": null,
      "right": null,
      "top": null,
      "visibility": null,
      "width": null
     }
    },
    "dcc4960ea72649e4966a8b4775658b01": {
     "model_module": "@jupyter-widgets/controls",
     "model_name": "HBoxModel",
     "state": {
      "_dom_classes": [],
      "_model_module": "@jupyter-widgets/controls",
      "_model_module_version": "1.5.0",
      "_model_name": "HBoxModel",
      "_view_count": null,
      "_view_module": "@jupyter-widgets/controls",
      "_view_module_version": "1.5.0",
      "_view_name": "HBoxView",
      "box_style": "",
      "children": [
       "IPY_MODEL_37a647a470de447f8a1702b9841be6f2",
       "IPY_MODEL_2983b3891e934079acae108a97c29949"
      ],
      "layout": "IPY_MODEL_447fdda8fa5b4db1b1be3e512d531f78"
     }
    },
    "dfb49f98ae4c46a8bb6be99d52b9e70b": {
     "model_module": "@jupyter-widgets/controls",
     "model_name": "HTMLModel",
     "state": {
      "_dom_classes": [],
      "_model_module": "@jupyter-widgets/controls",
      "_model_module_version": "1.5.0",
      "_model_name": "HTMLModel",
      "_view_count": null,
      "_view_module": "@jupyter-widgets/controls",
      "_view_module_version": "1.5.0",
      "_view_name": "HTMLView",
      "description": "",
      "description_tooltip": null,
      "layout": "IPY_MODEL_509fdcd5a7cb44b48bd29f416776de5a",
      "placeholder": "​",
      "style": "IPY_MODEL_94b402c817e441a8a65d75e43b07c98e",
      "value": " 150000/150000 [12:48&lt;00:00, 195.30it/s]"
     }
    },
    "e00b5ca24cce4497adc8f8ed86def1e2": {
     "model_module": "@jupyter-widgets/controls",
     "model_name": "HBoxModel",
     "state": {
      "_dom_classes": [],
      "_model_module": "@jupyter-widgets/controls",
      "_model_module_version": "1.5.0",
      "_model_name": "HBoxModel",
      "_view_count": null,
      "_view_module": "@jupyter-widgets/controls",
      "_view_module_version": "1.5.0",
      "_view_name": "HBoxView",
      "box_style": "",
      "children": [
       "IPY_MODEL_803035591b1148709539cb07026e7338",
       "IPY_MODEL_0362b26bce2f46ac9762fcc7865fc940"
      ],
      "layout": "IPY_MODEL_a7cff3acee174bdf8d86ea82b0f2cd85"
     }
    },
    "e22521554fd9487ca5d27828af143328": {
     "model_module": "@jupyter-widgets/controls",
     "model_name": "ProgressStyleModel",
     "state": {
      "_model_module": "@jupyter-widgets/controls",
      "_model_module_version": "1.5.0",
      "_model_name": "ProgressStyleModel",
      "_view_count": null,
      "_view_module": "@jupyter-widgets/base",
      "_view_module_version": "1.2.0",
      "_view_name": "StyleView",
      "bar_color": null,
      "description_width": "initial"
     }
    },
    "e427ebe9594e483caac935c111fc0ab8": {
     "model_module": "@jupyter-widgets/controls",
     "model_name": "HBoxModel",
     "state": {
      "_dom_classes": [],
      "_model_module": "@jupyter-widgets/controls",
      "_model_module_version": "1.5.0",
      "_model_name": "HBoxModel",
      "_view_count": null,
      "_view_module": "@jupyter-widgets/controls",
      "_view_module_version": "1.5.0",
      "_view_name": "HBoxView",
      "box_style": "",
      "children": [
       "IPY_MODEL_9b8dc87c61604b3c87ba6940df6f241a",
       "IPY_MODEL_f97c3dd6fe0f4ef5aea1c09ca96326c9"
      ],
      "layout": "IPY_MODEL_8a8ba1fed74d41109012724082ef7fb0"
     }
    },
    "e4bf5a2e28eb4ad5bee7adfc69e35e53": {
     "model_module": "@jupyter-widgets/base",
     "model_name": "LayoutModel",
     "state": {
      "_model_module": "@jupyter-widgets/base",
      "_model_module_version": "1.2.0",
      "_model_name": "LayoutModel",
      "_view_count": null,
      "_view_module": "@jupyter-widgets/base",
      "_view_module_version": "1.2.0",
      "_view_name": "LayoutView",
      "align_content": null,
      "align_items": null,
      "align_self": null,
      "border": null,
      "bottom": null,
      "display": null,
      "flex": null,
      "flex_flow": null,
      "grid_area": null,
      "grid_auto_columns": null,
      "grid_auto_flow": null,
      "grid_auto_rows": null,
      "grid_column": null,
      "grid_gap": null,
      "grid_row": null,
      "grid_template_areas": null,
      "grid_template_columns": null,
      "grid_template_rows": null,
      "height": null,
      "justify_content": null,
      "justify_items": null,
      "left": null,
      "margin": null,
      "max_height": null,
      "max_width": null,
      "min_height": null,
      "min_width": null,
      "object_fit": null,
      "object_position": null,
      "order": null,
      "overflow": null,
      "overflow_x": null,
      "overflow_y": null,
      "padding": null,
      "right": null,
      "top": null,
      "visibility": null,
      "width": null
     }
    },
    "e6df739d0d0c463d9ea0ac9ad9d59689": {
     "model_module": "@jupyter-widgets/base",
     "model_name": "LayoutModel",
     "state": {
      "_model_module": "@jupyter-widgets/base",
      "_model_module_version": "1.2.0",
      "_model_name": "LayoutModel",
      "_view_count": null,
      "_view_module": "@jupyter-widgets/base",
      "_view_module_version": "1.2.0",
      "_view_name": "LayoutView",
      "align_content": null,
      "align_items": null,
      "align_self": null,
      "border": null,
      "bottom": null,
      "display": null,
      "flex": null,
      "flex_flow": null,
      "grid_area": null,
      "grid_auto_columns": null,
      "grid_auto_flow": null,
      "grid_auto_rows": null,
      "grid_column": null,
      "grid_gap": null,
      "grid_row": null,
      "grid_template_areas": null,
      "grid_template_columns": null,
      "grid_template_rows": null,
      "height": null,
      "justify_content": null,
      "justify_items": null,
      "left": null,
      "margin": null,
      "max_height": null,
      "max_width": null,
      "min_height": null,
      "min_width": null,
      "object_fit": null,
      "object_position": null,
      "order": null,
      "overflow": null,
      "overflow_x": null,
      "overflow_y": null,
      "padding": null,
      "right": null,
      "top": null,
      "visibility": null,
      "width": null
     }
    },
    "ea438d027b4246fb8ba3e66e11901aff": {
     "model_module": "@jupyter-widgets/controls",
     "model_name": "FloatProgressModel",
     "state": {
      "_dom_classes": [],
      "_model_module": "@jupyter-widgets/controls",
      "_model_module_version": "1.5.0",
      "_model_name": "FloatProgressModel",
      "_view_count": null,
      "_view_module": "@jupyter-widgets/controls",
      "_view_module_version": "1.5.0",
      "_view_name": "ProgressView",
      "bar_style": "success",
      "description": "100%",
      "description_tooltip": null,
      "layout": "IPY_MODEL_7b94ecf2274349fbbbccc32316a5df57",
      "max": 20000,
      "min": 0,
      "orientation": "horizontal",
      "style": "IPY_MODEL_53314e871ed24a71b4b560afeb2892eb",
      "value": 20000
     }
    },
    "ecda09264a874a9ca2166d17e79c2507": {
     "model_module": "@jupyter-widgets/controls",
     "model_name": "ProgressStyleModel",
     "state": {
      "_model_module": "@jupyter-widgets/controls",
      "_model_module_version": "1.5.0",
      "_model_name": "ProgressStyleModel",
      "_view_count": null,
      "_view_module": "@jupyter-widgets/base",
      "_view_module_version": "1.2.0",
      "_view_name": "StyleView",
      "bar_color": null,
      "description_width": "initial"
     }
    },
    "f0f86000cbeb4498bf975ac351d42b6c": {
     "model_module": "@jupyter-widgets/base",
     "model_name": "LayoutModel",
     "state": {
      "_model_module": "@jupyter-widgets/base",
      "_model_module_version": "1.2.0",
      "_model_name": "LayoutModel",
      "_view_count": null,
      "_view_module": "@jupyter-widgets/base",
      "_view_module_version": "1.2.0",
      "_view_name": "LayoutView",
      "align_content": null,
      "align_items": null,
      "align_self": null,
      "border": null,
      "bottom": null,
      "display": null,
      "flex": null,
      "flex_flow": null,
      "grid_area": null,
      "grid_auto_columns": null,
      "grid_auto_flow": null,
      "grid_auto_rows": null,
      "grid_column": null,
      "grid_gap": null,
      "grid_row": null,
      "grid_template_areas": null,
      "grid_template_columns": null,
      "grid_template_rows": null,
      "height": null,
      "justify_content": null,
      "justify_items": null,
      "left": null,
      "margin": null,
      "max_height": null,
      "max_width": null,
      "min_height": null,
      "min_width": null,
      "object_fit": null,
      "object_position": null,
      "order": null,
      "overflow": null,
      "overflow_x": null,
      "overflow_y": null,
      "padding": null,
      "right": null,
      "top": null,
      "visibility": null,
      "width": null
     }
    },
    "f14b04eaa48745b7b7c2a982bec217b3": {
     "model_module": "@jupyter-widgets/controls",
     "model_name": "HBoxModel",
     "state": {
      "_dom_classes": [],
      "_model_module": "@jupyter-widgets/controls",
      "_model_module_version": "1.5.0",
      "_model_name": "HBoxModel",
      "_view_count": null,
      "_view_module": "@jupyter-widgets/controls",
      "_view_module_version": "1.5.0",
      "_view_name": "HBoxView",
      "box_style": "",
      "children": [
       "IPY_MODEL_f8b20f9195e549a2b1e4c1a2ffc8176e",
       "IPY_MODEL_fcc7781c28d2470783e6a8a291dd56ad"
      ],
      "layout": "IPY_MODEL_1f0568dbbf134c5b8055a0dc4dfe2ea6"
     }
    },
    "f2bcf10fb8e6445191614d6284baf428": {
     "model_module": "@jupyter-widgets/controls",
     "model_name": "DescriptionStyleModel",
     "state": {
      "_model_module": "@jupyter-widgets/controls",
      "_model_module_version": "1.5.0",
      "_model_name": "DescriptionStyleModel",
      "_view_count": null,
      "_view_module": "@jupyter-widgets/base",
      "_view_module_version": "1.2.0",
      "_view_name": "StyleView",
      "description_width": ""
     }
    },
    "f8b20f9195e549a2b1e4c1a2ffc8176e": {
     "model_module": "@jupyter-widgets/controls",
     "model_name": "FloatProgressModel",
     "state": {
      "_dom_classes": [],
      "_model_module": "@jupyter-widgets/controls",
      "_model_module_version": "1.5.0",
      "_model_name": "FloatProgressModel",
      "_view_count": null,
      "_view_module": "@jupyter-widgets/controls",
      "_view_module_version": "1.5.0",
      "_view_name": "ProgressView",
      "bar_style": "success",
      "description": "100%",
      "description_tooltip": null,
      "layout": "IPY_MODEL_6b5d8a4b086e4fa7aea37c03a8bd5a81",
      "max": 20000,
      "min": 0,
      "orientation": "horizontal",
      "style": "IPY_MODEL_6d12baf48e0f45a8b5fe636bbbe4121b",
      "value": 20000
     }
    },
    "f97c3dd6fe0f4ef5aea1c09ca96326c9": {
     "model_module": "@jupyter-widgets/controls",
     "model_name": "HTMLModel",
     "state": {
      "_dom_classes": [],
      "_model_module": "@jupyter-widgets/controls",
      "_model_module_version": "1.5.0",
      "_model_name": "HTMLModel",
      "_view_count": null,
      "_view_module": "@jupyter-widgets/controls",
      "_view_module_version": "1.5.0",
      "_view_name": "HTMLView",
      "description": "",
      "description_tooltip": null,
      "layout": "IPY_MODEL_4c9b6a6164614420922da5ad1afd6dba",
      "placeholder": "​",
      "style": "IPY_MODEL_3d5448e6f0f241d697d6ae30cb7ae4c2",
      "value": " 20000/20000 [00:00&lt;00:00, 199026.95it/s]"
     }
    },
    "f985b9ea65de40e097ee6b490aee791b": {
     "model_module": "@jupyter-widgets/controls",
     "model_name": "HTMLModel",
     "state": {
      "_dom_classes": [],
      "_model_module": "@jupyter-widgets/controls",
      "_model_module_version": "1.5.0",
      "_model_name": "HTMLModel",
      "_view_count": null,
      "_view_module": "@jupyter-widgets/controls",
      "_view_module_version": "1.5.0",
      "_view_name": "HTMLView",
      "description": "",
      "description_tooltip": null,
      "layout": "IPY_MODEL_37b98735f8044299adbd7c7c328f272a",
      "placeholder": "​",
      "style": "IPY_MODEL_40862d1e53f446859a43d180db7cc6f7",
      "value": " 150000/150000 [00:01&lt;00:00, 101814.68it/s]"
     }
    },
    "fc3ef89ba07349adb6f1691b0bed702c": {
     "model_module": "@jupyter-widgets/base",
     "model_name": "LayoutModel",
     "state": {
      "_model_module": "@jupyter-widgets/base",
      "_model_module_version": "1.2.0",
      "_model_name": "LayoutModel",
      "_view_count": null,
      "_view_module": "@jupyter-widgets/base",
      "_view_module_version": "1.2.0",
      "_view_name": "LayoutView",
      "align_content": null,
      "align_items": null,
      "align_self": null,
      "border": null,
      "bottom": null,
      "display": null,
      "flex": null,
      "flex_flow": null,
      "grid_area": null,
      "grid_auto_columns": null,
      "grid_auto_flow": null,
      "grid_auto_rows": null,
      "grid_column": null,
      "grid_gap": null,
      "grid_row": null,
      "grid_template_areas": null,
      "grid_template_columns": null,
      "grid_template_rows": null,
      "height": null,
      "justify_content": null,
      "justify_items": null,
      "left": null,
      "margin": null,
      "max_height": null,
      "max_width": null,
      "min_height": null,
      "min_width": null,
      "object_fit": null,
      "object_position": null,
      "order": null,
      "overflow": null,
      "overflow_x": null,
      "overflow_y": null,
      "padding": null,
      "right": null,
      "top": null,
      "visibility": null,
      "width": null
     }
    },
    "fcc7781c28d2470783e6a8a291dd56ad": {
     "model_module": "@jupyter-widgets/controls",
     "model_name": "HTMLModel",
     "state": {
      "_dom_classes": [],
      "_model_module": "@jupyter-widgets/controls",
      "_model_module_version": "1.5.0",
      "_model_name": "HTMLModel",
      "_view_count": null,
      "_view_module": "@jupyter-widgets/controls",
      "_view_module_version": "1.5.0",
      "_view_name": "HTMLView",
      "description": "",
      "description_tooltip": null,
      "layout": "IPY_MODEL_01399b2221b944319accfb8674d55480",
      "placeholder": "​",
      "style": "IPY_MODEL_43cde641480c4fea8ef451f8b20ab446",
      "value": " 20000/20000 [00:00&lt;00:00, 103835.08it/s]"
     }
    },
    "ff5cc3f8791e4829bde333394716c193": {
     "model_module": "@jupyter-widgets/controls",
     "model_name": "HTMLModel",
     "state": {
      "_dom_classes": [],
      "_model_module": "@jupyter-widgets/controls",
      "_model_module_version": "1.5.0",
      "_model_name": "HTMLModel",
      "_view_count": null,
      "_view_module": "@jupyter-widgets/controls",
      "_view_module_version": "1.5.0",
      "_view_name": "HTMLView",
      "description": "",
      "description_tooltip": null,
      "layout": "IPY_MODEL_435d2dfc80c748dfa40ef678452417a8",
      "placeholder": "​",
      "style": "IPY_MODEL_2df0d91c2d2a470fbaa45dfa7a0d492f",
      "value": " 20000/20000 [00:00&lt;00:00, 70248.41it/s]"
     }
    }
   }
  }
 },
 "nbformat": 4,
 "nbformat_minor": 1
}
