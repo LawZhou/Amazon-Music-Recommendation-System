{
  "nbformat": 4,
  "nbformat_minor": 0,
  "metadata": {
    "colab": {
      "name": "MIE1624_proj_LSTM.ipynb",
      "provenance": [],
      "collapsed_sections": [],
      "toc_visible": true,
      "machine_shape": "hm",
      "mount_file_id": "1tfVIEKidRbuXtS6xZ8Ro-yQHkRPRj8tg",
      "authorship_tag": "ABX9TyOCWiK02DMr+Qk0LJCQOxnb",
      "include_colab_link": true
    },
    "kernelspec": {
      "name": "python3",
      "display_name": "Python 3"
    },
    "language_info": {
      "name": "python"
    },
    "accelerator": "GPU"
  },
  "cells": [
    {
      "cell_type": "markdown",
      "metadata": {
        "id": "view-in-github",
        "colab_type": "text"
      },
      "source": [
        "<a href=\"https://colab.research.google.com/github/jackychencw/MIE1624_Course_Project_Group19/blob/Lawrence-nlp-preprocess/MIE1624_proj_LSTM_final.ipynb\" target=\"_parent\"><img src=\"https://colab.research.google.com/assets/colab-badge.svg\" alt=\"Open In Colab\"/></a>"
      ]
    },
    {
      "cell_type": "code",
      "metadata": {
        "colab": {
          "base_uri": "https://localhost:8080/"
        },
        "id": "Cv6LKYOsL4Y5",
        "outputId": "50e4355c-ed71-4410-cffc-9edce08ff0ec"
      },
      "source": [
        "import pandas as pd\n",
        "import tensorflow as tf\n",
        "import pickle\n",
        "\n",
        "from tensorflow.keras.callbacks import EarlyStopping\n",
        "from keras.models import Sequential\n",
        "from keras.layers import Dense, Dropout, LSTM, Reshape\n",
        "from keras.wrappers.scikit_learn import KerasRegressor\n",
        "from keras.optimizers.schedules import ExponentialDecay\n",
        "from keras.optimizers import Adam\n",
        "\n",
        "from sklearn.feature_extraction.text import TfidfVectorizer\n",
        "from sklearn.model_selection import train_test_split, KFold\n",
        "from sklearn.preprocessing import LabelEncoder\n",
        "from sklearn.pipeline import Pipeline\n",
        "from sklearn.model_selection import GridSearchCV\n",
        "from sklearn.preprocessing import StandardScaler\n",
        "from sklearn.feature_selection import SelectKBest, chi2\n",
        "from sklearn.compose import ColumnTransformer\n",
        "from sklearn.base import TransformerMixin\n",
        "\n",
        "from joblib import dump, load\n",
        "\n",
        "from google.colab import drive\n",
        "\n",
        "drive.mount('/content/drive')\n",
        "\n",
        "data = pd.read_csv(\"/content/drive/MyDrive/Colab Notebooks/data/jacky_train_data.csv\", index_col=0)\n",
        "test_data = pd.read_csv(\"/content/drive/MyDrive/Colab Notebooks/data/jacky_test_data.csv\", index_col=0)\n",
        "rating_pairs_path = \"/content/drive/MyDrive/Colab Notebooks/data/rating_pairs.csv\"\n",
        "rating_pred_export_path = \"/content/drive/MyDrive/Colab Notebooks/data/rating_pairs_pred.csv\""
      ],
      "execution_count": 1,
      "outputs": [
        {
          "output_type": "stream",
          "text": [
            "Drive already mounted at /content/drive; to attempt to forcibly remount, call drive.mount(\"/content/drive\", force_remount=True).\n"
          ],
          "name": "stdout"
        }
      ]
    },
    {
      "cell_type": "markdown",
      "metadata": {
        "id": "4TFJupZWAIOn"
      },
      "source": [
        "# Data preprocess"
      ]
    },
    {
      "cell_type": "code",
      "metadata": {
        "id": "7Yzx0taL-ERJ"
      },
      "source": [
        "def clean_data(data):\n",
        "  data = data.drop(columns=[\n",
        "                   'reviewerID', 'reviewText', 'unixReviewTime', 'itemID', 'reviewHash', 'important_features'])\n",
        "  data['reviewTime'] = data.reviewTime.apply(lambda _: int(_[-4:]))\n",
        "  dummy_years = pd.get_dummies(data.reviewTime, prefix='year')\n",
        "  data = pd.concat([data, dummy_years], axis=1)\n",
        "  data = data.drop(columns=['reviewTime'])\n",
        "  return data"
      ],
      "execution_count": 2,
      "outputs": []
    },
    {
      "cell_type": "code",
      "metadata": {
        "id": "Nvyfywti-qJS"
      },
      "source": [
        "data = clean_data(data)\n",
        "test_data = clean_data(test_data)\n"
      ],
      "execution_count": 3,
      "outputs": []
    },
    {
      "cell_type": "markdown",
      "metadata": {
        "id": "pvpoznQiAO-l"
      },
      "source": [
        "# Split training data into training set and validation set"
      ]
    },
    {
      "cell_type": "code",
      "metadata": {
        "id": "N1oPxSqQtX20"
      },
      "source": [
        "saved_features = 2000 # max feature\n",
        "\n",
        "y = data.overall\n",
        "X = data.drop(columns=['overall'])\n",
        "X_train, X_test, y_train, y_test = train_test_split(X, y, test_size=0.2, random_state=42)\n"
      ],
      "execution_count": 4,
      "outputs": []
    },
    {
      "cell_type": "code",
      "metadata": {
        "id": "2JNLo3iY-_lb"
      },
      "source": [
        "test_data = test_data.reindex(columns=X.columns)"
      ],
      "execution_count": 5,
      "outputs": []
    },
    {
      "cell_type": "markdown",
      "metadata": {
        "id": "ACgVKCtNAZGx"
      },
      "source": [
        "# Neural Network model"
      ]
    },
    {
      "cell_type": "markdown",
      "metadata": {
        "id": "gcUKxa51EGCL"
      },
      "source": [
        "We use a pipeline for our neural network model and it consists following steps: \n",
        "\n",
        "1.   The model uses column transformer to process the features separately. It normalizes the numeric features and vectorizes the text feature using TFIDF. We also use feature selection to select the best features for the text features.\n",
        "2.   It transforms the sparse matrix produced by the column transformer to dense matrix in order to feed in the neural network.\n",
        "3. The NN consists of a LSTM along with a few more dense layers and we use it to predict the overall rating."
      ]
    },
    {
      "cell_type": "code",
      "metadata": {
        "id": "HzLdz_CkP-nW"
      },
      "source": [
        "class DenseTransformer(TransformerMixin):\n",
        "\n",
        "    def fit(self, X, y=None, **fit_params):\n",
        "        return self\n",
        "\n",
        "    def transform(self, X, y=None, **fit_params):\n",
        "        return X.todense()\n",
        "        \n",
        "def create_model(num_layer=256, \n",
        "                 init_lr=0.005, \n",
        "                 decay_rate=0.95, \n",
        "                 decay_step=3000, \n",
        "                 drop_out=0.75,\n",
        "                 epoch=50,\n",
        "                 batch_size=64):\n",
        "  def model_compiler(\n",
        "      num_layer=num_layer,\n",
        "      init_lr=init_lr,\n",
        "      decay_rate=decay_rate,\n",
        "      decay_steps=decay_step,\n",
        "      drop_out=drop_out,\n",
        "      loss_func='mse',\n",
        "      metrics = [tf.keras.losses.MSE]\n",
        "      ):\n",
        "    model = tf.keras.Sequential([\n",
        "      Reshape(target_shape=(1,-1)),\n",
        "      LSTM(num_layer),\n",
        "      Dropout(drop_out),\n",
        "      Dense(num_layer*2, kernel_initializer='normal', activation='relu'),\n",
        "      Dropout(drop_out),\n",
        "      Dense(num_layer, kernel_initializer='normal', activation='relu'),\n",
        "      Dropout(drop_out),\n",
        "      Dense(num_layer/2, kernel_initializer='normal', activation='relu'),\n",
        "      Dropout(drop_out),\n",
        "      Dense(1, kernel_initializer='normal', activation='relu')\n",
        "    ])\n",
        "    # decay learning rate\n",
        "    lr_schedule = ExponentialDecay(\n",
        "        initial_learning_rate=init_lr,\n",
        "        decay_steps=decay_steps,\n",
        "        decay_rate=decay_rate,\n",
        "        staircase=True)\n",
        "\n",
        "    opt = Adam(learning_rate=lr_schedule)\n",
        "    model.compile(loss=loss_func, optimizer=opt, metrics=metrics)\n",
        "    return model\n",
        "\n",
        "  vectorizers = {\n",
        "      'tfidf': TfidfVectorizer(),\n",
        "      }\n",
        "  summary_pipe = Pipeline([\n",
        "                      ('vect', TfidfVectorizer()),\n",
        "                      ('select', SelectKBest(chi2, k=saved_features))\n",
        "                      ])\n",
        "\n",
        "  review_pipe = Pipeline([('vect', TfidfVectorizer()),\n",
        "                          ('select', SelectKBest(chi2, k=saved_features))\n",
        "                                ])\n",
        "\n",
        "  preprocess = ColumnTransformer([\n",
        "                                ('price_std', StandardScaler(), ['price']),\n",
        "                                ('summary_count_vec', summary_pipe, 'summary'),\n",
        "                                ('review_tfidf', review_pipe, 'important_features(clean)')\n",
        "                                ], remainder = 'passthrough')\n",
        "  model = KerasRegressor(model_compiler, epochs=epoch, batch_size=batch_size, verbose=True)\n",
        "  pipe = Pipeline([('preprocess', preprocess),\n",
        "                    ('to_dense', DenseTransformer()),\n",
        "                    ('nn', model)], verbose=True)\n",
        "  return pipe\n",
        "\n"
      ],
      "execution_count": 6,
      "outputs": []
    },
    {
      "cell_type": "code",
      "metadata": {
        "id": "yzBCj-bueQ3K"
      },
      "source": [
        "from sklearn.metrics import mean_squared_error\n",
        "import matplotlib.pyplot as plt\n",
        "import numpy as np\n",
        "class ModelTuner():\n",
        "  def __init__(self, params):\n",
        "    self.params = params\n",
        "    self.models = [create_model(**param, epoch=15) for param in self.params]\n",
        "    self.train_scores = [0] * len(self.params)\n",
        "    self.test_scores = [0] * len(self.params)\n",
        "\n",
        "  def fit_scores(self, X_train, y_train, X_test, y_test):\n",
        "    for i, model in enumerate(self.models):\n",
        "      model.fit(X_train, y_train)\n",
        "      y_train_pred = model.predict(X_train)\n",
        "      y_pred = model.predict(X_test)\n",
        "      self.test_scores[i] = mean_squared_error(y_test, y_pred)\n",
        "      self.train_scores[i] = mean_squared_error(y_train, y_train_pred)\n",
        "  \n",
        "  def visualize(self, title, xlabel):\n",
        "    width = 0.35  # the width of the bars\n",
        "    x = np.arange(len(self.train_scores))\n",
        "    params = [list(param.values())[0] for param in self.params]\n",
        "\n",
        "    fig, ax = plt.subplots()\n",
        "    rects1 = ax.bar(x - width/2, self.train_scores, width, label='Train')\n",
        "    rects2 = ax.bar(x + width/2, self.test_scores, width, label='Test')\n",
        "\n",
        "    # Add some text for labels, title and custom x-axis tick labels, etc.\n",
        "    ax.set_ylabel('MSE')\n",
        "    ax.set_title(title)\n",
        "    ax.set_xticks(x)\n",
        "    ax.set_xticklabels(params)\n",
        "    ax.set_xlabel(xlabel)\n",
        "    ax.legend()\n",
        "\n",
        "    plt.show()\n",
        "\n",
        "    "
      ],
      "execution_count": 11,
      "outputs": []
    },
    {
      "cell_type": "markdown",
      "metadata": {
        "id": "G975UsfPq69l"
      },
      "source": [
        "Tune initial learning rate"
      ]
    },
    {
      "cell_type": "code",
      "metadata": {
        "id": "Hqpa1pI4nFSa",
        "outputId": "f52a013a-d72e-455b-90cb-1032cb2eb0f1",
        "colab": {
          "base_uri": "https://localhost:8080/"
        }
      },
      "source": [
        "lr_tuner = ModelTuner(params=[{'init_lr': 0.05},\n",
        "                              {'init_lr': 0.01},\n",
        "                              {'init_lr': 0.005}\n",
        "                              ])\n",
        "lr_tuner.fit_scores(X_train, y_train, X_test, y_test)"
      ],
      "execution_count": 19,
      "outputs": [
        {
          "output_type": "stream",
          "text": [
            "[Pipeline] ........ (step 1 of 3) Processing preprocess, total=   9.6s\n",
            "[Pipeline] .......... (step 2 of 3) Processing to_dense, total=   0.6s\n",
            "Epoch 1/15\n",
            "1875/1875 [==============================] - 9s 4ms/step - loss: 17.4449 - mean_squared_error: 17.4449\n",
            "Epoch 2/15\n",
            "1875/1875 [==============================] - 7s 4ms/step - loss: 798.9627 - mean_squared_error: 798.9627\n",
            "Epoch 3/15\n",
            "1875/1875 [==============================] - 7s 4ms/step - loss: 2641.8015 - mean_squared_error: 2641.8015\n",
            "Epoch 4/15\n",
            "1875/1875 [==============================] - 7s 4ms/step - loss: 848.4644 - mean_squared_error: 848.4644\n",
            "Epoch 5/15\n",
            "1875/1875 [==============================] - 7s 4ms/step - loss: 2222.5879 - mean_squared_error: 2222.5879\n",
            "Epoch 6/15\n",
            "1875/1875 [==============================] - 7s 4ms/step - loss: 13.9881 - mean_squared_error: 13.9881\n",
            "Epoch 7/15\n",
            "1875/1875 [==============================] - 7s 4ms/step - loss: 4.6323 - mean_squared_error: 4.6323\n",
            "Epoch 8/15\n",
            "1875/1875 [==============================] - 7s 4ms/step - loss: 4.6797 - mean_squared_error: 4.6797\n",
            "Epoch 9/15\n",
            "1875/1875 [==============================] - 7s 4ms/step - loss: 34.8478 - mean_squared_error: 34.8478\n",
            "Epoch 10/15\n",
            "1875/1875 [==============================] - 7s 4ms/step - loss: 3.6624 - mean_squared_error: 3.6624\n",
            "Epoch 11/15\n",
            "1875/1875 [==============================] - 7s 4ms/step - loss: 3.5835 - mean_squared_error: 3.5835\n",
            "Epoch 12/15\n",
            "1875/1875 [==============================] - 7s 4ms/step - loss: 447.7466 - mean_squared_error: 447.7466\n",
            "Epoch 13/15\n",
            "1875/1875 [==============================] - 7s 4ms/step - loss: 48232.6467 - mean_squared_error: 48232.6467\n",
            "Epoch 14/15\n",
            "1875/1875 [==============================] - 7s 4ms/step - loss: 2.1128 - mean_squared_error: 2.1128\n",
            "Epoch 15/15\n",
            "1875/1875 [==============================] - 7s 4ms/step - loss: 6276.2859 - mean_squared_error: 6276.2859\n",
            "[Pipeline] ................ (step 3 of 3) Processing nn, total= 1.8min\n",
            "1875/1875 [==============================] - 4s 2ms/step\n",
            "469/469 [==============================] - 2s 2ms/step\n",
            "[Pipeline] ........ (step 1 of 3) Processing preprocess, total=   9.3s\n",
            "[Pipeline] .......... (step 2 of 3) Processing to_dense, total=   0.6s\n",
            "Epoch 1/15\n",
            "1875/1875 [==============================] - 9s 4ms/step - loss: 2.4227 - mean_squared_error: 2.4227\n",
            "Epoch 2/15\n",
            "1875/1875 [==============================] - 7s 4ms/step - loss: 0.8525 - mean_squared_error: 0.8525\n",
            "Epoch 3/15\n",
            "1875/1875 [==============================] - 7s 4ms/step - loss: 0.9180 - mean_squared_error: 0.9180\n",
            "Epoch 4/15\n",
            "1875/1875 [==============================] - 7s 4ms/step - loss: 0.9257 - mean_squared_error: 0.9257\n",
            "Epoch 5/15\n",
            "1875/1875 [==============================] - 7s 4ms/step - loss: 0.9611 - mean_squared_error: 0.9611\n",
            "Epoch 6/15\n",
            "1875/1875 [==============================] - 7s 4ms/step - loss: 0.9567 - mean_squared_error: 0.9567\n",
            "Epoch 7/15\n",
            "1875/1875 [==============================] - 7s 4ms/step - loss: 0.9680 - mean_squared_error: 0.9680\n",
            "Epoch 8/15\n",
            "1875/1875 [==============================] - 7s 4ms/step - loss: 0.9854 - mean_squared_error: 0.9854\n",
            "Epoch 9/15\n",
            "1875/1875 [==============================] - 7s 4ms/step - loss: 0.9990 - mean_squared_error: 0.9990\n",
            "Epoch 10/15\n",
            "1875/1875 [==============================] - 7s 4ms/step - loss: 0.9956 - mean_squared_error: 0.9956\n",
            "Epoch 11/15\n",
            "1875/1875 [==============================] - 7s 4ms/step - loss: 1.0395 - mean_squared_error: 1.0395\n",
            "Epoch 12/15\n",
            "1875/1875 [==============================] - 7s 4ms/step - loss: 0.9910 - mean_squared_error: 0.9910\n",
            "Epoch 13/15\n",
            "1875/1875 [==============================] - 7s 4ms/step - loss: 0.9966 - mean_squared_error: 0.9966\n",
            "Epoch 14/15\n",
            "1875/1875 [==============================] - 7s 4ms/step - loss: 1.0105 - mean_squared_error: 1.0105\n",
            "Epoch 15/15\n",
            "1875/1875 [==============================] - 7s 4ms/step - loss: 1.0003 - mean_squared_error: 1.0003\n",
            "[Pipeline] ................ (step 3 of 3) Processing nn, total= 1.8min\n",
            "1875/1875 [==============================] - 4s 2ms/step\n",
            "469/469 [==============================] - 2s 2ms/step\n",
            "[Pipeline] ........ (step 1 of 3) Processing preprocess, total=   9.0s\n",
            "[Pipeline] .......... (step 2 of 3) Processing to_dense, total=   0.6s\n",
            "Epoch 1/15\n",
            "1875/1875 [==============================] - 9s 4ms/step - loss: 2.1774 - mean_squared_error: 2.1774\n",
            "Epoch 2/15\n",
            "1875/1875 [==============================] - 7s 4ms/step - loss: 0.6921 - mean_squared_error: 0.6921\n",
            "Epoch 3/15\n",
            "1875/1875 [==============================] - 7s 4ms/step - loss: 0.6569 - mean_squared_error: 0.6569\n",
            "Epoch 4/15\n",
            "1875/1875 [==============================] - 7s 4ms/step - loss: 0.6636 - mean_squared_error: 0.6636\n",
            "Epoch 5/15\n",
            "1875/1875 [==============================] - 7s 4ms/step - loss: 0.6593 - mean_squared_error: 0.6593\n",
            "Epoch 6/15\n",
            "1875/1875 [==============================] - 7s 4ms/step - loss: 0.6514 - mean_squared_error: 0.6514\n",
            "Epoch 7/15\n",
            "1875/1875 [==============================] - 7s 4ms/step - loss: 0.6292 - mean_squared_error: 0.6292\n",
            "Epoch 8/15\n",
            "1875/1875 [==============================] - 7s 4ms/step - loss: 0.6072 - mean_squared_error: 0.6072\n",
            "Epoch 9/15\n",
            "1875/1875 [==============================] - 7s 4ms/step - loss: 0.6072 - mean_squared_error: 0.6072\n",
            "Epoch 10/15\n",
            "1875/1875 [==============================] - 7s 4ms/step - loss: 0.5948 - mean_squared_error: 0.5948\n",
            "Epoch 11/15\n",
            "1875/1875 [==============================] - 7s 4ms/step - loss: 0.5837 - mean_squared_error: 0.5837\n",
            "Epoch 12/15\n",
            "1875/1875 [==============================] - 7s 4ms/step - loss: 0.5812 - mean_squared_error: 0.5812\n",
            "Epoch 13/15\n",
            "1875/1875 [==============================] - 7s 4ms/step - loss: 0.5817 - mean_squared_error: 0.5817\n",
            "Epoch 14/15\n",
            "1875/1875 [==============================] - 7s 4ms/step - loss: 0.5606 - mean_squared_error: 0.5606\n",
            "Epoch 15/15\n",
            "1875/1875 [==============================] - 7s 4ms/step - loss: 0.5581 - mean_squared_error: 0.5581\n",
            "[Pipeline] ................ (step 3 of 3) Processing nn, total= 1.8min\n",
            "1875/1875 [==============================] - 4s 2ms/step\n",
            "469/469 [==============================] - 2s 2ms/step\n"
          ],
          "name": "stdout"
        }
      ]
    },
    {
      "cell_type": "code",
      "metadata": {
        "id": "iyQwy3AkvrVM",
        "outputId": "37c07cac-2ea6-4250-edd2-1a1d20b17137",
        "colab": {
          "base_uri": "https://localhost:8080/",
          "height": 295
        }
      },
      "source": [
        "lr_tuner.visualize(\"Initial learning rate VS MSE\", \"Initial learning rate\")"
      ],
      "execution_count": 21,
      "outputs": [
        {
          "output_type": "display_data",
          "data": {
            "image/png": "[encoded data removed]",
            "text/plain": [
              "<Figure size 432x288 with 1 Axes>"
            ]
          },
          "metadata": {
            "tags": [],
            "needs_background": "light"
          }
        }
      ]
    },
    {
      "cell_type": "code",
      "metadata": {
        "id": "yGCNlUYT0iB_"
      },
      "source": [
        "# Delete the model to free memory\n",
        "del lr_tuner"
      ],
      "execution_count": 22,
      "outputs": []
    },
    {
      "cell_type": "markdown",
      "metadata": {
        "id": "Fs_FeAUirDX-"
      },
      "source": [
        "Tune number of layers"
      ]
    },
    {
      "cell_type": "code",
      "metadata": {
        "id": "8kz4nGhyrCNI",
        "outputId": "144e84d5-6b2a-45b3-c8fe-5ed665725591",
        "colab": {
          "base_uri": "https://localhost:8080/"
        }
      },
      "source": [
        "layer_tuner = ModelTuner(params=[{'num_layer': 128},\n",
        "                                 {'num_layer': 256},\n",
        "                                 {'num_layer': 324}\n",
        "                                ])\n",
        "layer_tuner.fit_scores(X_train, y_train, X_test, y_test)"
      ],
      "execution_count": 23,
      "outputs": [
        {
          "output_type": "stream",
          "text": [
            "[Pipeline] ........ (step 1 of 3) Processing preprocess, total=   9.3s\n",
            "[Pipeline] .......... (step 2 of 3) Processing to_dense, total=   0.6s\n",
            "Epoch 1/15\n",
            "1875/1875 [==============================] - 9s 4ms/step - loss: 2.5170 - mean_squared_error: 2.5170\n",
            "Epoch 2/15\n",
            "1875/1875 [==============================] - 7s 4ms/step - loss: 0.7089 - mean_squared_error: 0.7089\n",
            "Epoch 3/15\n",
            "1875/1875 [==============================] - 7s 4ms/step - loss: 0.6423 - mean_squared_error: 0.6423\n",
            "Epoch 4/15\n",
            "1875/1875 [==============================] - 7s 4ms/step - loss: 0.6219 - mean_squared_error: 0.6219\n",
            "Epoch 5/15\n",
            "1875/1875 [==============================] - 7s 4ms/step - loss: 0.6056 - mean_squared_error: 0.6056\n",
            "Epoch 6/15\n",
            "1875/1875 [==============================] - 7s 4ms/step - loss: 0.6050 - mean_squared_error: 0.6050\n",
            "Epoch 7/15\n",
            "1875/1875 [==============================] - 7s 4ms/step - loss: 0.5858 - mean_squared_error: 0.5858\n",
            "Epoch 8/15\n",
            "1875/1875 [==============================] - 7s 4ms/step - loss: 0.5776 - mean_squared_error: 0.5776\n",
            "Epoch 9/15\n",
            "1875/1875 [==============================] - 7s 4ms/step - loss: 0.5717 - mean_squared_error: 0.5717\n",
            "Epoch 10/15\n",
            "1875/1875 [==============================] - 7s 4ms/step - loss: 0.5650 - mean_squared_error: 0.5650\n",
            "Epoch 11/15\n",
            "1875/1875 [==============================] - 7s 4ms/step - loss: 0.5518 - mean_squared_error: 0.5518\n",
            "Epoch 12/15\n",
            "1875/1875 [==============================] - 7s 4ms/step - loss: 0.5570 - mean_squared_error: 0.5570\n",
            "Epoch 13/15\n",
            "1875/1875 [==============================] - 7s 4ms/step - loss: 0.5356 - mean_squared_error: 0.5356\n",
            "Epoch 14/15\n",
            "1875/1875 [==============================] - 7s 4ms/step - loss: 0.5407 - mean_squared_error: 0.5407\n",
            "Epoch 15/15\n",
            "1875/1875 [==============================] - 7s 4ms/step - loss: 0.5338 - mean_squared_error: 0.5338\n",
            "[Pipeline] ................ (step 3 of 3) Processing nn, total= 1.8min\n",
            "1875/1875 [==============================] - 4s 2ms/step\n",
            "469/469 [==============================] - 2s 2ms/step\n",
            "[Pipeline] ........ (step 1 of 3) Processing preprocess, total=   9.2s\n",
            "[Pipeline] .......... (step 2 of 3) Processing to_dense, total=   0.6s\n",
            "Epoch 1/15\n",
            "1875/1875 [==============================] - 9s 4ms/step - loss: 2.2689 - mean_squared_error: 2.2689\n",
            "Epoch 2/15\n",
            "1875/1875 [==============================] - 7s 4ms/step - loss: 0.6927 - mean_squared_error: 0.6927\n",
            "Epoch 3/15\n",
            "1875/1875 [==============================] - 7s 4ms/step - loss: 0.6690 - mean_squared_error: 0.6690\n",
            "Epoch 4/15\n",
            "1875/1875 [==============================] - 7s 4ms/step - loss: 0.6682 - mean_squared_error: 0.6682\n",
            "Epoch 5/15\n",
            "1875/1875 [==============================] - 7s 4ms/step - loss: 0.6626 - mean_squared_error: 0.6626\n",
            "Epoch 6/15\n",
            "1875/1875 [==============================] - 7s 4ms/step - loss: 0.6500 - mean_squared_error: 0.6500\n",
            "Epoch 7/15\n",
            "1875/1875 [==============================] - 7s 4ms/step - loss: 0.6175 - mean_squared_error: 0.6175\n",
            "Epoch 8/15\n",
            "1875/1875 [==============================] - 7s 4ms/step - loss: 0.6310 - mean_squared_error: 0.6310\n",
            "Epoch 9/15\n",
            "1875/1875 [==============================] - 7s 4ms/step - loss: 0.6303 - mean_squared_error: 0.6303\n",
            "Epoch 10/15\n",
            "1875/1875 [==============================] - 7s 4ms/step - loss: 0.5894 - mean_squared_error: 0.5894\n",
            "Epoch 11/15\n",
            "1875/1875 [==============================] - 7s 4ms/step - loss: 0.5800 - mean_squared_error: 0.5800\n",
            "Epoch 12/15\n",
            "1875/1875 [==============================] - 7s 4ms/step - loss: 0.5700 - mean_squared_error: 0.5700\n",
            "Epoch 13/15\n",
            "1875/1875 [==============================] - 7s 4ms/step - loss: 0.5626 - mean_squared_error: 0.5626\n",
            "Epoch 14/15\n",
            "1875/1875 [==============================] - 7s 4ms/step - loss: 0.5564 - mean_squared_error: 0.5564\n",
            "Epoch 15/15\n",
            "1875/1875 [==============================] - 7s 4ms/step - loss: 0.5590 - mean_squared_error: 0.5590\n",
            "[Pipeline] ................ (step 3 of 3) Processing nn, total= 1.8min\n",
            "1875/1875 [==============================] - 4s 2ms/step\n",
            "469/469 [==============================] - 2s 2ms/step\n",
            "[Pipeline] ........ (step 1 of 3) Processing preprocess, total=   9.2s\n",
            "[Pipeline] .......... (step 2 of 3) Processing to_dense, total=   0.6s\n",
            "Epoch 1/15\n",
            "1875/1875 [==============================] - 9s 4ms/step - loss: 2.1869 - mean_squared_error: 2.1869\n",
            "Epoch 2/15\n",
            "1875/1875 [==============================] - 8s 4ms/step - loss: 0.7074 - mean_squared_error: 0.7074\n",
            "Epoch 3/15\n",
            "1875/1875 [==============================] - 7s 4ms/step - loss: 0.7018 - mean_squared_error: 0.7018\n",
            "Epoch 4/15\n",
            "1875/1875 [==============================] - 7s 4ms/step - loss: 0.7114 - mean_squared_error: 0.7114\n",
            "Epoch 5/15\n",
            "1875/1875 [==============================] - 7s 4ms/step - loss: 0.7151 - mean_squared_error: 0.7151\n",
            "Epoch 6/15\n",
            "1875/1875 [==============================] - 7s 4ms/step - loss: 0.6842 - mean_squared_error: 0.6842\n",
            "Epoch 7/15\n",
            "1875/1875 [==============================] - 8s 4ms/step - loss: 0.6813 - mean_squared_error: 0.6813\n",
            "Epoch 8/15\n",
            "1875/1875 [==============================] - 7s 4ms/step - loss: 0.6810 - mean_squared_error: 0.6810\n",
            "Epoch 9/15\n",
            "1875/1875 [==============================] - 7s 4ms/step - loss: 0.6641 - mean_squared_error: 0.6641\n",
            "Epoch 10/15\n",
            "1875/1875 [==============================] - 7s 4ms/step - loss: 0.6705 - mean_squared_error: 0.6705\n",
            "Epoch 11/15\n",
            "1875/1875 [==============================] - 7s 4ms/step - loss: 0.6449 - mean_squared_error: 0.6449\n",
            "Epoch 12/15\n",
            "1875/1875 [==============================] - 7s 4ms/step - loss: 0.6369 - mean_squared_error: 0.6369\n",
            "Epoch 13/15\n",
            "1875/1875 [==============================] - 7s 4ms/step - loss: 0.6258 - mean_squared_error: 0.6258\n",
            "Epoch 14/15\n",
            "1875/1875 [==============================] - 7s 4ms/step - loss: 0.6191 - mean_squared_error: 0.6191\n",
            "Epoch 15/15\n",
            "1875/1875 [==============================] - 7s 4ms/step - loss: 0.6090 - mean_squared_error: 0.6090\n",
            "[Pipeline] ................ (step 3 of 3) Processing nn, total= 1.9min\n",
            "1875/1875 [==============================] - 4s 2ms/step\n",
            "469/469 [==============================] - 2s 2ms/step\n"
          ],
          "name": "stdout"
        }
      ]
    },
    {
      "cell_type": "code",
      "metadata": {
        "id": "G3jZqSV8voRc",
        "outputId": "22996cd0-4a9f-4008-bfb9-a61245cd9b79",
        "colab": {
          "base_uri": "https://localhost:8080/",
          "height": 295
        }
      },
      "source": [
        "layer_tuner.visualize(\"Number of Layers VS MSE\", \"Num of layers\")"
      ],
      "execution_count": 24,
      "outputs": [
        {
          "output_type": "display_data",
          "data": {
            "image/png": "[encoded data removed]",
            "text/plain": [
              "<Figure size 432x288 with 1 Axes>"
            ]
          },
          "metadata": {
            "tags": [],
            "needs_background": "light"
          }
        }
      ]
    },
    {
      "cell_type": "code",
      "metadata": {
        "id": "LbFjzgov2luq"
      },
      "source": [
        "del layer_tuner"
      ],
      "execution_count": 25,
      "outputs": []
    },
    {
      "cell_type": "markdown",
      "metadata": {
        "id": "mhzZv1iUrUKh"
      },
      "source": [
        "Tune batch size"
      ]
    },
    {
      "cell_type": "code",
      "metadata": {
        "id": "F5DvxhRPnvaK",
        "outputId": "b24c8f96-4d1a-4b42-8f51-718835d05652",
        "colab": {
          "base_uri": "https://localhost:8080/"
        }
      },
      "source": [
        "batch_tuner = ModelTuner(params=[{'batch_size': 32},\n",
        "                                 {'batch_size': 64},\n",
        "                                 {'batch_size': 128}\n",
        "                                ])\n",
        "batch_tuner.fit_scores(X_train, y_train, X_test, y_test)"
      ],
      "execution_count": 14,
      "outputs": [
        {
          "output_type": "stream",
          "text": [
            "[Pipeline] ........ (step 1 of 3) Processing preprocess, total=   8.8s\n",
            "[Pipeline] .......... (step 2 of 3) Processing to_dense, total=   0.9s\n",
            "Epoch 1/15\n",
            "3750/3750 [==============================] - 15s 4ms/step - loss: 1.9135 - mean_squared_error: 1.9135\n",
            "Epoch 2/15\n",
            "3750/3750 [==============================] - 13s 4ms/step - loss: 0.7511 - mean_squared_error: 0.7511\n",
            "Epoch 3/15\n",
            "3750/3750 [==============================] - 13s 3ms/step - loss: 0.7383 - mean_squared_error: 0.7383\n",
            "Epoch 4/15\n",
            "3750/3750 [==============================] - 13s 4ms/step - loss: 0.7250 - mean_squared_error: 0.7250\n",
            "Epoch 5/15\n",
            "3750/3750 [==============================] - 14s 4ms/step - loss: 0.7451 - mean_squared_error: 0.7451\n",
            "Epoch 6/15\n",
            "3750/3750 [==============================] - 13s 4ms/step - loss: 0.7472 - mean_squared_error: 0.7472\n",
            "Epoch 7/15\n",
            "3750/3750 [==============================] - 13s 4ms/step - loss: 0.7188 - mean_squared_error: 0.7188\n",
            "Epoch 8/15\n",
            "3750/3750 [==============================] - 14s 4ms/step - loss: 0.7144 - mean_squared_error: 0.7144\n",
            "Epoch 9/15\n",
            "3750/3750 [==============================] - 14s 4ms/step - loss: 0.7049 - mean_squared_error: 0.7049\n",
            "Epoch 10/15\n",
            "3750/3750 [==============================] - 13s 4ms/step - loss: 0.6913 - mean_squared_error: 0.6913\n",
            "Epoch 11/15\n",
            "3750/3750 [==============================] - 13s 4ms/step - loss: 0.7062 - mean_squared_error: 0.7062\n",
            "Epoch 12/15\n",
            "3750/3750 [==============================] - 13s 4ms/step - loss: 0.6707 - mean_squared_error: 0.6707\n",
            "Epoch 13/15\n",
            "3750/3750 [==============================] - 13s 4ms/step - loss: 0.6462 - mean_squared_error: 0.6462\n",
            "Epoch 14/15\n",
            "3750/3750 [==============================] - 14s 4ms/step - loss: 0.6550 - mean_squared_error: 0.6550\n",
            "Epoch 15/15\n",
            "3750/3750 [==============================] - 14s 4ms/step - loss: 0.6412 - mean_squared_error: 0.6412\n",
            "[Pipeline] ................ (step 3 of 3) Processing nn, total= 3.4min\n",
            "3750/3750 [==============================] - 8s 2ms/step\n",
            "938/938 [==============================] - 3s 2ms/step\n",
            "[Pipeline] ........ (step 1 of 3) Processing preprocess, total=   9.2s\n",
            "[Pipeline] .......... (step 2 of 3) Processing to_dense, total=   0.9s\n",
            "Epoch 1/15\n",
            "1875/1875 [==============================] - 9s 4ms/step - loss: 2.3002 - mean_squared_error: 2.3002\n",
            "Epoch 2/15\n",
            "1875/1875 [==============================] - 7s 4ms/step - loss: 0.6940 - mean_squared_error: 0.6940\n",
            "Epoch 3/15\n",
            "1875/1875 [==============================] - 7s 4ms/step - loss: 0.6571 - mean_squared_error: 0.6571\n",
            "Epoch 4/15\n",
            "1875/1875 [==============================] - 7s 4ms/step - loss: 0.6606 - mean_squared_error: 0.6606\n",
            "Epoch 5/15\n",
            "1875/1875 [==============================] - 7s 4ms/step - loss: 0.6535 - mean_squared_error: 0.6535\n",
            "Epoch 6/15\n",
            "1875/1875 [==============================] - 7s 4ms/step - loss: 0.6477 - mean_squared_error: 0.6477\n",
            "Epoch 7/15\n",
            "1875/1875 [==============================] - 7s 4ms/step - loss: 0.6364 - mean_squared_error: 0.6364\n",
            "Epoch 8/15\n",
            "1875/1875 [==============================] - 7s 4ms/step - loss: 0.6251 - mean_squared_error: 0.6251\n",
            "Epoch 9/15\n",
            "1875/1875 [==============================] - 7s 4ms/step - loss: 0.6100 - mean_squared_error: 0.6100\n",
            "Epoch 10/15\n",
            "1875/1875 [==============================] - 7s 4ms/step - loss: 0.5983 - mean_squared_error: 0.5983\n",
            "Epoch 11/15\n",
            "1875/1875 [==============================] - 7s 4ms/step - loss: 0.5757 - mean_squared_error: 0.5757\n",
            "Epoch 12/15\n",
            "1875/1875 [==============================] - 7s 4ms/step - loss: 0.5816 - mean_squared_error: 0.5816\n",
            "Epoch 13/15\n",
            "1875/1875 [==============================] - 7s 4ms/step - loss: 0.5611 - mean_squared_error: 0.5611\n",
            "Epoch 14/15\n",
            "1875/1875 [==============================] - 7s 4ms/step - loss: 0.5544 - mean_squared_error: 0.5544\n",
            "Epoch 15/15\n",
            "1875/1875 [==============================] - 7s 4ms/step - loss: 0.5597 - mean_squared_error: 0.5597\n",
            "[Pipeline] ................ (step 3 of 3) Processing nn, total= 1.8min\n",
            "1875/1875 [==============================] - 4s 2ms/step\n",
            "469/469 [==============================] - 2s 2ms/step\n",
            "[Pipeline] ........ (step 1 of 3) Processing preprocess, total=   8.7s\n",
            "[Pipeline] .......... (step 2 of 3) Processing to_dense, total=   0.9s\n",
            "Epoch 1/15\n",
            "938/938 [==============================] - 6s 5ms/step - loss: 2.5111 - mean_squared_error: 2.5111\n",
            "Epoch 2/15\n",
            "938/938 [==============================] - 4s 5ms/step - loss: 0.8284 - mean_squared_error: 0.8284\n",
            "Epoch 3/15\n",
            "938/938 [==============================] - 4s 5ms/step - loss: 0.6256 - mean_squared_error: 0.6256\n",
            "Epoch 4/15\n",
            "938/938 [==============================] - 4s 5ms/step - loss: 0.5823 - mean_squared_error: 0.5823\n",
            "Epoch 5/15\n",
            "938/938 [==============================] - 4s 5ms/step - loss: 0.5663 - mean_squared_error: 0.5663\n",
            "Epoch 6/15\n",
            "938/938 [==============================] - 4s 5ms/step - loss: 0.5573 - mean_squared_error: 0.5573\n",
            "Epoch 7/15\n",
            "938/938 [==============================] - 4s 5ms/step - loss: 0.5630 - mean_squared_error: 0.5630\n",
            "Epoch 8/15\n",
            "938/938 [==============================] - 4s 5ms/step - loss: 0.5615 - mean_squared_error: 0.5615\n",
            "Epoch 9/15\n",
            "938/938 [==============================] - 4s 5ms/step - loss: 0.5498 - mean_squared_error: 0.5498\n",
            "Epoch 10/15\n",
            "938/938 [==============================] - 4s 5ms/step - loss: 0.5355 - mean_squared_error: 0.5355\n",
            "Epoch 11/15\n",
            "938/938 [==============================] - 5s 5ms/step - loss: 0.5413 - mean_squared_error: 0.5413\n",
            "Epoch 12/15\n",
            "938/938 [==============================] - 5s 5ms/step - loss: 0.5426 - mean_squared_error: 0.5426\n",
            "Epoch 13/15\n",
            "938/938 [==============================] - 5s 5ms/step - loss: 0.5466 - mean_squared_error: 0.5466\n",
            "Epoch 14/15\n",
            "938/938 [==============================] - 4s 5ms/step - loss: 0.5290 - mean_squared_error: 0.5290\n",
            "Epoch 15/15\n",
            "938/938 [==============================] - 4s 5ms/step - loss: 0.5274 - mean_squared_error: 0.5274\n",
            "[Pipeline] ................ (step 3 of 3) Processing nn, total= 1.2min\n",
            "938/938 [==============================] - 3s 3ms/step\n",
            "235/235 [==============================] - 1s 2ms/step\n"
          ],
          "name": "stdout"
        }
      ]
    },
    {
      "cell_type": "code",
      "metadata": {
        "id": "2HDqGuPp2qWD",
        "outputId": "d7d04153-4f1d-466c-80c4-3f23f0557513",
        "colab": {
          "base_uri": "https://localhost:8080/",
          "height": 295
        }
      },
      "source": [
        "batch_tuner.visualize(\"Batch size VS MSE\", \"Batch size\")"
      ],
      "execution_count": 15,
      "outputs": [
        {
          "output_type": "display_data",
          "data": {
            "image/png": "[encoded data removed]",
            "text/plain": [
              "<Figure size 432x288 with 1 Axes>"
            ]
          },
          "metadata": {
            "tags": [],
            "needs_background": "light"
          }
        }
      ]
    },
    {
      "cell_type": "markdown",
      "metadata": {
        "id": "sPXwBTCMARLV"
      },
      "source": [
        "# Fit the model on partial training data and validate"
      ]
    },
    {
      "cell_type": "code",
      "metadata": {
        "id": "5iR5glU1vPdu"
      },
      "source": [
        "from sklearn.metrics import mean_squared_error\n",
        "def model_test(model, X_test, y_test):\n",
        "  y_pred = model.predict(X_test)\n",
        "  score = mean_squared_error(y_test, y_pred)\n",
        "  return score"
      ],
      "execution_count": 10,
      "outputs": []
    },
    {
      "cell_type": "code",
      "metadata": {
        "id": "fgSMr9-eAZqe"
      },
      "source": [
        "pipe = create_model(batch_size=64, num_layer=256, init_lr=0.005)"
      ],
      "execution_count": 11,
      "outputs": []
    },
    {
      "cell_type": "code",
      "metadata": {
        "id": "1ig1M3QzAfdi",
        "outputId": "e77d818c-e706-441e-cb98-453c40902650",
        "colab": {
          "base_uri": "https://localhost:8080/"
        }
      },
      "source": [
        "pipe.fit(X_train, y_train)"
      ],
      "execution_count": 12,
      "outputs": [
        {
          "output_type": "stream",
          "text": [
            "[Pipeline] ........ (step 1 of 3) Processing preprocess, total=   9.1s\n",
            "[Pipeline] .......... (step 2 of 3) Processing to_dense, total=   1.9s\n",
            "Epoch 1/50\n",
            "1875/1875 [==============================] - 9s 4ms/step - loss: 2.2714 - mean_squared_error: 2.2714\n",
            "Epoch 2/50\n",
            "1875/1875 [==============================] - 7s 4ms/step - loss: 0.6920 - mean_squared_error: 0.6920\n",
            "Epoch 3/50\n",
            "1875/1875 [==============================] - 7s 4ms/step - loss: 0.6621 - mean_squared_error: 0.6621\n",
            "Epoch 4/50\n",
            "1875/1875 [==============================] - 7s 4ms/step - loss: 0.6669 - mean_squared_error: 0.6669\n",
            "Epoch 5/50\n",
            "1875/1875 [==============================] - 7s 4ms/step - loss: 0.6635 - mean_squared_error: 0.6635\n",
            "Epoch 6/50\n",
            "1875/1875 [==============================] - 7s 4ms/step - loss: 0.6308 - mean_squared_error: 0.6308\n",
            "Epoch 7/50\n",
            "1875/1875 [==============================] - 7s 4ms/step - loss: 0.6314 - mean_squared_error: 0.6314\n",
            "Epoch 8/50\n",
            "1875/1875 [==============================] - 7s 4ms/step - loss: 0.6229 - mean_squared_error: 0.6229\n",
            "Epoch 9/50\n",
            "1875/1875 [==============================] - 7s 4ms/step - loss: 0.5905 - mean_squared_error: 0.5905\n",
            "Epoch 10/50\n",
            "1875/1875 [==============================] - 7s 4ms/step - loss: 0.5856 - mean_squared_error: 0.5856\n",
            "Epoch 11/50\n",
            "1875/1875 [==============================] - 7s 4ms/step - loss: 0.5709 - mean_squared_error: 0.5709\n",
            "Epoch 12/50\n",
            "1875/1875 [==============================] - 7s 4ms/step - loss: 0.5565 - mean_squared_error: 0.5565\n",
            "Epoch 13/50\n",
            "1875/1875 [==============================] - 7s 4ms/step - loss: 0.5565 - mean_squared_error: 0.5565\n",
            "Epoch 14/50\n",
            "1875/1875 [==============================] - 7s 4ms/step - loss: 0.5372 - mean_squared_error: 0.5372\n",
            "Epoch 15/50\n",
            "1875/1875 [==============================] - 7s 4ms/step - loss: 0.5364 - mean_squared_error: 0.5364\n",
            "Epoch 16/50\n",
            "1875/1875 [==============================] - 7s 4ms/step - loss: 0.5364 - mean_squared_error: 0.5364\n",
            "Epoch 17/50\n",
            "1875/1875 [==============================] - 7s 4ms/step - loss: 0.5171 - mean_squared_error: 0.5171\n",
            "Epoch 18/50\n",
            "1875/1875 [==============================] - 7s 4ms/step - loss: 0.5174 - mean_squared_error: 0.5174\n",
            "Epoch 19/50\n",
            "1875/1875 [==============================] - 7s 4ms/step - loss: 0.5147 - mean_squared_error: 0.5147\n",
            "Epoch 20/50\n",
            "1875/1875 [==============================] - 7s 4ms/step - loss: 0.5080 - mean_squared_error: 0.5080\n",
            "Epoch 21/50\n",
            "1875/1875 [==============================] - 7s 4ms/step - loss: 0.5145 - mean_squared_error: 0.5145\n",
            "Epoch 22/50\n",
            "1875/1875 [==============================] - 7s 4ms/step - loss: 0.4871 - mean_squared_error: 0.4871\n",
            "Epoch 23/50\n",
            "1875/1875 [==============================] - 7s 4ms/step - loss: 0.4913 - mean_squared_error: 0.4913\n",
            "Epoch 24/50\n",
            "1875/1875 [==============================] - 7s 4ms/step - loss: 0.4824 - mean_squared_error: 0.4824\n",
            "Epoch 25/50\n",
            "1875/1875 [==============================] - 7s 4ms/step - loss: 0.4856 - mean_squared_error: 0.4856\n",
            "Epoch 26/50\n",
            "1875/1875 [==============================] - 7s 4ms/step - loss: 0.4675 - mean_squared_error: 0.4675\n",
            "Epoch 27/50\n",
            "1875/1875 [==============================] - 7s 4ms/step - loss: 0.4687 - mean_squared_error: 0.4687\n",
            "Epoch 28/50\n",
            "1875/1875 [==============================] - 7s 4ms/step - loss: 0.4702 - mean_squared_error: 0.4702\n",
            "Epoch 29/50\n",
            "1875/1875 [==============================] - 7s 4ms/step - loss: 0.4691 - mean_squared_error: 0.4691\n",
            "Epoch 30/50\n",
            "1875/1875 [==============================] - 7s 4ms/step - loss: 0.4619 - mean_squared_error: 0.4619\n",
            "Epoch 31/50\n",
            "1875/1875 [==============================] - 7s 4ms/step - loss: 0.4630 - mean_squared_error: 0.4630\n",
            "Epoch 32/50\n",
            "1875/1875 [==============================] - 7s 4ms/step - loss: 0.4535 - mean_squared_error: 0.4535\n",
            "Epoch 33/50\n",
            "1875/1875 [==============================] - 7s 4ms/step - loss: 0.4573 - mean_squared_error: 0.4573\n",
            "Epoch 34/50\n",
            "1875/1875 [==============================] - 7s 4ms/step - loss: 0.4474 - mean_squared_error: 0.4474\n",
            "Epoch 35/50\n",
            "1875/1875 [==============================] - 7s 4ms/step - loss: 0.4481 - mean_squared_error: 0.4481\n",
            "Epoch 36/50\n",
            "1875/1875 [==============================] - 7s 4ms/step - loss: 0.4389 - mean_squared_error: 0.4389\n",
            "Epoch 37/50\n",
            "1875/1875 [==============================] - 7s 4ms/step - loss: 0.4402 - mean_squared_error: 0.4402\n",
            "Epoch 38/50\n",
            "1875/1875 [==============================] - 7s 4ms/step - loss: 0.4342 - mean_squared_error: 0.4342\n",
            "Epoch 39/50\n",
            "1875/1875 [==============================] - 7s 4ms/step - loss: 0.4356 - mean_squared_error: 0.4356\n",
            "Epoch 40/50\n",
            "1875/1875 [==============================] - 7s 4ms/step - loss: 0.4304 - mean_squared_error: 0.4304\n",
            "Epoch 41/50\n",
            "1875/1875 [==============================] - 7s 4ms/step - loss: 0.4326 - mean_squared_error: 0.4326\n",
            "Epoch 42/50\n",
            "1875/1875 [==============================] - 7s 4ms/step - loss: 0.4254 - mean_squared_error: 0.4254\n",
            "Epoch 43/50\n",
            "1875/1875 [==============================] - 7s 4ms/step - loss: 0.4271 - mean_squared_error: 0.4271\n",
            "Epoch 44/50\n",
            "1875/1875 [==============================] - 7s 4ms/step - loss: 0.4119 - mean_squared_error: 0.4119\n",
            "Epoch 45/50\n",
            "1875/1875 [==============================] - 7s 4ms/step - loss: 0.4147 - mean_squared_error: 0.4147\n",
            "Epoch 46/50\n",
            "1875/1875 [==============================] - 7s 4ms/step - loss: 0.4084 - mean_squared_error: 0.4084\n",
            "Epoch 47/50\n",
            "1875/1875 [==============================] - 7s 4ms/step - loss: 0.4121 - mean_squared_error: 0.4121\n",
            "Epoch 48/50\n",
            "1875/1875 [==============================] - 7s 4ms/step - loss: 0.4003 - mean_squared_error: 0.4003\n",
            "Epoch 49/50\n",
            "1875/1875 [==============================] - 7s 4ms/step - loss: 0.4082 - mean_squared_error: 0.4082\n",
            "Epoch 50/50\n",
            "1875/1875 [==============================] - 7s 4ms/step - loss: 0.4096 - mean_squared_error: 0.4096\n",
            "[Pipeline] ................ (step 3 of 3) Processing nn, total= 5.8min\n"
          ],
          "name": "stdout"
        },
        {
          "output_type": "execute_result",
          "data": {
            "text/plain": [
              "Pipeline(memory=None,\n",
              "         steps=[('preprocess',\n",
              "                 ColumnTransformer(n_jobs=None, remainder='passthrough',\n",
              "                                   sparse_threshold=0.3,\n",
              "                                   transformer_weights=None,\n",
              "                                   transformers=[('price_std',\n",
              "                                                  StandardScaler(copy=True,\n",
              "                                                                 with_mean=True,\n",
              "                                                                 with_std=True),\n",
              "                                                  ['price']),\n",
              "                                                 ('summary_count_vec',\n",
              "                                                  Pipeline(memory=None,\n",
              "                                                           steps=[('vect',\n",
              "                                                                   TfidfVectorizer(analyzer='word',\n",
              "                                                                                   binary=False,\n",
              "                                                                                   decode_error=...\n",
              "                                                                                   tokenizer=None,\n",
              "                                                                                   use_idf=True,\n",
              "                                                                                   vocabulary=None)),\n",
              "                                                                  ('select',\n",
              "                                                                   SelectKBest(k=2000,\n",
              "                                                                               score_func=<function chi2 at 0x7fb7d73250e0>))],\n",
              "                                                           verbose=False),\n",
              "                                                  'important_features(clean)')],\n",
              "                                   verbose=False)),\n",
              "                ('to_dense',\n",
              "                 <__main__.DenseTransformer object at 0x7fb7d0cad190>),\n",
              "                ('nn',\n",
              "                 <tensorflow.python.keras.wrappers.scikit_learn.KerasRegressor object at 0x7fb7d0cad5d0>)],\n",
              "         verbose=True)"
            ]
          },
          "metadata": {
            "tags": []
          },
          "execution_count": 12
        }
      ]
    },
    {
      "cell_type": "markdown",
      "metadata": {
        "id": "p-1wY5OuHbzL"
      },
      "source": [
        "As we can see, the model is still a bit overfitted although we already did feature selection, learning rate decay and hyperparameter tuning."
      ]
    },
    {
      "cell_type": "code",
      "metadata": {
        "id": "891dzu0vAj7D",
        "outputId": "81419dda-5f66-46fa-fd39-2b26eb28364e",
        "colab": {
          "base_uri": "https://localhost:8080/"
        }
      },
      "source": [
        "train_score = model_test(pipe, X_train, y_train)\n",
        "test_score = model_test(pipe, X_test, y_test)\n",
        "print(f\"Training MSE: {train_score}\")\n",
        "print(f'Testing MSE: {test_score}')"
      ],
      "execution_count": 13,
      "outputs": [
        {
          "output_type": "stream",
          "text": [
            "1875/1875 [==============================] - 4s 2ms/step\n",
            "469/469 [==============================] - 2s 3ms/step\n",
            "Training MSE: 0.3104792462611851\n",
            "Testing MSE: 0.46910162884452317\n"
          ],
          "name": "stdout"
        }
      ]
    },
    {
      "cell_type": "markdown",
      "metadata": {
        "id": "Q_bz2tmSA8S4"
      },
      "source": [
        "# Fit the model on all training data"
      ]
    },
    {
      "cell_type": "markdown",
      "metadata": {
        "id": "OL8cSFpw88dT"
      },
      "source": [
        "Train the model using all data with best hyperparameters:\n",
        "batch_size=64, num_layer=256, init_lr=0.005"
      ]
    },
    {
      "cell_type": "code",
      "metadata": {
        "id": "ALuSCen8mLOr"
      },
      "source": [
        "pipe = create_model(batch_size=64, num_layer=256, init_lr=0.005)"
      ],
      "execution_count": 14,
      "outputs": []
    },
    {
      "cell_type": "code",
      "metadata": {
        "colab": {
          "base_uri": "https://localhost:8080/"
        },
        "id": "BD4SC0_41jCb",
        "outputId": "137f8fd1-c7a4-4b83-8ef3-9717963985ee"
      },
      "source": [
        "import numpy as np\n",
        "pipe.fit(X, y)\n",
        "predictions = pipe.predict(test_data)\n",
        "# clip the data between the range of the reviews\n",
        "predictions = np.clip(predictions, a_min=1.0, a_max=5.0)"
      ],
      "execution_count": 16,
      "outputs": [
        {
          "output_type": "stream",
          "text": [
            "[Pipeline] ........ (step 1 of 3) Processing preprocess, total=  11.3s\n",
            "[Pipeline] .......... (step 2 of 3) Processing to_dense, total=   1.2s\n",
            "Epoch 1/50\n",
            "2344/2344 [==============================] - 12s 4ms/step - loss: 2.0779 - mean_squared_error: 2.0779\n",
            "Epoch 2/50\n",
            "2344/2344 [==============================] - 10s 4ms/step - loss: 0.6724 - mean_squared_error: 0.6724\n",
            "Epoch 3/50\n",
            "2344/2344 [==============================] - 10s 4ms/step - loss: 0.6579 - mean_squared_error: 0.6579\n",
            "Epoch 4/50\n",
            "2344/2344 [==============================] - 10s 4ms/step - loss: 0.6694 - mean_squared_error: 0.6694\n",
            "Epoch 5/50\n",
            "2344/2344 [==============================] - 10s 4ms/step - loss: 0.6561 - mean_squared_error: 0.6561\n",
            "Epoch 6/50\n",
            "2344/2344 [==============================] - 10s 4ms/step - loss: 0.6501 - mean_squared_error: 0.6501\n",
            "Epoch 7/50\n",
            "2344/2344 [==============================] - 10s 4ms/step - loss: 0.6364 - mean_squared_error: 0.6364\n",
            "Epoch 8/50\n",
            "2344/2344 [==============================] - 10s 4ms/step - loss: 0.6254 - mean_squared_error: 0.6254\n",
            "Epoch 9/50\n",
            "2344/2344 [==============================] - 10s 4ms/step - loss: 0.6124 - mean_squared_error: 0.6124\n",
            "Epoch 10/50\n",
            "2344/2344 [==============================] - 10s 4ms/step - loss: 0.5913 - mean_squared_error: 0.5913\n",
            "Epoch 11/50\n",
            "2344/2344 [==============================] - 10s 4ms/step - loss: 0.5772 - mean_squared_error: 0.5772\n",
            "Epoch 12/50\n",
            "2344/2344 [==============================] - 10s 4ms/step - loss: 0.5675 - mean_squared_error: 0.5675\n",
            "Epoch 13/50\n",
            "2344/2344 [==============================] - 10s 4ms/step - loss: 0.5509 - mean_squared_error: 0.5509\n",
            "Epoch 14/50\n",
            "2344/2344 [==============================] - 10s 4ms/step - loss: 0.5449 - mean_squared_error: 0.5449\n",
            "Epoch 15/50\n",
            "2344/2344 [==============================] - 10s 4ms/step - loss: 0.5421 - mean_squared_error: 0.5421\n",
            "Epoch 16/50\n",
            "2344/2344 [==============================] - 10s 4ms/step - loss: 0.5279 - mean_squared_error: 0.5279\n",
            "Epoch 17/50\n",
            "2344/2344 [==============================] - 10s 4ms/step - loss: 0.5228 - mean_squared_error: 0.5228\n",
            "Epoch 18/50\n",
            "2344/2344 [==============================] - 10s 4ms/step - loss: 0.5286 - mean_squared_error: 0.5286\n",
            "Epoch 19/50\n",
            "2344/2344 [==============================] - 10s 4ms/step - loss: 0.5065 - mean_squared_error: 0.5065\n",
            "Epoch 20/50\n",
            "2344/2344 [==============================] - 10s 4ms/step - loss: 0.5394 - mean_squared_error: 0.5394\n",
            "Epoch 21/50\n",
            "2344/2344 [==============================] - 10s 4ms/step - loss: 0.5072 - mean_squared_error: 0.5072\n",
            "Epoch 22/50\n",
            "2344/2344 [==============================] - 10s 4ms/step - loss: 0.4997 - mean_squared_error: 0.4997\n",
            "Epoch 23/50\n",
            "2344/2344 [==============================] - 10s 4ms/step - loss: 0.4906 - mean_squared_error: 0.4906\n",
            "Epoch 24/50\n",
            "2344/2344 [==============================] - 10s 4ms/step - loss: 0.4808 - mean_squared_error: 0.4808\n",
            "Epoch 25/50\n",
            "2344/2344 [==============================] - 10s 4ms/step - loss: 0.4814 - mean_squared_error: 0.4814\n",
            "Epoch 26/50\n",
            "2344/2344 [==============================] - 10s 4ms/step - loss: 0.4756 - mean_squared_error: 0.4756\n",
            "Epoch 27/50\n",
            "2344/2344 [==============================] - 10s 4ms/step - loss: 0.4715 - mean_squared_error: 0.4715\n",
            "Epoch 28/50\n",
            "2344/2344 [==============================] - 10s 4ms/step - loss: 0.4687 - mean_squared_error: 0.4687\n",
            "Epoch 29/50\n",
            "2344/2344 [==============================] - 10s 4ms/step - loss: 0.4618 - mean_squared_error: 0.4618\n",
            "Epoch 30/50\n",
            "2344/2344 [==============================] - 10s 4ms/step - loss: 0.4570 - mean_squared_error: 0.4570\n",
            "Epoch 31/50\n",
            "2344/2344 [==============================] - 10s 4ms/step - loss: 0.4582 - mean_squared_error: 0.4582\n",
            "Epoch 32/50\n",
            "2344/2344 [==============================] - 10s 4ms/step - loss: 0.4602 - mean_squared_error: 0.4602\n",
            "Epoch 33/50\n",
            "2344/2344 [==============================] - 10s 4ms/step - loss: 0.4455 - mean_squared_error: 0.4455\n",
            "Epoch 34/50\n",
            "2344/2344 [==============================] - 10s 4ms/step - loss: 0.4464 - mean_squared_error: 0.4464\n",
            "Epoch 35/50\n",
            "2344/2344 [==============================] - 10s 4ms/step - loss: 0.4371 - mean_squared_error: 0.4371\n",
            "Epoch 36/50\n",
            "2344/2344 [==============================] - 10s 4ms/step - loss: 0.4398 - mean_squared_error: 0.4398\n",
            "Epoch 37/50\n",
            "2344/2344 [==============================] - 11s 5ms/step - loss: 0.4327 - mean_squared_error: 0.4327\n",
            "Epoch 38/50\n",
            "2344/2344 [==============================] - 10s 4ms/step - loss: 0.4288 - mean_squared_error: 0.4288\n",
            "Epoch 39/50\n",
            "2344/2344 [==============================] - 10s 4ms/step - loss: 0.4201 - mean_squared_error: 0.4201\n",
            "Epoch 40/50\n",
            "2344/2344 [==============================] - 10s 4ms/step - loss: 0.4228 - mean_squared_error: 0.4228\n",
            "Epoch 41/50\n",
            "2344/2344 [==============================] - 10s 4ms/step - loss: 0.4238 - mean_squared_error: 0.4238\n",
            "Epoch 42/50\n",
            "2344/2344 [==============================] - 10s 4ms/step - loss: 0.4220 - mean_squared_error: 0.4220\n",
            "Epoch 43/50\n",
            "2344/2344 [==============================] - 10s 4ms/step - loss: 0.4138 - mean_squared_error: 0.4138\n",
            "Epoch 44/50\n",
            "2344/2344 [==============================] - 10s 4ms/step - loss: 0.4131 - mean_squared_error: 0.4131\n",
            "Epoch 45/50\n",
            "2344/2344 [==============================] - 10s 4ms/step - loss: 0.4070 - mean_squared_error: 0.4070\n",
            "Epoch 46/50\n",
            "2344/2344 [==============================] - 10s 4ms/step - loss: 0.4120 - mean_squared_error: 0.4120\n",
            "Epoch 47/50\n",
            "2344/2344 [==============================] - 10s 4ms/step - loss: 0.4060 - mean_squared_error: 0.4060\n",
            "Epoch 48/50\n",
            "2344/2344 [==============================] - 10s 4ms/step - loss: 0.4037 - mean_squared_error: 0.4037\n",
            "Epoch 49/50\n",
            "2344/2344 [==============================] - 10s 4ms/step - loss: 0.4004 - mean_squared_error: 0.4004\n",
            "Epoch 50/50\n",
            "2344/2344 [==============================] - 10s 4ms/step - loss: 0.4010 - mean_squared_error: 0.4010\n",
            "[Pipeline] ................ (step 3 of 3) Processing nn, total= 8.4min\n",
            "313/313 [==============================] - 1s 2ms/step\n"
          ],
          "name": "stdout"
        }
      ]
    },
    {
      "cell_type": "code",
      "metadata": {
        "colab": {
          "base_uri": "https://localhost:8080/"
        },
        "id": "0ofBzn1stM_o",
        "outputId": "1bcf6c21-0daa-407b-cbfa-75d782277f6b"
      },
      "source": [
        "score = model_test(pipe, X, y)\n",
        "print(f\"Training MSE: {score}\")"
      ],
      "execution_count": 18,
      "outputs": [
        {
          "output_type": "stream",
          "text": [
            "2344/2344 [==============================] - 5s 2ms/step\n",
            "Training MSE: 0.3195194428121786\n"
          ],
          "name": "stdout"
        }
      ]
    },
    {
      "cell_type": "code",
      "metadata": {
        "id": "y53kjXmPzDV2"
      },
      "source": [
        "def export_to_kaggle(rating_pairs_path, predictions, export_path):\n",
        "  rating_pairs = pd.read_csv(rating_pairs_path)\n",
        "  rating_pairs['prediction'] = predictions\n",
        "  rating_pairs.to_csv(export_path, index=False)"
      ],
      "execution_count": 19,
      "outputs": []
    },
    {
      "cell_type": "code",
      "metadata": {
        "id": "w6x6x947zohJ"
      },
      "source": [
        "export_to_kaggle(rating_pairs_path, predictions, rating_pred_export_path)"
      ],
      "execution_count": 20,
      "outputs": []
    }
  ]
}