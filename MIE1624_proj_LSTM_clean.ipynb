{
  "nbformat": 4,
  "nbformat_minor": 0,
  "metadata": {
    "colab": {
      "name": "MIE1624_proj_LSTM.ipynb",
      "provenance": [],
      "collapsed_sections": [],
      "toc_visible": true,
      "machine_shape": "hm",
      "mount_file_id": "1tfVIEKidRbuXtS6xZ8Ro-yQHkRPRj8tg",
      "authorship_tag": "ABX9TyPbMOed+imUK/9XkbRztfWb",
      "include_colab_link": true
    },
    "kernelspec": {
      "name": "python3",
      "display_name": "Python 3"
    },
    "language_info": {
      "name": "python"
    },
    "accelerator": "GPU"
  },
  "cells": [
    {
      "cell_type": "markdown",
      "metadata": {
        "id": "view-in-github",
        "colab_type": "text"
      },
      "source": [
        "<a href=\"https://colab.research.google.com/github/jackychencw/MIE1624_Course_Project_Group19/blob/Lawrence-nlp-preprocess/MIE1624_proj_LSTM_clean.ipynb\" target=\"_parent\"><img src=\"https://colab.research.google.com/assets/colab-badge.svg\" alt=\"Open In Colab\"/></a>"
      ]
    },
    {
      "cell_type": "code",
      "metadata": {
        "colab": {
          "base_uri": "https://localhost:8080/"
        },
        "id": "Cv6LKYOsL4Y5",
        "outputId": "a95fe163-e685-4387-8115-46e263cd6399"
      },
      "source": [
        "import pandas as pd\n",
        "import tensorflow as tf\n",
        "import pickle\n",
        "\n",
        "from tensorflow.keras.callbacks import EarlyStopping\n",
        "from keras.models import Sequential\n",
        "from keras.layers import Dense, Dropout, LSTM, Reshape\n",
        "from keras.wrappers.scikit_learn import KerasRegressor\n",
        "from keras.optimizers.schedules import ExponentialDecay\n",
        "from keras.optimizers import Adam\n",
        "\n",
        "from sklearn.feature_extraction.text import TfidfVectorizer\n",
        "from sklearn.model_selection import train_test_split, KFold\n",
        "from sklearn.preprocessing import LabelEncoder\n",
        "from sklearn.pipeline import Pipeline\n",
        "from sklearn.model_selection import GridSearchCV\n",
        "from sklearn.preprocessing import StandardScaler\n",
        "from sklearn.feature_selection import SelectKBest, chi2\n",
        "from sklearn.compose import ColumnTransformer\n",
        "from sklearn.base import TransformerMixin\n",
        "\n",
        "from joblib import dump, load\n",
        "\n",
        "from google.colab import drive\n",
        "\n",
        "drive.mount('/content/drive')\n",
        "\n",
        "data = pd.read_csv(\"/content/drive/MyDrive/Colab Notebooks/data/jacky_train_data.csv\", index_col=0)\n",
        "test_data = pd.read_csv(\"/content/drive/MyDrive/Colab Notebooks/data/jacky_test_data.csv\", index_col=0)"
      ],
      "execution_count": 1,
      "outputs": [
        {
          "output_type": "stream",
          "text": [
            "Mounted at /content/drive\n"
          ],
          "name": "stdout"
        }
      ]
    },
    {
      "cell_type": "markdown",
      "metadata": {
        "id": "4TFJupZWAIOn"
      },
      "source": [
        "# Data preprocess"
      ]
    },
    {
      "cell_type": "code",
      "metadata": {
        "id": "7Yzx0taL-ERJ"
      },
      "source": [
        "def clean_data(data):\n",
        "  data = data.drop(columns=[\n",
        "                   'reviewerID', 'reviewText', 'unixReviewTime', 'itemID', 'reviewHash', 'important_features'])\n",
        "  data['reviewTime'] = data.reviewTime.apply(lambda _: int(_[-4:]))\n",
        "  dummy_years = pd.get_dummies(data.reviewTime, prefix='year')\n",
        "  data = pd.concat([data, dummy_years], axis=1)\n",
        "  data = data.drop(columns=['reviewTime'])\n",
        "  return data"
      ],
      "execution_count": 2,
      "outputs": []
    },
    {
      "cell_type": "code",
      "metadata": {
        "id": "Nvyfywti-qJS"
      },
      "source": [
        "data = clean_data(data)\n",
        "test_data = clean_data(test_data)\n"
      ],
      "execution_count": 3,
      "outputs": []
    },
    {
      "cell_type": "markdown",
      "metadata": {
        "id": "pvpoznQiAO-l"
      },
      "source": [
        "# Split training data into training set and validation set"
      ]
    },
    {
      "cell_type": "code",
      "metadata": {
        "id": "N1oPxSqQtX20"
      },
      "source": [
        "saved_features = 2000 # max feature\n",
        "\n",
        "y = data.overall\n",
        "X = data.drop(columns=['overall'])\n",
        "X_train, X_test, y_train, y_test = train_test_split(X, y, test_size=0.2, random_state=42)\n"
      ],
      "execution_count": 4,
      "outputs": []
    },
    {
      "cell_type": "code",
      "metadata": {
        "id": "2JNLo3iY-_lb"
      },
      "source": [
        "test_data = test_data.reindex(columns=X.columns)"
      ],
      "execution_count": 5,
      "outputs": []
    },
    {
      "cell_type": "markdown",
      "metadata": {
        "id": "ACgVKCtNAZGx"
      },
      "source": [
        "# Model"
      ]
    },
    {
      "cell_type": "code",
      "metadata": {
        "id": "HzLdz_CkP-nW"
      },
      "source": [
        "class DenseTransformer(TransformerMixin):\n",
        "\n",
        "    def fit(self, X, y=None, **fit_params):\n",
        "        return self\n",
        "\n",
        "    def transform(self, X, y=None, **fit_params):\n",
        "        return X.todense()\n",
        "        \n",
        "\n",
        "# 0.46 - Kaggle 0.45014\n",
        "def baseline_model(\n",
        "    num_layer=256,\n",
        "    init_lr=0.005,\n",
        "    decay_rate=0.95,\n",
        "    decay_steps=3000,\n",
        "    drop_out=0.75,\n",
        "    loss_func='mse',\n",
        "    metrics = [tf.keras.losses.MSE]\n",
        "    ):\n",
        "  model = tf.keras.Sequential([\n",
        "    Reshape(target_shape=(1,-1)),\n",
        "    LSTM(num_layer),\n",
        "    Dropout(drop_out),\n",
        "    Dense(num_layer*2, kernel_initializer='normal', activation='relu'),\n",
        "    Dropout(drop_out),\n",
        "    Dense(num_layer, kernel_initializer='normal', activation='relu'),\n",
        "    Dropout(drop_out),\n",
        "    Dense(num_layer/2, kernel_initializer='normal', activation='relu'),\n",
        "    Dropout(drop_out),\n",
        "    Dense(1, kernel_initializer='normal', activation='relu')\n",
        "  ])\n",
        "  lr_schedule = ExponentialDecay(\n",
        "      initial_learning_rate=init_lr,\n",
        "      decay_steps=decay_steps,\n",
        "      decay_rate=decay_rate,\n",
        "      staircase=True)\n",
        "\n",
        "  opt = Adam(learning_rate=lr_schedule)\n",
        "  model.compile(loss=loss_func, optimizer=opt, metrics=metrics)\n",
        "  return model\n",
        "\n",
        "vectorizers = {\n",
        "    'tfidf': TfidfVectorizer(),\n",
        "    }\n",
        "\n"
      ],
      "execution_count": 7,
      "outputs": []
    },
    {
      "cell_type": "code",
      "metadata": {
        "id": "ALuSCen8mLOr"
      },
      "source": [
        "summary_pipe = Pipeline([\n",
        "                        ('vect', TfidfVectorizer()),\n",
        "                        ('select', SelectKBest(chi2, k=saved_features))\n",
        "                        ])\n",
        "\n",
        "review_pipe = Pipeline([('vect', TfidfVectorizer()),\n",
        "                        ('select', SelectKBest(chi2, k=saved_features))\n",
        "                              ])\n",
        "\n",
        "preprocess = ColumnTransformer([\n",
        "                              ('price_std', StandardScaler(), ['price']),\n",
        "                              ('summary_count_vec', summary_pipe, 'summary'),\n",
        "                              ('review_tfidf', review_pipe, 'important_features(clean)')\n",
        "                              ], remainder = 'passthrough')\n",
        "model = KerasRegressor(baseline_model, epochs=50, batch_size=64, verbose=True)\n",
        "pipe = Pipeline([('preprocess', preprocess),\n",
        "                  ('to_dense', DenseTransformer()),\n",
        "                  ('nn', model)], verbose=True)"
      ],
      "execution_count": 8,
      "outputs": []
    },
    {
      "cell_type": "code",
      "metadata": {
        "colab": {
          "base_uri": "https://localhost:8080/"
        },
        "id": "CQVZFc46BJ8z",
        "outputId": "db943497-2756-4187-8dba-39b4365319ce"
      },
      "source": [
        "pipe.fit(X_train, y_train)"
      ],
      "execution_count": 9,
      "outputs": [
        {
          "output_type": "stream",
          "text": [
            "[Pipeline] ........ (step 1 of 3) Processing preprocess, total=   9.3s\n",
            "[Pipeline] .......... (step 2 of 3) Processing to_dense, total=   1.9s\n",
            "Epoch 1/50\n",
            "1875/1875 [==============================] - 25s 4ms/step - loss: 2.1282 - mean_squared_error: 2.1282\n",
            "Epoch 2/50\n",
            "1875/1875 [==============================] - 7s 4ms/step - loss: 0.7008 - mean_squared_error: 0.7008\n",
            "Epoch 3/50\n",
            "1875/1875 [==============================] - 7s 4ms/step - loss: 0.6716 - mean_squared_error: 0.6716\n",
            "Epoch 4/50\n",
            "1875/1875 [==============================] - 8s 4ms/step - loss: 0.6809 - mean_squared_error: 0.6809\n",
            "Epoch 5/50\n",
            "1875/1875 [==============================] - 8s 4ms/step - loss: 0.6646 - mean_squared_error: 0.6646\n",
            "Epoch 6/50\n",
            "1875/1875 [==============================] - 8s 4ms/step - loss: 0.6417 - mean_squared_error: 0.6417\n",
            "Epoch 7/50\n",
            "1875/1875 [==============================] - 8s 4ms/step - loss: 0.6269 - mean_squared_error: 0.6269\n",
            "Epoch 8/50\n",
            "1875/1875 [==============================] - 8s 4ms/step - loss: 0.6017 - mean_squared_error: 0.6017\n",
            "Epoch 9/50\n",
            "1875/1875 [==============================] - 7s 4ms/step - loss: 0.5984 - mean_squared_error: 0.5984\n",
            "Epoch 10/50\n",
            "1875/1875 [==============================] - 8s 4ms/step - loss: 0.5918 - mean_squared_error: 0.5918\n",
            "Epoch 11/50\n",
            "1875/1875 [==============================] - 8s 4ms/step - loss: 0.5762 - mean_squared_error: 0.5762\n",
            "Epoch 12/50\n",
            "1875/1875 [==============================] - 8s 4ms/step - loss: 0.5728 - mean_squared_error: 0.5728\n",
            "Epoch 13/50\n",
            "1875/1875 [==============================] - 7s 4ms/step - loss: 0.5584 - mean_squared_error: 0.5584\n",
            "Epoch 14/50\n",
            "1875/1875 [==============================] - 7s 4ms/step - loss: 0.5490 - mean_squared_error: 0.5490\n",
            "Epoch 15/50\n",
            "1875/1875 [==============================] - 7s 4ms/step - loss: 0.5538 - mean_squared_error: 0.5538\n",
            "Epoch 16/50\n",
            "1875/1875 [==============================] - 8s 4ms/step - loss: 0.5429 - mean_squared_error: 0.5429\n",
            "Epoch 17/50\n",
            "1875/1875 [==============================] - 7s 4ms/step - loss: 0.5373 - mean_squared_error: 0.5373\n",
            "Epoch 18/50\n",
            "1875/1875 [==============================] - 8s 4ms/step - loss: 0.5341 - mean_squared_error: 0.5341\n",
            "Epoch 19/50\n",
            "1875/1875 [==============================] - 7s 4ms/step - loss: 0.5199 - mean_squared_error: 0.5199\n",
            "Epoch 20/50\n",
            "1875/1875 [==============================] - 7s 4ms/step - loss: 0.5163 - mean_squared_error: 0.5163\n",
            "Epoch 21/50\n",
            "1875/1875 [==============================] - 7s 4ms/step - loss: 0.5056 - mean_squared_error: 0.5056\n",
            "Epoch 22/50\n",
            "1875/1875 [==============================] - 7s 4ms/step - loss: 0.5068 - mean_squared_error: 0.5068\n",
            "Epoch 23/50\n",
            "1875/1875 [==============================] - 7s 4ms/step - loss: 0.5024 - mean_squared_error: 0.5024\n",
            "Epoch 24/50\n",
            "1875/1875 [==============================] - 8s 4ms/step - loss: 0.5079 - mean_squared_error: 0.5079\n",
            "Epoch 25/50\n",
            "1875/1875 [==============================] - 8s 4ms/step - loss: 0.5047 - mean_squared_error: 0.5047\n",
            "Epoch 26/50\n",
            "1875/1875 [==============================] - 7s 4ms/step - loss: 0.4977 - mean_squared_error: 0.4977\n",
            "Epoch 27/50\n",
            "1875/1875 [==============================] - 7s 4ms/step - loss: 0.4818 - mean_squared_error: 0.4818\n",
            "Epoch 28/50\n",
            "1875/1875 [==============================] - 7s 4ms/step - loss: 0.4890 - mean_squared_error: 0.4890\n",
            "Epoch 29/50\n",
            "1875/1875 [==============================] - 7s 4ms/step - loss: 0.4904 - mean_squared_error: 0.4904\n",
            "Epoch 30/50\n",
            "1875/1875 [==============================] - 7s 4ms/step - loss: 0.4876 - mean_squared_error: 0.4876\n",
            "Epoch 31/50\n",
            "1875/1875 [==============================] - 7s 4ms/step - loss: 0.4787 - mean_squared_error: 0.4787\n",
            "Epoch 32/50\n",
            "1875/1875 [==============================] - 8s 4ms/step - loss: 0.4720 - mean_squared_error: 0.4720\n",
            "Epoch 33/50\n",
            "1875/1875 [==============================] - 8s 4ms/step - loss: 0.4650 - mean_squared_error: 0.4650\n",
            "Epoch 34/50\n",
            "1875/1875 [==============================] - 8s 4ms/step - loss: 0.4759 - mean_squared_error: 0.4759\n",
            "Epoch 35/50\n",
            "1875/1875 [==============================] - 8s 4ms/step - loss: 0.4712 - mean_squared_error: 0.4712\n",
            "Epoch 36/50\n",
            "1875/1875 [==============================] - 8s 4ms/step - loss: 0.4588 - mean_squared_error: 0.4588\n",
            "Epoch 37/50\n",
            "1875/1875 [==============================] - 8s 4ms/step - loss: 0.4708 - mean_squared_error: 0.4708\n",
            "Epoch 38/50\n",
            "1875/1875 [==============================] - 7s 4ms/step - loss: 0.4555 - mean_squared_error: 0.4555\n",
            "Epoch 39/50\n",
            "1875/1875 [==============================] - 7s 4ms/step - loss: 0.4531 - mean_squared_error: 0.4531\n",
            "Epoch 40/50\n",
            "1875/1875 [==============================] - 8s 4ms/step - loss: 0.4559 - mean_squared_error: 0.4559\n",
            "Epoch 41/50\n",
            "1875/1875 [==============================] - 7s 4ms/step - loss: 0.4572 - mean_squared_error: 0.4572\n",
            "Epoch 42/50\n",
            "1875/1875 [==============================] - 7s 4ms/step - loss: 0.4449 - mean_squared_error: 0.4449\n",
            "Epoch 43/50\n",
            "1875/1875 [==============================] - 8s 4ms/step - loss: 0.4450 - mean_squared_error: 0.4450\n",
            "Epoch 44/50\n",
            "1875/1875 [==============================] - 7s 4ms/step - loss: 0.4376 - mean_squared_error: 0.4376\n",
            "Epoch 45/50\n",
            "1875/1875 [==============================] - 7s 4ms/step - loss: 0.4323 - mean_squared_error: 0.4323\n",
            "Epoch 46/50\n",
            "1875/1875 [==============================] - 7s 4ms/step - loss: 0.4324 - mean_squared_error: 0.4324\n",
            "Epoch 47/50\n",
            "1875/1875 [==============================] - 7s 4ms/step - loss: 0.4291 - mean_squared_error: 0.4291\n",
            "Epoch 48/50\n",
            "1875/1875 [==============================] - 7s 4ms/step - loss: 0.4367 - mean_squared_error: 0.4367\n",
            "Epoch 49/50\n",
            "1875/1875 [==============================] - 7s 4ms/step - loss: 0.4328 - mean_squared_error: 0.4328\n",
            "Epoch 50/50\n",
            "1875/1875 [==============================] - 7s 4ms/step - loss: 0.4194 - mean_squared_error: 0.4194\n",
            "[Pipeline] ................ (step 3 of 3) Processing nn, total= 6.6min\n"
          ],
          "name": "stdout"
        },
        {
          "output_type": "execute_result",
          "data": {
            "text/plain": [
              "Pipeline(memory=None,\n",
              "         steps=[('preprocess',\n",
              "                 ColumnTransformer(n_jobs=None, remainder='passthrough',\n",
              "                                   sparse_threshold=0.3,\n",
              "                                   transformer_weights=None,\n",
              "                                   transformers=[('price_std',\n",
              "                                                  StandardScaler(copy=True,\n",
              "                                                                 with_mean=True,\n",
              "                                                                 with_std=True),\n",
              "                                                  ['price']),\n",
              "                                                 ('summary_count_vec',\n",
              "                                                  Pipeline(memory=None,\n",
              "                                                           steps=[('vect',\n",
              "                                                                   TfidfVectorizer(analyzer='word',\n",
              "                                                                                   binary=False,\n",
              "                                                                                   decode_error=...\n",
              "                                                                                   tokenizer=None,\n",
              "                                                                                   use_idf=True,\n",
              "                                                                                   vocabulary=None)),\n",
              "                                                                  ('select',\n",
              "                                                                   SelectKBest(k=2000,\n",
              "                                                                               score_func=<function chi2 at 0x7f54920ed320>))],\n",
              "                                                           verbose=False),\n",
              "                                                  'important_features(clean)')],\n",
              "                                   verbose=False)),\n",
              "                ('to_dense',\n",
              "                 <__main__.DenseTransformer object at 0x7f548bd56950>),\n",
              "                ('nn',\n",
              "                 <tensorflow.python.keras.wrappers.scikit_learn.KerasRegressor object at 0x7f548bd56c50>)],\n",
              "         verbose=True)"
            ]
          },
          "metadata": {
            "tags": []
          },
          "execution_count": 9
        }
      ]
    },
    {
      "cell_type": "code",
      "metadata": {
        "id": "5iR5glU1vPdu"
      },
      "source": [
        "from sklearn.metrics import mean_squared_error\n",
        "def model_test(model, X_test, y_test):\n",
        "  y_pred = model.predict(X_test)\n",
        "  score = mean_squared_error(y_test, y_pred)\n",
        "  return score, y_pred"
      ],
      "execution_count": 12,
      "outputs": []
    },
    {
      "cell_type": "code",
      "metadata": {
        "colab": {
          "base_uri": "https://localhost:8080/"
        },
        "id": "FhIIZxExvg1C",
        "outputId": "3c5c5310-37b8-42d3-c36b-832859789bbf"
      },
      "source": [
        "train_scores, train_predictions = model_test(pipe, X_train, y_train)\n",
        "scores, predictions = model_test(pipe, X_test, y_test)\n",
        "print(train_scores)\n",
        "print(scores)"
      ],
      "execution_count": 13,
      "outputs": [
        {
          "output_type": "stream",
          "text": [
            "1875/1875 [==============================] - 7s 4ms/step\n",
            "469/469 [==============================] - 2s 3ms/step\n",
            "0.3461172461271486\n",
            "0.4796649691638189\n"
          ],
          "name": "stdout"
        }
      ]
    },
    {
      "cell_type": "markdown",
      "metadata": {
        "id": "Q_bz2tmSA8S4"
      },
      "source": [
        "# Fit the model on all training data"
      ]
    },
    {
      "cell_type": "code",
      "metadata": {
        "colab": {
          "base_uri": "https://localhost:8080/"
        },
        "id": "BD4SC0_41jCb",
        "outputId": "c7485b0d-16a8-4b34-8768-a6047b631f27"
      },
      "source": [
        "pipe.fit(X, y)\n",
        "predictions = pipe.predict(test_data)\n",
        "predictions = np.clip(predictions, a_min=1.0, a_max=5.0)"
      ],
      "execution_count": null,
      "outputs": [
        {
          "output_type": "stream",
          "text": [
            "[Pipeline] ........ (step 1 of 3) Processing preprocess, total=  11.5s\n",
            "[Pipeline] .......... (step 2 of 3) Processing to_dense, total=   1.5s\n",
            "Epoch 1/50\n",
            "2344/2344 [==============================] - 13s 5ms/step - loss: 2.0198 - mean_squared_error: 2.0198\n",
            "Epoch 2/50\n",
            "2344/2344 [==============================] - 11s 5ms/step - loss: 0.6655 - mean_squared_error: 0.6655\n",
            "Epoch 3/50\n",
            "2344/2344 [==============================] - 11s 5ms/step - loss: 0.6769 - mean_squared_error: 0.6769\n",
            "Epoch 4/50\n",
            "2344/2344 [==============================] - 11s 5ms/step - loss: 0.6928 - mean_squared_error: 0.6928\n",
            "Epoch 5/50\n",
            "2344/2344 [==============================] - 11s 5ms/step - loss: 0.6515 - mean_squared_error: 0.6515\n",
            "Epoch 6/50\n",
            "2344/2344 [==============================] - 11s 5ms/step - loss: 0.6479 - mean_squared_error: 0.6479\n",
            "Epoch 7/50\n",
            "2344/2344 [==============================] - 11s 5ms/step - loss: 0.6399 - mean_squared_error: 0.6399\n",
            "Epoch 8/50\n",
            "2344/2344 [==============================] - 11s 5ms/step - loss: 0.6144 - mean_squared_error: 0.6144\n",
            "Epoch 9/50\n",
            "2344/2344 [==============================] - 11s 5ms/step - loss: 0.5924 - mean_squared_error: 0.5924\n",
            "Epoch 10/50\n",
            "2344/2344 [==============================] - 11s 5ms/step - loss: 0.5763 - mean_squared_error: 0.5763\n",
            "Epoch 11/50\n",
            "2344/2344 [==============================] - 11s 5ms/step - loss: 0.5549 - mean_squared_error: 0.5549\n",
            "Epoch 12/50\n",
            "2344/2344 [==============================] - 11s 5ms/step - loss: 0.5533 - mean_squared_error: 0.5533\n",
            "Epoch 13/50\n",
            "2344/2344 [==============================] - 11s 5ms/step - loss: 0.5409 - mean_squared_error: 0.5409\n",
            "Epoch 14/50\n",
            "2344/2344 [==============================] - 11s 5ms/step - loss: 0.5337 - mean_squared_error: 0.5337\n",
            "Epoch 15/50\n",
            "2344/2344 [==============================] - 11s 5ms/step - loss: 0.5144 - mean_squared_error: 0.5144\n",
            "Epoch 16/50\n",
            "2344/2344 [==============================] - 11s 5ms/step - loss: 0.5063 - mean_squared_error: 0.5063\n",
            "Epoch 17/50\n",
            "2344/2344 [==============================] - 11s 5ms/step - loss: 0.5031 - mean_squared_error: 0.5031\n",
            "Epoch 18/50\n",
            "2344/2344 [==============================] - 11s 5ms/step - loss: 0.4938 - mean_squared_error: 0.4938\n",
            "Epoch 19/50\n",
            "2344/2344 [==============================] - 11s 5ms/step - loss: 0.4883 - mean_squared_error: 0.4883\n",
            "Epoch 20/50\n",
            "2344/2344 [==============================] - 11s 5ms/step - loss: 0.4900 - mean_squared_error: 0.4900\n",
            "Epoch 21/50\n",
            "2344/2344 [==============================] - 11s 5ms/step - loss: 0.4806 - mean_squared_error: 0.4806\n",
            "Epoch 22/50\n",
            "2344/2344 [==============================] - 11s 5ms/step - loss: 0.4790 - mean_squared_error: 0.4790\n",
            "Epoch 23/50\n",
            "2344/2344 [==============================] - 11s 5ms/step - loss: 0.4727 - mean_squared_error: 0.4727\n",
            "Epoch 24/50\n",
            "2344/2344 [==============================] - 11s 5ms/step - loss: 0.4541 - mean_squared_error: 0.4541\n",
            "Epoch 25/50\n",
            "2344/2344 [==============================] - 11s 5ms/step - loss: 0.4484 - mean_squared_error: 0.4484\n",
            "Epoch 26/50\n",
            "2344/2344 [==============================] - 11s 5ms/step - loss: 0.4511 - mean_squared_error: 0.4511\n",
            "Epoch 27/50\n",
            "2344/2344 [==============================] - 11s 5ms/step - loss: 0.4561 - mean_squared_error: 0.4561\n",
            "Epoch 28/50\n",
            "2344/2344 [==============================] - 11s 5ms/step - loss: 0.4368 - mean_squared_error: 0.4368\n",
            "Epoch 29/50\n",
            "2344/2344 [==============================] - 11s 5ms/step - loss: 0.4381 - mean_squared_error: 0.4381\n",
            "Epoch 30/50\n",
            "2344/2344 [==============================] - 11s 5ms/step - loss: 0.4289 - mean_squared_error: 0.4289\n",
            "Epoch 31/50\n",
            "2344/2344 [==============================] - 11s 5ms/step - loss: 0.4361 - mean_squared_error: 0.4361\n",
            "Epoch 32/50\n",
            "2344/2344 [==============================] - 11s 5ms/step - loss: 0.4270 - mean_squared_error: 0.4270\n",
            "Epoch 33/50\n",
            "2344/2344 [==============================] - 11s 5ms/step - loss: 0.4244 - mean_squared_error: 0.4244\n",
            "Epoch 34/50\n",
            "2344/2344 [==============================] - 11s 5ms/step - loss: 0.4345 - mean_squared_error: 0.4345\n",
            "Epoch 35/50\n",
            "2344/2344 [==============================] - 11s 5ms/step - loss: 0.4147 - mean_squared_error: 0.4147\n",
            "Epoch 36/50\n",
            "2344/2344 [==============================] - 11s 5ms/step - loss: 0.4115 - mean_squared_error: 0.4115\n",
            "Epoch 37/50\n",
            "2344/2344 [==============================] - 11s 5ms/step - loss: 0.4128 - mean_squared_error: 0.4128\n",
            "Epoch 38/50\n",
            "2344/2344 [==============================] - 11s 5ms/step - loss: 0.4003 - mean_squared_error: 0.4003\n",
            "Epoch 39/50\n",
            "2344/2344 [==============================] - 11s 5ms/step - loss: 0.3976 - mean_squared_error: 0.3976\n",
            "Epoch 40/50\n",
            "2344/2344 [==============================] - 11s 5ms/step - loss: 0.3939 - mean_squared_error: 0.3939\n",
            "Epoch 41/50\n",
            "2344/2344 [==============================] - 11s 5ms/step - loss: 0.3969 - mean_squared_error: 0.3969\n",
            "Epoch 42/50\n",
            "2344/2344 [==============================] - 11s 5ms/step - loss: 0.3883 - mean_squared_error: 0.3883\n",
            "Epoch 43/50\n",
            "2344/2344 [==============================] - 11s 5ms/step - loss: 0.3928 - mean_squared_error: 0.3928\n",
            "Epoch 44/50\n",
            "2344/2344 [==============================] - 11s 5ms/step - loss: 0.3877 - mean_squared_error: 0.3877\n",
            "Epoch 45/50\n",
            "2344/2344 [==============================] - 11s 5ms/step - loss: 0.3862 - mean_squared_error: 0.3862\n",
            "Epoch 46/50\n",
            "2344/2344 [==============================] - 11s 5ms/step - loss: 0.3796 - mean_squared_error: 0.3796\n",
            "Epoch 47/50\n",
            "2344/2344 [==============================] - 11s 5ms/step - loss: 0.3752 - mean_squared_error: 0.3752\n",
            "Epoch 48/50\n",
            "2344/2344 [==============================] - 11s 5ms/step - loss: 0.3758 - mean_squared_error: 0.3758\n",
            "Epoch 49/50\n",
            "2344/2344 [==============================] - 11s 5ms/step - loss: 0.3688 - mean_squared_error: 0.3688\n",
            "Epoch 50/50\n",
            "2344/2344 [==============================] - 11s 5ms/step - loss: 0.3725 - mean_squared_error: 0.3725\n",
            "[Pipeline] ................ (step 3 of 3) Processing nn, total= 9.0min\n",
            "313/313 [==============================] - 1s 2ms/step\n"
          ],
          "name": "stdout"
        }
      ]
    },
    {
      "cell_type": "code",
      "metadata": {
        "colab": {
          "base_uri": "https://localhost:8080/"
        },
        "id": "0ofBzn1stM_o",
        "outputId": "d2cb44f7-05d8-41e2-e416-a75d6bfb8d89"
      },
      "source": [
        "model_test(pipe, X, y)"
      ],
      "execution_count": null,
      "outputs": [
        {
          "output_type": "stream",
          "text": [
            "2344/2344 [==============================] - 5s 2ms/step\n"
          ],
          "name": "stdout"
        },
        {
          "output_type": "execute_result",
          "data": {
            "text/plain": [
              "(0.2871496614233061,\n",
              " array([4.565801 , 4.830697 , 4.830697 , ..., 4.5896716, 4.6962504,\n",
              "        4.830697 ], dtype=float32))"
            ]
          },
          "metadata": {
            "tags": []
          },
          "execution_count": 14
        }
      ]
    },
    {
      "cell_type": "code",
      "metadata": {
        "id": "y53kjXmPzDV2"
      },
      "source": [
        "rating_pairs_path = \"/content/drive/MyDrive/Colab Notebooks/data/rating_pairs.csv\"\n",
        "def export_to_kaggle(rating_pairs_path, predictions):\n",
        "  rating_pairs = pd.read_csv(rating_pairs_path)\n",
        "  rating_pairs['prediction'] = predictions\n",
        "  rating_pairs.to_csv(\"/content/drive/MyDrive/Colab Notebooks/data/rating_pairs_pred.csv\", index=False)"
      ],
      "execution_count": null,
      "outputs": []
    },
    {
      "cell_type": "code",
      "metadata": {
        "id": "w6x6x947zohJ"
      },
      "source": [
        "export_to_kaggle(rating_pairs_path, predictions)"
      ],
      "execution_count": null,
      "outputs": []
    }
  ]
}