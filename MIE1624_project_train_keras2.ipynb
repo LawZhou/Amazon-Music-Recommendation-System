{
  "nbformat": 4,
  "nbformat_minor": 0,
  "metadata": {
    "colab": {
      "name": "MIE1624_project_train_keras2.ipynb",
      "provenance": [],
      "mount_file_id": "1GRwcaiZWMhnY3qVBPRK80YuOtX1Nbe8d",
      "authorship_tag": "ABX9TyOSF2Xtopbsct5SbTILYyCt",
      "include_colab_link": true
    },
    "kernelspec": {
      "name": "python3",
      "display_name": "Python 3"
    },
    "language_info": {
      "name": "python"
    },
    "accelerator": "GPU"
  },
  "cells": [
    {
      "cell_type": "markdown",
      "metadata": {
        "id": "view-in-github",
        "colab_type": "text"
      },
      "source": [
        "<a href=\"https://colab.research.google.com/github/jackychencw/MIE1624_Course_Project_Group19/blob/Lawrence-nlp-preprocess/MIE1624_project_train_keras2.ipynb\" target=\"_parent\"><img src=\"https://colab.research.google.com/assets/colab-badge.svg\" alt=\"Open In Colab\"/></a>"
      ]
    },
    {
      "cell_type": "code",
      "metadata": {
        "id": "UEkoLnLbkSfd"
      },
      "source": [
        "import pandas as pd\n",
        "import numpy as np\n",
        "import sklearn"
      ],
      "execution_count": 3,
      "outputs": []
    },
    {
      "cell_type": "code",
      "metadata": {
        "id": "MNufOlrTkWpk"
      },
      "source": [
        "train_df = pd.read_csv(\"/content/drive/MyDrive/Colab Notebooks/preproced_train_df.csv\")"
      ],
      "execution_count": 4,
      "outputs": []
    },
    {
      "cell_type": "code",
      "metadata": {
        "id": "Xcc7WPgLkZMu"
      },
      "source": [
        "train_df = train_df.dropna(subset=['preproced_text'])"
      ],
      "execution_count": 5,
      "outputs": []
    },
    {
      "cell_type": "code",
      "metadata": {
        "id": "3lhlmfvqkcSS"
      },
      "source": [
        "from keras.preprocessing.text import Tokenizer\n",
        "tokenizer = Tokenizer(num_words=500)\n",
        "tokenizer.fit_on_texts(train_df['preproced_text'])\n",
        "tokenized_text = tokenizer.texts_to_matrix(train_df['preproced_text'], mode='count')"
      ],
      "execution_count": 6,
      "outputs": []
    },
    {
      "cell_type": "code",
      "metadata": {
        "id": "qtClYDCwkeMc"
      },
      "source": [
        "X = np.concatenate([tokenized_text, train_df['polarities'].values.reshape(-1, 1), train_df['subjectivities'].values.reshape(-1, 1)], axis=1)\n",
        "y = train_df['overall'].values"
      ],
      "execution_count": 7,
      "outputs": []
    },
    {
      "cell_type": "code",
      "metadata": {
        "id": "X9dP1s-wkgsa"
      },
      "source": [
        "from sklearn.model_selection import train_test_split\n",
        "X_train, X_test, y_train, y_test= train_test_split(X, y, test_size=0.2, random_state=42)"
      ],
      "execution_count": 8,
      "outputs": []
    },
    {
      "cell_type": "code",
      "metadata": {
        "id": "9yPiR35hklee"
      },
      "source": [
        "from keras.models import Sequential\n",
        "from keras.layers import Dense\n",
        "from keras.layers import LSTM\n",
        "from keras.layers import Bidirectional\n",
        "from keras.layers import concatenate\n",
        "from keras.layers import Dropout\n",
        "from keras.layers.embeddings import Embedding\n",
        "from keras import Input\n",
        "from keras import Model\n",
        "from keras.optimizers.schedules import ExponentialDecay\n",
        "from keras.callbacks import EarlyStopping, ModelCheckpoint\n",
        "\n",
        "from keras.optimizers import Adam\n",
        "class ReviewTextRegressor():\n",
        "  def __init__(self, seq_size, meta_size, output_size, lr, embedding_size, epoch, batch_size):\n",
        "    self.seq_size = seq_size\n",
        "    self.meta_size = meta_size\n",
        "    self.output_size = output_size\n",
        "    self.epoch = epoch\n",
        "    self.batch_size = batch_size\n",
        "    embedding_vecor_length = 128\n",
        "    self.model = Sequential()\n",
        "    \n",
        "\n",
        "    # 0.70\n",
        "    nlp_input = Input(shape=(seq_size,)) \n",
        "    meta_input = Input(shape=(meta_size,))\n",
        "    emb = Embedding(output_dim=embedding_vecor_length, input_dim=embedding_size, input_length=seq_size)(nlp_input) \n",
        "    nlp_out = Bidirectional(LSTM(128))(emb) \n",
        "    concat = concatenate([nlp_out, meta_input]) \n",
        "    regressor = Dense(32, activation='relu')(concat) \n",
        "    output = Dense(1, activation='relu')(regressor) \n",
        "    self.model = Model(inputs=[nlp_input , meta_input], outputs=[output])\n",
        "    lr_schedule = ExponentialDecay(\n",
        "            lr,\n",
        "            decay_steps=1874,\n",
        "            decay_rate=0.9,\n",
        "            staircase=True)\n",
        "\n",
        "    opt = Adam(learning_rate=lr_schedule)\n",
        "    self.model.compile(loss=\"mean_squared_error\", optimizer=opt, metrics=['mse'])\n",
        "    self.early_stop = EarlyStopping(monitor='loss', patience=5)\n",
        "    self.check_pt = ModelCheckpoint(filepath=\"/content/drive/MyDrive/Colab Notebooks/lr001.ckpt\", save_weights_only=True,\n",
        "                                             verbose=1)\n",
        "\n",
        "    # # 0.83\n",
        "    # nlp_input = Input(shape=(seq_size,)) \n",
        "    # meta_input = Input(shape=(meta_size,))\n",
        "    # emb = Embedding(output_dim=embedding_vecor_length, input_dim=embedding_size, input_length=seq_size)(nlp_input) \n",
        "    # nlp_out = Bidirectional(LSTM(128))(emb) \n",
        "    # concat = concatenate([nlp_out, meta_input]) \n",
        "    # regressor = Dense(32, activation='relu')(concat) \n",
        "    # output = Dense(1, activation='relu')(regressor) \n",
        "    # self.model = Model(inputs=[nlp_input , meta_input], outputs=[output])\n",
        "    # lr_schedule = ExponentialDecay(\n",
        "    #         lr,\n",
        "    #         decay_steps=10000,\n",
        "    #         decay_rate=0.96,\n",
        "    #         staircase=True)\n",
        "\n",
        "    # opt = Adam(learning_rate=lr_schedule)\n",
        "    # self.model.compile(loss=\"mean_squared_error\", optimizer=opt, metrics=['mse'])\n",
        "\n",
        "    # self.model.add(Embedding(embedding_size, embedding_vecor_length, input_length=self.input_size))\n",
        "    # # self.model.add(Dense(128, input_shape=(input_size,), activation='relu'))\n",
        "    # self.model.add(Dropout(0.2))\n",
        "    # self.model.add(LSTM(10))\n",
        "    # self.model.add(Dropout(0.2))\n",
        "    # self.model.add(Dense(1, activation='relu'))\n",
        "    # opt = Adam(learning_rate=lr)\n",
        "    # self.model.compile(loss=\"mean_squared_error\", optimizer=opt, metrics=[])\n",
        "\n",
        "  def fit(self, seq, meta, y):\n",
        "    self.model.fit([seq, meta], y, epochs=self.epoch, batch_size=self.batch_size,\n",
        "                   callbacks=[self.early_stop, self.check_pt])\n",
        "\n",
        "  def predict(self, seq, meta):\n",
        "    seq = seq.reshape(-1, self.self.seq_size)\n",
        "    meta = seq.reshape(-1, self.self.meta_size)\n",
        "    return self.model.predict([seq, meta])"
      ],
      "execution_count": 44,
      "outputs": []
    },
    {
      "cell_type": "code",
      "metadata": {
        "id": "v401v9ynktsd"
      },
      "source": [
        "num_word = 500"
      ],
      "execution_count": 45,
      "outputs": []
    },
    {
      "cell_type": "code",
      "metadata": {
        "id": "7fHrHGbQkxX4"
      },
      "source": [
        "def train(X_train, y_train, num_word, lr=0.01, epoch=30, batch_size=64):\n",
        "  X_txt_train = X_train[:, :num_word]\n",
        "  # model = ReviewTextRegressor(num_word, 2, 1, lr=lr, embedding_size=int(X_txt_train.max()+1), epoch=epoch, batch_size=batch_size)\n",
        "  model = ReviewTextRegressor(num_word, 2, 1, lr=lr, embedding_size=2000, epoch=epoch, batch_size=batch_size)\n",
        "  model.fit(X_txt_train, X_train[:, num_word:], y_train)\n",
        "  return model\n",
        "  \n",
        "  # sentiment_model = ReviewSentimentRegressor(input_size=X_train_all.shape[1], output_size=1, lr=lr, epoch=epoch, batch_size=batch_size)\n",
        "  # sentiment_model.fit(X_train_all, y_train)"
      ],
      "execution_count": 46,
      "outputs": []
    },
    {
      "cell_type": "code",
      "metadata": {
        "colab": {
          "base_uri": "https://localhost:8080/"
        },
        "id": "WKjkP_PsoSg1",
        "outputId": "68a99c60-2cf7-483c-953b-63b816527b66"
      },
      "source": [
        "model = train(X_train, y_train, num_word)"
      ],
      "execution_count": null,
      "outputs": [
        {
          "output_type": "stream",
          "text": [
            "Epoch 1/30\n",
            "1874/1874 [==============================] - 129s 67ms/step - loss: 1.2186 - mse: 1.2186\n",
            "\n",
            "Epoch 00001: saving model to /content/drive/MyDrive/Colab Notebooks/lr001.ckpt\n",
            "Epoch 2/30\n",
            "1874/1874 [==============================] - 125s 67ms/step - loss: 0.8929 - mse: 0.8929\n",
            "\n",
            "Epoch 00002: saving model to /content/drive/MyDrive/Colab Notebooks/lr001.ckpt\n",
            "Epoch 3/30\n",
            "  99/1874 [>.............................] - ETA: 1:53 - loss: 0.8685 - mse: 0.8685"
          ],
          "name": "stdout"
        }
      ]
    }
  ]
}